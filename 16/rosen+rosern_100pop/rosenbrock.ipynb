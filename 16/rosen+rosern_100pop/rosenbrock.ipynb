{
 "cells": [
  {
   "cell_type": "code",
   "execution_count": 1,
   "metadata": {},
   "outputs": [],
   "source": [
    "def keep_indices_as_nonzero(arr, indices):\n",
    "    arr = arr\n",
    "    indices = np.asarray(indices, dtype=int)\n",
    "    # 元の配列と同じ形状でゼロ配列を作成\n",
    "    result = np.zeros_like(arr)\n",
    "    # 指定されたインデックスに対応する要素をコピー\n",
    "    result[:,indices] = arr[:,indices]\n",
    "    return result\n"
   ]
  },
  {
   "cell_type": "code",
   "execution_count": 9,
   "metadata": {},
   "outputs": [
    {
     "name": "stdout",
     "output_type": "stream",
     "text": [
      "[[-0.93525651 -1.14798096 -1.57383065  0.          0.          0.        ]\n",
      " [ 3.16103711 -3.04401356  4.73352891  0.          0.          0.        ]]\n"
     ]
    }
   ],
   "source": [
    "import numpy as np\n",
    "arr = np.array([[-9.35256508e-01, -1.14798096e+00, -1.57383065e+00,  1.58821305e+00,\n",
    "                 4.04343644e+00,  3.78885890e+00],\n",
    "                [ 3.16103711e+00, -3.04401356e+00,  4.73352891e+00,  1.79542443e+00,\n",
    "                 -2.49976973e+00,  3.20240891e+00]])\n",
    "\n",
    "indices = [0, 1,2]  # 例: 2Dインデックス (浮動小数点でもOK)\n",
    "indices = np.array(indices)  # インデックスをNumPy配列に変換\n",
    "\n",
    "# 結果を表示\n",
    "result = keep_indices_as_nonzero(arr, indices)\n",
    "print(result)"
   ]
  },
  {
   "cell_type": "code",
   "execution_count": 10,
   "metadata": {},
   "outputs": [],
   "source": [
    "labels_ga = [[0,0,0],[1,1,1]]"
   ]
  },
  {
   "cell_type": "code",
   "execution_count": 11,
   "metadata": {},
   "outputs": [
    {
     "data": {
      "text/plain": [
       "[0, 0, 0]"
      ]
     },
     "execution_count": 11,
     "metadata": {},
     "output_type": "execute_result"
    }
   ],
   "source": [
    "labels_ga[0]"
   ]
  },
  {
   "cell_type": "code",
   "execution_count": 12,
   "metadata": {},
   "outputs": [
    {
     "data": {
      "text/plain": [
       "[1, 1, 1]"
      ]
     },
     "execution_count": 12,
     "metadata": {},
     "output_type": "execute_result"
    }
   ],
   "source": [
    "labels_ga[1]"
   ]
  },
  {
   "cell_type": "code",
   "execution_count": 14,
   "metadata": {},
   "outputs": [
    {
     "data": {
      "text/plain": [
       "2"
      ]
     },
     "execution_count": 14,
     "metadata": {},
     "output_type": "execute_result"
    }
   ],
   "source": [
    "labels_ga = np.array(labels_ga)\n",
    "labels_ga.shape[0]"
   ]
  },
  {
   "cell_type": "code",
   "execution_count": null,
   "metadata": {},
   "outputs": [],
   "source": [
    "pop1 = [-3.14822255  ,3.83122652,  1.65290803]\n",
    "pop2 =   [3.5546141 ,  3.50958564 ,-9.79896805]"
   ]
  },
  {
   "cell_type": "code",
   "execution_count": null,
   "metadata": {},
   "outputs": [],
   "source": [
    "def Rosenbrock(x,n):\n",
    "    value = 0\n",
    "    for i in range(n-1):\n",
    "        value += 100 * (x[i+1] - x[i]**2)**2 + (1 - x[i])**2\n",
    "    return value"
   ]
  }
 ],
 "metadata": {
  "kernelspec": {
   "display_name": "2121057",
   "language": "python",
   "name": "python3"
  },
  "language_info": {
   "codemirror_mode": {
    "name": "ipython",
    "version": 3
   },
   "file_extension": ".py",
   "mimetype": "text/x-python",
   "name": "python",
   "nbconvert_exporter": "python",
   "pygments_lexer": "ipython3",
   "version": "3.12.2"
  }
 },
 "nbformat": 4,
 "nbformat_minor": 2
}
