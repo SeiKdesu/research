{
 "cells": [
  {
   "cell_type": "code",
   "execution_count": 11,
   "metadata": {},
   "outputs": [
    {
     "name": "stdout",
     "output_type": "stream",
     "text": [
      "[[-0.93525651 -1.14798096  0.          0.          0.          0.        ]\n",
      " [ 3.16103711 -3.04401356  0.          0.          0.          0.        ]]\n"
     ]
    }
   ],
   "source": [
    "import numpy as np\n",
    "\n",
    "def keep_indices_as_nonzero(arr, indices):\n",
    "    # indicesを整数型に変換 (浮動小数点を整数に)\n",
    "    indices = np.asarray(indices).astype(int)\n",
    "    \n",
    "    # arrと同じ形状のゼロ配列を作成\n",
    "    result = np.zeros_like(arr)\n",
    "    \n",
    "    # インデックスを使用して値をコピー\n",
    "    result[:,indices] = arr[:,indices]\n",
    "    \n",
    "    \n",
    "    return result\n",
    "\n",
    "# 例\n",
    "arr = np.array([[-9.35256508e-01, -1.14798096e+00, -1.57383065e+00,  1.58821305e+00,\n",
    "                 4.04343644e+00,  3.78885890e+00],\n",
    "                [ 3.16103711e+00, -3.04401356e+00,  4.73352891e+00,  1.79542443e+00,\n",
    "                 -2.49976973e+00,  3.20240891e+00]])\n",
    "\n",
    "indices = [0, 1]  # 例: 2Dインデックス (浮動小数点でもOK)\n",
    "indices = np.array(indices)  # インデックスをNumPy配列に変換\n",
    "\n",
    "# 結果を表示\n",
    "result = keep_indices_as_nonzero(arr, indices)\n",
    "print(result)\n"
   ]
  },
  {
   "cell_type": "code",
   "execution_count": 12,
   "metadata": {},
   "outputs": [],
   "source": [
    "gnn_label = [[5],[4],[2],[3],[1],[0]]"
   ]
  },
  {
   "cell_type": "code",
   "execution_count": 24,
   "metadata": {},
   "outputs": [
    {
     "name": "stdout",
     "output_type": "stream",
     "text": [
      "[5]\n"
     ]
    }
   ],
   "source": [
    "print(gnn_label[0])"
   ]
  },
  {
   "cell_type": "code",
   "execution_count": 26,
   "metadata": {},
   "outputs": [
    {
     "name": "stdout",
     "output_type": "stream",
     "text": [
      "[5]\n"
     ]
    }
   ],
   "source": [
    "print(gnn_label[0])"
   ]
  },
  {
   "cell_type": "code",
   "execution_count": 23,
   "metadata": {},
   "outputs": [],
   "source": [
    "gnn_label = np.array(gnn_label)"
   ]
  },
  {
   "cell_type": "code",
   "execution_count": 30,
   "metadata": {},
   "outputs": [],
   "source": [
    "labels = [[5],[0],[4],[1],[6],[1]]\n",
    "labels = np.array(labels)"
   ]
  },
  {
   "cell_type": "code",
   "execution_count": 31,
   "metadata": {},
   "outputs": [
    {
     "data": {
      "text/plain": [
       "array([5])"
      ]
     },
     "execution_count": 31,
     "metadata": {},
     "output_type": "execute_result"
    }
   ],
   "source": [
    "labels[0]"
   ]
  },
  {
   "cell_type": "code",
   "execution_count": 32,
   "metadata": {},
   "outputs": [],
   "source": [
    "def keep_indices_as_nonzero(arr, indices):\n",
    "    arr = arr\n",
    "    indices = np.asarray(indices, dtype=int)\n",
    "    # 元の配列と同じ形状でゼロ配列を作成\n",
    "    result = np.zeros_like(arr)\n",
    "    # 指定されたインデックスに対応する要素をコピー\n",
    "    result[:,indices] = arr[:,indices]\n",
    "    return result"
   ]
  },
  {
   "cell_type": "code",
   "execution_count": 34,
   "metadata": {},
   "outputs": [
    {
     "data": {
      "text/plain": [
       "array([[0, 0, 0, 0, 0, 6]])"
      ]
     },
     "execution_count": 34,
     "metadata": {},
     "output_type": "execute_result"
    }
   ],
   "source": [
    "arr =  [[1,2,3,4,5,6]]\n",
    "arr = np.array(arr)\n",
    "keep_indices_as_nonzero(arr,labels[0])"
   ]
  },
  {
   "cell_type": "code",
   "execution_count": null,
   "metadata": {},
   "outputs": [],
   "source": []
  }
 ],
 "metadata": {
  "kernelspec": {
   "display_name": "2121057",
   "language": "python",
   "name": "python3"
  },
  "language_info": {
   "codemirror_mode": {
    "name": "ipython",
    "version": 3
   },
   "file_extension": ".py",
   "mimetype": "text/x-python",
   "name": "python",
   "nbconvert_exporter": "python",
   "pygments_lexer": "ipython3",
   "version": "3.12.2"
  }
 },
 "nbformat": 4,
 "nbformat_minor": 2
}
