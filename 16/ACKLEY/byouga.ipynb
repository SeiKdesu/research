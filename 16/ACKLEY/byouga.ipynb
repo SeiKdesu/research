{
 "cells": [
  {
   "cell_type": "code",
   "execution_count": null,
   "metadata": {},
   "outputs": [
    {
     "ename": "IndexError",
     "evalue": "invalid index to scalar variable.",
     "output_type": "error",
     "traceback": [
      "\u001b[0;31m---------------------------------------------------------------------------\u001b[0m",
      "\u001b[0;31mIndexError\u001b[0m                                Traceback (most recent call last)",
      "Cell \u001b[0;32mIn[1], line 27\u001b[0m\n\u001b[1;32m     25\u001b[0m y \u001b[38;5;241m=\u001b[39m np\u001b[38;5;241m.\u001b[39mlinspace(\u001b[38;5;241m-\u001b[39m\u001b[38;5;241m5\u001b[39m, \u001b[38;5;241m5\u001b[39m, \u001b[38;5;241m400\u001b[39m)\n\u001b[1;32m     26\u001b[0m X, Y \u001b[38;5;241m=\u001b[39m np\u001b[38;5;241m.\u001b[39mmeshgrid(x, y)\n\u001b[0;32m---> 27\u001b[0m Z \u001b[38;5;241m=\u001b[39m np\u001b[38;5;241m.\u001b[39marray([[\u001b[43mobjective_function\u001b[49m\u001b[43m(\u001b[49m\u001b[43m[\u001b[49m\u001b[43mxi\u001b[49m\u001b[43m,\u001b[49m\u001b[43m \u001b[49m\u001b[43myi\u001b[49m\u001b[43m]\u001b[49m\u001b[43m)\u001b[49m \u001b[38;5;28;01mfor\u001b[39;00m xi, yi \u001b[38;5;129;01min\u001b[39;00m \u001b[38;5;28mzip\u001b[39m(x_row, y_row)] \u001b[38;5;28;01mfor\u001b[39;00m x_row, y_row \u001b[38;5;129;01min\u001b[39;00m \u001b[38;5;28mzip\u001b[39m(X, Y)])\n\u001b[1;32m     29\u001b[0m \u001b[38;5;66;03m# 描画\u001b[39;00m\n\u001b[1;32m     30\u001b[0m fig \u001b[38;5;241m=\u001b[39m plt\u001b[38;5;241m.\u001b[39mfigure(figsize\u001b[38;5;241m=\u001b[39m(\u001b[38;5;241m10\u001b[39m, \u001b[38;5;241m8\u001b[39m))\n",
      "Cell \u001b[0;32mIn[1], line 18\u001b[0m, in \u001b[0;36mobjective_function\u001b[0;34m(x)\u001b[0m\n\u001b[1;32m     15\u001b[0m values\u001b[38;5;241m=\u001b[39m[]\n\u001b[1;32m     17\u001b[0m \u001b[38;5;28;01mfor\u001b[39;00m tmp \u001b[38;5;129;01min\u001b[39;00m x:\n\u001b[0;32m---> 18\u001b[0m     tmp1 \u001b[38;5;241m=\u001b[39m ackley(\u001b[43mtmp\u001b[49m\u001b[43m[\u001b[49m\u001b[38;5;241;43m0\u001b[39;49m\u001b[43m]\u001b[49m)\n\u001b[1;32m     19\u001b[0m     tmp2 \u001b[38;5;241m=\u001b[39m ackley(tmp[\u001b[38;5;241m1\u001b[39m])\n\u001b[1;32m     20\u001b[0m     values\u001b[38;5;241m.\u001b[39mappend(tmp1\u001b[38;5;241m+\u001b[39mtmp2)\n",
      "\u001b[0;31mIndexError\u001b[0m: invalid index to scalar variable."
     ]
    }
   ],
   "source": [
    "import numpy as np\n",
    "import matplotlib.pyplot as plt\n",
    "\n",
    "# Ackley関数\n",
    "def ackley(x):\n",
    "    a=20\n",
    "    b=0.2\n",
    "    c=2*np.pi\n",
    "    x = np.asarray(x)  # 入力をNumPy配列に変換\n",
    "    n = x.size         # 次元数\n",
    "    term1 = -a * np.exp(-b * np.sqrt(np.sum(x**2) / n))\n",
    "    term2 = -np.exp(np.sum(np.cos(c * x)) / n)\n",
    "    return term1 + term2 + a + np.exp(1)\n",
    "def objective_function(x):\n",
    "    values=[]\n",
    "\n",
    "    for tmp in x:\n",
    "        tmp1 = ackley(tmp[0])\n",
    "        tmp2 = ackley(tmp[1])\n",
    "        values.append(tmp1+tmp2)\n",
    "    return np.array(values).reshape(-1,1)\n",
    "\n",
    "# 2次元のAckley関数の値を計算する\n",
    "x = np.linspace(-5, 5, 400)\n",
    "y = np.linspace(-5, 5, 400)\n",
    "X, Y = np.meshgrid(x, y)\n",
    "input = np.vstack(X,Y)\n",
    "Z = np.array(objective_function(input))\n",
    "# Z = np.array([[objective_function(input) for xi, yi in zip(x_row, y_row)] for x_row, y_row in zip(X, Y)])\n",
    "\n",
    "# 描画\n",
    "fig = plt.figure(figsize=(10, 8))\n",
    "ax = fig.add_subplot(111, projection='3d')\n",
    "ax.plot_surface(X, Y, Z, cmap='viridis')\n",
    "\n",
    "# ラベル設定\n",
    "ax.set_xlabel('X')\n",
    "ax.set_ylabel('Y')\n",
    "ax.set_zlabel('Ackley(x, y)')\n",
    "\n",
    "plt.show()\n"
   ]
  }
 ],
 "metadata": {
  "kernelspec": {
   "display_name": "2121057",
   "language": "python",
   "name": "python3"
  },
  "language_info": {
   "codemirror_mode": {
    "name": "ipython",
    "version": 3
   },
   "file_extension": ".py",
   "mimetype": "text/x-python",
   "name": "python",
   "nbconvert_exporter": "python",
   "pygments_lexer": "ipython3",
   "version": "3.12.2"
  }
 },
 "nbformat": 4,
 "nbformat_minor": 2
}
