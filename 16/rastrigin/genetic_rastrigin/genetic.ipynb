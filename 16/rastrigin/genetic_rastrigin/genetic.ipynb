{
 "cells": [
  {
   "cell_type": "code",
   "execution_count": 1,
   "metadata": {},
   "outputs": [
    {
     "data": {
      "text/plain": [
       "array([-3.52975075,  0.65377612, -3.73077902, -3.86404551,  3.41135015,\n",
       "       -2.59225107])"
      ]
     },
     "execution_count": 1,
     "metadata": {},
     "output_type": "execute_result"
    }
   ],
   "source": [
    "import numpy as np\n",
    "bound = 5.12\n",
    "dim = 6\n",
    "np.random.uniform(-bound, bound, dim)"
   ]
  },
  {
   "cell_type": "code",
   "execution_count": 1,
   "metadata": {},
   "outputs": [],
   "source": [
    "def rastrigin(x):\n",
    "    A = 10\n",
    "    x = np.asarray(x)  # 入力をNumPy配列に変換\n",
    "    n = x.size         # 次元数\n",
    "    term1 = A * n\n",
    "    term2 = np.sum(x**2 - A * np.cos(2 * np.pi * x))\n",
    "    return term1 + term2\n",
    "def objective_function_ga(x,dim):\n",
    "    n_rosenbrock = dim\n",
    "   \n",
    "    rosen_value = rastrigin(x)\n",
    "    print(rosen_value)\n",
    "    return rosen_value\n"
   ]
  },
  {
   "cell_type": "code",
   "execution_count": 2,
   "metadata": {},
   "outputs": [],
   "source": [
    "x = [0.4036,0.0096,-0.977,-0.0070,0.011,-0.99]"
   ]
  },
  {
   "cell_type": "code",
   "execution_count": 5,
   "metadata": {},
   "outputs": [
    {
     "name": "stdout",
     "output_type": "stream",
     "text": [
      "20.49453033738377\n"
     ]
    },
    {
     "data": {
      "text/plain": [
       "np.float64(20.49453033738377)"
      ]
     },
     "execution_count": 5,
     "metadata": {},
     "output_type": "execute_result"
    }
   ],
   "source": [
    "import numpy as np\n",
    "objective_function_ga(x,dim=6)"
   ]
  },
  {
   "cell_type": "code",
   "execution_count": null,
   "metadata": {},
   "outputs": [],
   "source": []
  }
 ],
 "metadata": {
  "kernelspec": {
   "display_name": "2121057",
   "language": "python",
   "name": "python3"
  },
  "language_info": {
   "codemirror_mode": {
    "name": "ipython",
    "version": 3
   },
   "file_extension": ".py",
   "mimetype": "text/x-python",
   "name": "python",
   "nbconvert_exporter": "python",
   "pygments_lexer": "ipython3",
   "version": "3.12.2"
  }
 },
 "nbformat": 4,
 "nbformat_minor": 2
}
