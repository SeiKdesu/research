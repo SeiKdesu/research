{
 "cells": [
  {
   "cell_type": "markdown",
   "metadata": {
    "colab_type": "text",
    "id": "view-in-github"
   },
   "source": [
    "<a href=\"https://colab.research.google.com/github/jegraham/1-GNN-Clustering/blob/main/GCN_Simplified_Graham%2C_Jessica_GAE_Clustering_Phase_1_KMeans.ipynb\" target=\"_parent\"><img src=\"https://colab.research.google.com/assets/colab-badge.svg\" alt=\"Open In Colab\"/></a>"
   ]
  },
  {
   "cell_type": "markdown",
   "metadata": {
    "id": "4ldsze3w3rue"
   },
   "source": [
    "# Simple K-Means GNN Implementation (Step 1)\n",
    "\n",
    "This is the initial GNN implementation as referenced in WIDECOMM 2023 Paper Submission. Our implementation uses encoders and decoders with GAT, GCN, and GraphSAGE Layers. Parameters can be modified under the 'Testing Parameters' Section and will be implemented throughout the code."
   ]
  },
  {
   "cell_type": "markdown",
   "metadata": {
    "id": "Sb-xmHEa3WAu"
   },
   "source": [
    "## Import"
   ]
  },
  {
   "cell_type": "markdown",
   "metadata": {
    "id": "3Drwcr3e9Fqe"
   },
   "source": [
    "### Import Libraries"
   ]
  },
  {
   "cell_type": "code",
   "execution_count": 1,
   "metadata": {
    "id": "2yiOVK-_TEKe"
   },
   "outputs": [],
   "source": [
    "import os\n",
    "import os.path as osp\n",
    "import shutil\n",
    "import pandas as pd\n",
    "import random\n",
    "import datetime\n",
    "\n",
    "# libraries for the files in google drive\n",
    "# from pydrive.auth import GoogleAuth\n",
    "# from google.colab import drive\n",
    "# from pydrive.drive import GoogleDrive\n",
    "# from google.colab import auth\n",
    "# from oauth2client.client import GoogleCredentials"
   ]
  },
  {
   "cell_type": "code",
   "execution_count": 2,
   "metadata": {
    "colab": {
     "base_uri": "https://localhost:8080/"
    },
    "id": "VwJGvlNqsoW6",
    "outputId": "6c4e797b-260b-4cce-e7ef-7ac60bc491e3"
   },
   "outputs": [
    {
     "name": "stdout",
     "output_type": "stream",
     "text": [
      "2.5.1+cu124\n",
      "Using cuda.\n",
      "\u001b[33mDEPRECATION: Loading egg at /home/csl-stu/.pyenv/versions/3.12.2/envs/2121057/lib/python3.12/site-packages/h5py-3.12.1-py3.12-linux-x86_64.egg is deprecated. pip 25.1 will enforce this behaviour change. A possible replacement is to use pip for package installation. Discussion can be found at https://github.com/pypa/pip/issues/12330\u001b[0m\u001b[33m\n",
      "\u001b[0mUsing pip 24.3.1 from /home/csl-stu/.pyenv/versions/3.12.2/envs/2121057/lib/python3.12/site-packages/pip (python 3.12)\n",
      "\u001b[33mDEPRECATION: Loading egg at /home/csl-stu/.pyenv/versions/3.12.2/envs/2121057/lib/python3.12/site-packages/h5py-3.12.1-py3.12-linux-x86_64.egg is deprecated. pip 25.1 will enforce this behaviour change. A possible replacement is to use pip for package installation. Discussion can be found at https://github.com/pypa/pip/issues/12330\u001b[0m\u001b[33m\n",
      "\u001b[0mRequirement already satisfied: torch-scatter in /home/csl-stu/.pyenv/versions/3.12.2/envs/2121057/lib/python3.12/site-packages (2.1.2+pt25cu124)\n",
      "\u001b[33mDEPRECATION: Loading egg at /home/csl-stu/.pyenv/versions/3.12.2/envs/2121057/lib/python3.12/site-packages/h5py-3.12.1-py3.12-linux-x86_64.egg is deprecated. pip 25.1 will enforce this behaviour change. A possible replacement is to use pip for package installation. Discussion can be found at https://github.com/pypa/pip/issues/12330\u001b[0m\u001b[33m\n",
      "\u001b[0m\u001b[33mDEPRECATION: Loading egg at /home/csl-stu/.pyenv/versions/3.12.2/envs/2121057/lib/python3.12/site-packages/h5py-3.12.1-py3.12-linux-x86_64.egg is deprecated. pip 25.1 will enforce this behaviour change. A possible replacement is to use pip for package installation. Discussion can be found at https://github.com/pypa/pip/issues/12330\u001b[0m\u001b[33m\n",
      "\u001b[0m  \u001b[1;31merror\u001b[0m: \u001b[1msubprocess-exited-with-error\u001b[0m\n",
      "  \n",
      "  \u001b[31m×\u001b[0m \u001b[32mgit clone --\u001b[0m\u001b[32mfilter\u001b[0m\u001b[32m=\u001b[0m\u001b[32mblob\u001b[0m\u001b[32m:none --quiet \u001b[0m\u001b[4;32mhttps://github.com/pyg-team/pytorch_geometric.git\u001b[0m\u001b[32m \u001b[0m\u001b[32m/tmp/\u001b[0m\u001b[32mpip-req-build-pkc7cjbf\u001b[0m did not run successfully.\n",
      "  \u001b[31m│\u001b[0m exit code: \u001b[1;36m128\u001b[0m\n",
      "  \u001b[31m╰─>\u001b[0m \u001b[31m[1 lines of output]\u001b[0m\n",
      "  \u001b[31m   \u001b[0m fatal: unable to access 'https://github.com/pyg-team/pytorch_geometric.git/': Failed to connect to 133.78.130.254 port 8081 after 0 ms: 接続を拒否されました\n",
      "  \u001b[31m   \u001b[0m \u001b[31m[end of output]\u001b[0m\n",
      "  \n",
      "  \u001b[1;35mnote\u001b[0m: This error originates from a subprocess, and is likely not a problem with pip.\n",
      "\u001b[1;31merror\u001b[0m: \u001b[1msubprocess-exited-with-error\u001b[0m\n",
      "\n",
      "\u001b[31m×\u001b[0m \u001b[32mgit clone --\u001b[0m\u001b[32mfilter\u001b[0m\u001b[32m=\u001b[0m\u001b[32mblob\u001b[0m\u001b[32m:none --quiet \u001b[0m\u001b[4;32mhttps://github.com/pyg-team/pytorch_geometric.git\u001b[0m\u001b[32m \u001b[0m\u001b[32m/tmp/\u001b[0m\u001b[32mpip-req-build-pkc7cjbf\u001b[0m did not run successfully.\n",
      "\u001b[31m│\u001b[0m exit code: \u001b[1;36m128\u001b[0m\n",
      "\u001b[31m╰─>\u001b[0m See above for output.\n",
      "\n",
      "\u001b[1;35mnote\u001b[0m: This error originates from a subprocess, and is likely not a problem with pip.\n",
      "\u001b[33mDEPRECATION: Loading egg at /home/csl-stu/.pyenv/versions/3.12.2/envs/2121057/lib/python3.12/site-packages/h5py-3.12.1-py3.12-linux-x86_64.egg is deprecated. pip 25.1 will enforce this behaviour change. A possible replacement is to use pip for package installation. Discussion can be found at https://github.com/pypa/pip/issues/12330\u001b[0m\u001b[33m\n",
      "\u001b[0mRequirement already satisfied: torch_geometric in /home/csl-stu/.pyenv/versions/3.12.2/envs/2121057/lib/python3.12/site-packages (2.6.1)\n",
      "Requirement already satisfied: pandas in /home/csl-stu/.pyenv/versions/3.12.2/envs/2121057/lib/python3.12/site-packages (2.2.3)\n",
      "Requirement already satisfied: aiohttp in /home/csl-stu/.pyenv/versions/3.12.2/envs/2121057/lib/python3.12/site-packages (from torch_geometric) (3.11.8)\n",
      "Requirement already satisfied: fsspec in /home/csl-stu/.pyenv/versions/3.12.2/envs/2121057/lib/python3.12/site-packages (from torch_geometric) (2024.9.0)\n",
      "Requirement already satisfied: jinja2 in /home/csl-stu/.pyenv/versions/3.12.2/envs/2121057/lib/python3.12/site-packages (from torch_geometric) (3.1.4)\n",
      "Requirement already satisfied: numpy in /home/csl-stu/.pyenv/versions/3.12.2/envs/2121057/lib/python3.12/site-packages (from torch_geometric) (2.0.2)\n",
      "Requirement already satisfied: psutil>=5.8.0 in /home/csl-stu/.pyenv/versions/3.12.2/envs/2121057/lib/python3.12/site-packages (from torch_geometric) (6.1.0)\n",
      "Requirement already satisfied: pyparsing in /home/csl-stu/.pyenv/versions/3.12.2/envs/2121057/lib/python3.12/site-packages (from torch_geometric) (3.2.0)\n",
      "Requirement already satisfied: requests in /home/csl-stu/.pyenv/versions/3.12.2/envs/2121057/lib/python3.12/site-packages (from torch_geometric) (2.32.3)\n",
      "Requirement already satisfied: tqdm in /home/csl-stu/.pyenv/versions/3.12.2/envs/2121057/lib/python3.12/site-packages (from torch_geometric) (4.67.1)\n",
      "Requirement already satisfied: python-dateutil>=2.8.2 in /home/csl-stu/.pyenv/versions/3.12.2/envs/2121057/lib/python3.12/site-packages (from pandas) (2.9.0.post0)\n",
      "Requirement already satisfied: pytz>=2020.1 in /home/csl-stu/.pyenv/versions/3.12.2/envs/2121057/lib/python3.12/site-packages (from pandas) (2024.2)\n",
      "Requirement already satisfied: tzdata>=2022.7 in /home/csl-stu/.pyenv/versions/3.12.2/envs/2121057/lib/python3.12/site-packages (from pandas) (2024.2)\n",
      "Requirement already satisfied: six>=1.5 in /home/csl-stu/.pyenv/versions/3.12.2/envs/2121057/lib/python3.12/site-packages (from python-dateutil>=2.8.2->pandas) (1.16.0)\n",
      "Requirement already satisfied: aiohappyeyeballs>=2.3.0 in /home/csl-stu/.pyenv/versions/3.12.2/envs/2121057/lib/python3.12/site-packages (from aiohttp->torch_geometric) (2.4.3)\n",
      "Requirement already satisfied: aiosignal>=1.1.2 in /home/csl-stu/.pyenv/versions/3.12.2/envs/2121057/lib/python3.12/site-packages (from aiohttp->torch_geometric) (1.3.1)\n",
      "Requirement already satisfied: attrs>=17.3.0 in /home/csl-stu/.pyenv/versions/3.12.2/envs/2121057/lib/python3.12/site-packages (from aiohttp->torch_geometric) (24.2.0)\n",
      "Requirement already satisfied: frozenlist>=1.1.1 in /home/csl-stu/.pyenv/versions/3.12.2/envs/2121057/lib/python3.12/site-packages (from aiohttp->torch_geometric) (1.5.0)\n",
      "Requirement already satisfied: multidict<7.0,>=4.5 in /home/csl-stu/.pyenv/versions/3.12.2/envs/2121057/lib/python3.12/site-packages (from aiohttp->torch_geometric) (6.1.0)\n",
      "Requirement already satisfied: propcache>=0.2.0 in /home/csl-stu/.pyenv/versions/3.12.2/envs/2121057/lib/python3.12/site-packages (from aiohttp->torch_geometric) (0.2.0)\n",
      "Requirement already satisfied: yarl<2.0,>=1.17.0 in /home/csl-stu/.pyenv/versions/3.12.2/envs/2121057/lib/python3.12/site-packages (from aiohttp->torch_geometric) (1.18.0)\n",
      "Requirement already satisfied: MarkupSafe>=2.0 in /home/csl-stu/.pyenv/versions/3.12.2/envs/2121057/lib/python3.12/site-packages (from jinja2->torch_geometric) (3.0.2)\n",
      "Requirement already satisfied: charset-normalizer<4,>=2 in /home/csl-stu/.pyenv/versions/3.12.2/envs/2121057/lib/python3.12/site-packages (from requests->torch_geometric) (3.4.0)\n",
      "Requirement already satisfied: idna<4,>=2.5 in /home/csl-stu/.pyenv/versions/3.12.2/envs/2121057/lib/python3.12/site-packages (from requests->torch_geometric) (3.10)\n",
      "Requirement already satisfied: urllib3<3,>=1.21.1 in /home/csl-stu/.pyenv/versions/3.12.2/envs/2121057/lib/python3.12/site-packages (from requests->torch_geometric) (2.2.3)\n",
      "Requirement already satisfied: certifi>=2017.4.17 in /home/csl-stu/.pyenv/versions/3.12.2/envs/2121057/lib/python3.12/site-packages (from requests->torch_geometric) (2024.8.30)\n",
      "\u001b[33mDEPRECATION: Loading egg at /home/csl-stu/.pyenv/versions/3.12.2/envs/2121057/lib/python3.12/site-packages/h5py-3.12.1-py3.12-linux-x86_64.egg is deprecated. pip 25.1 will enforce this behaviour change. A possible replacement is to use pip for package installation. Discussion can be found at https://github.com/pypa/pip/issues/12330\u001b[0m\u001b[33m\n",
      "\u001b[0mRequirement already satisfied: scikit-learn in /home/csl-stu/.pyenv/versions/3.12.2/envs/2121057/lib/python3.12/site-packages (1.5.2)\n",
      "Requirement already satisfied: numpy>=1.19.5 in /home/csl-stu/.pyenv/versions/3.12.2/envs/2121057/lib/python3.12/site-packages (from scikit-learn) (2.0.2)\n",
      "Requirement already satisfied: scipy>=1.6.0 in /home/csl-stu/.pyenv/versions/3.12.2/envs/2121057/lib/python3.12/site-packages (from scikit-learn) (1.14.1)\n",
      "Requirement already satisfied: joblib>=1.2.0 in /home/csl-stu/.pyenv/versions/3.12.2/envs/2121057/lib/python3.12/site-packages (from scikit-learn) (1.4.2)\n",
      "Requirement already satisfied: threadpoolctl>=3.1.0 in /home/csl-stu/.pyenv/versions/3.12.2/envs/2121057/lib/python3.12/site-packages (from scikit-learn) (3.5.0)\n"
     ]
    }
   ],
   "source": [
    "import torch\n",
    "os.environ['TORCH'] = torch.__version__\n",
    "print(torch.__version__)\n",
    "\n",
    "# GPU Usage Guide - https://medium.com/@natsunoyuki/speeding-up-model-training-with-google-colab-b1ad7c48573e\n",
    "if torch.cuda.is_available():\n",
    "    device_name = torch.device(\"cuda\")\n",
    "else:\n",
    "    device_name = torch.device('cpu')\n",
    "print(\"Using {}.\".format(device_name))\n",
    "\n",
    "!pip install -q torch-scatter -f https://data.pyg.org/whl/torch-${TORCH}.html\n",
    "!pip install --verbose torch-scatter\n",
    "!pip install -q torch-sparse -f https://data.pyg.org/whl/torch-${TORCH}.html\n",
    "!pip install -q git+https://github.com/pyg-team/pytorch_geometric.git\n",
    "!pip install torch_geometric pandas\n",
    "!pip install scikit-learn\n",
    "\n",
    "from collections import Counter\n",
    "import matplotlib.pyplot as plt\n",
    "import math\n",
    "import networkx as nx\n",
    "import numpy as np\n",
    "from scipy.spatial.distance import cdist, squareform\n",
    "from scipy import stats\n",
    "from sklearn.cluster import KMeans, MeanShift, AffinityPropagation, FeatureAgglomeration, SpectralClustering, MiniBatchKMeans, Birch, DBSCAN, OPTICS, AgglomerativeClustering\n",
    "from sklearn.impute import SimpleImputer\n",
    "from sklearn.mixture import GaussianMixture\n",
    "from sklearn.metrics import confusion_matrix, pairwise_distances, davies_bouldin_score, silhouette_score, calinski_harabasz_score, adjusted_rand_score, normalized_mutual_info_score\n",
    "from torch_geometric.data import Data, InMemoryDataset, download_url\n",
    "from torch_geometric.loader import DataLoader\n",
    "from torch_geometric.datasets import Planetoid, TUDataset\n",
    "import torch_geometric.transforms as T\n",
    "from torch_geometric.nn import GCNConv, SAGEConv, GAE, GINConv, GATConv\n",
    "from torch_geometric.utils import train_test_split_edges, to_networkx, from_networkx, to_dense_adj\n",
    "from torch_geometric.transforms import NormalizeFeatures, ToDevice, RandomLinkSplit, RemoveDuplicatedEdges\n",
    "import torch.nn.functional as F\n"
   ]
  },
  {
   "cell_type": "code",
   "execution_count": 3,
   "metadata": {
    "colab": {
     "base_uri": "https://localhost:8080/"
    },
    "id": "_bEuz-wxm2-A",
    "outputId": "c0f3a576-1561-4e1a-bfb6-8c44926505fe"
   },
   "outputs": [
    {
     "name": "stdout",
     "output_type": "stream",
     "text": [
      "Tue Dec  3 11:03:21 2024       \n",
      "+-----------------------------------------------------------------------------------------+\n",
      "| NVIDIA-SMI 555.42.06              Driver Version: 555.42.06      CUDA Version: 12.5     |\n",
      "|-----------------------------------------+------------------------+----------------------+\n",
      "| GPU  Name                 Persistence-M | Bus-Id          Disp.A | Volatile Uncorr. ECC |\n",
      "| Fan  Temp   Perf          Pwr:Usage/Cap |           Memory-Usage | GPU-Util  Compute M. |\n",
      "|                                         |                        |               MIG M. |\n",
      "|=========================================+========================+======================|\n",
      "|   0  NVIDIA GeForce GTX 1080 Ti     Off |   00000000:01:00.0 Off |                  N/A |\n",
      "| 20%   34C    P8              9W /  250W |      71MiB /  11264MiB |      0%      Default |\n",
      "|                                         |                        |                  N/A |\n",
      "+-----------------------------------------+------------------------+----------------------+\n",
      "                                                                                         \n",
      "+-----------------------------------------------------------------------------------------+\n",
      "| Processes:                                                                              |\n",
      "|  GPU   GI   CI        PID   Type   Process name                              GPU Memory |\n",
      "|        ID   ID                                                               Usage      |\n",
      "|=========================================================================================|\n",
      "|    0   N/A  N/A      1204      G   /usr/lib/xorg/Xorg                             56MiB |\n",
      "|    0   N/A  N/A      1282      G   /usr/bin/gnome-shell                            8MiB |\n",
      "+-----------------------------------------------------------------------------------------+\n"
     ]
    }
   ],
   "source": [
    "!nvidia-smi"
   ]
  },
  {
   "cell_type": "markdown",
   "metadata": {
    "id": "1jGaOXLOskRf"
   },
   "source": [
    "### Import the Dataset"
   ]
  },
  {
   "cell_type": "markdown",
   "metadata": {
    "id": "HTa3hKUGuXLn"
   },
   "source": [
    "Process the Data Frame - Modified Code from - https://github.com/jegraham/csv_to_dataframe_to_graph/blob/master/.idea/csv_to_datadrame_conversion.py"
   ]
  },
  {
   "cell_type": "code",
   "execution_count": 4,
   "metadata": {
    "colab": {
     "base_uri": "https://localhost:8080/"
    },
    "id": "uUior2S8bAth",
    "outputId": "576e45b1-c830-489b-d5d9-b2e20c48cbcd"
   },
   "outputs": [],
   "source": [
    "# # from google.colab import files\n",
    "\n",
    "# file_name = 'May 4th Dataset Car and Tower  - Sheet1.csv'\n",
    "# print(file_name)\n",
    "# df = pd.read_csv(file_name)\n",
    "# df = df.reset_index(drop=True)\n",
    "\n",
    "# print(df.head())"
   ]
  },
  {
   "cell_type": "markdown",
   "metadata": {
    "id": "KsLqZ7BHDean"
   },
   "source": [
    "## Testing Parameters"
   ]
  },
  {
   "cell_type": "code",
   "execution_count": 5,
   "metadata": {
    "id": "NZI4rFYmDu7n"
   },
   "outputs": [],
   "source": [
    "# Define the root directory where the dataset will be stored\n",
    "root = './'\n",
    "version = 'v1'\n",
    "run_id = 'GAT_1000_k_50_dist_150_250_500_transform'\n",
    "\n",
    "# File Path\n",
    "folder_path = f'./results/{run_id}_{version}/'\n",
    "os.makedirs(folder_path, exist_ok=True)\n",
    "\n",
    "\n",
    "# Define the Number of Clusters\n",
    "num_clusters = 50\n",
    "K = num_clusters\n",
    "clusters = []\n",
    "\n",
    "num_Infrastructure = 10 #The number of RSU and Towers in the Dataset (always at the start of the dataset)\n",
    "max_dist_tower = 500 #V2I\n",
    "max_dist_rsu = 250 #V2R\n",
    "max_dist = 150 #V2V\n",
    "\n",
    "# Channel Parameters & GAE MODEL\n",
    "in_channels = 3\n",
    "hidden_channels = 5\n",
    "out_channels = 2\n",
    "\n",
    "# Transform Parameters\n",
    "transform_set = True\n",
    "\n",
    "# Optimizer Parameters (learning rate)\n",
    "learn_rate = 0.001\n",
    "\n",
    "# Epochs or the number of generation/iterations of the training dataset\n",
    "# epoch and n_init refers to the number of times the clustering algorithm will run different initializations\n",
    "epochs = 4000\n",
    "n = 1000"
   ]
  },
  {
   "cell_type": "markdown",
   "metadata": {
    "id": "txzyzTnW0TsR"
   },
   "source": [
    "# Run GNN"
   ]
  },
  {
   "cell_type": "markdown",
   "metadata": {
    "id": "ppboTeDA022M"
   },
   "source": [
    "## InMemory Dataset\n",
    "\n",
    "Convert Dataset to same format as Planetoid - https://pytorch-geometric.readthedocs.io/en/latest/tutorial/create_dataset.html"
   ]
  },
  {
   "cell_type": "code",
   "execution_count": 6,
   "metadata": {
    "id": "Qgg-DjNl01Ps"
   },
   "outputs": [],
   "source": [
    "class MyDataset(InMemoryDataset):\n",
    "    def __init__(self, root, file_name, transform=None, pre_transform=None):\n",
    "        self.filename = file_name\n",
    "        super().__init__(root, transform, pre_transform)\n",
    "        self.data = torch.load(self.processed_paths[0])\n",
    "\n",
    "    @property\n",
    "    def raw_file_names(self):\n",
    "        return [self.filename]\n",
    "\n",
    "    @property\n",
    "    def processed_file_names(self):\n",
    "        return ['data.pt']\n",
    "\n",
    "    def download(self):\n",
    "        from_path = os.path.join(self.root, self.filename)\n",
    "        to_path = dest = os.path.join(self.raw_dir, self.filename)\n",
    "        df = pd.read_csv(from_path)\n",
    "        df.reset_index(drop=True)\n",
    "        df.to_csv(to_path,index=False)\n",
    "\n",
    "    def read_file(self):\n",
    "        path = osp.join(self.raw_dir, self.filename)\n",
    "        df = pd.read_csv(path)\n",
    "        df = df.reset_index(drop=True)\n",
    "\n",
    "        df['Type'] = 0\n",
    "        df['Type'] = np.where((df['Car ID'].str.contains('RSU')), 2, df['Type'])\n",
    "        df['Type'] = np.where((df['Car ID'].str.contains('Tower')), 1, df['Type'])\n",
    "        df = df.drop(columns=['Car ID'])\n",
    "        return df\n",
    "\n",
    "    def process(self):\n",
    "        df = self.read_file()\n",
    "        df = df.reset_index(drop=True)\n",
    "\n",
    "        edge_source = []\n",
    "        edge_target = []\n",
    "\n",
    "\n",
    "        # Loop row by row to add the edges to the graph\n",
    "        for i in range(0, len(df)):\n",
    "            # Inner loop to iterate through all other vehicles\n",
    "            for j in range(i+1, len(df)):\n",
    "                  if i != j:\n",
    "                    dist = math.sqrt((df.iloc[j]['X']-df.iloc[i]['X'])**2 + (df.iloc[j]['Y']-df.iloc[i]['Y'])**2)\n",
    "\n",
    "                    if (df.iloc[i]['Type'] == 2) or (df.iloc[j]['Type'] == 2):  # RSU\n",
    "                      # Distance between anything and the Car/Tower/RSU in question\n",
    "                      # tower to car, tower to tower\n",
    "                      if 0 < dist <= max_dist_rsu:\n",
    "                          edge_source.append(i)#No direction\n",
    "                          edge_target.append(j)\n",
    "                          edge_source.append(j)#No direction\n",
    "                          edge_target.append(i)\n",
    "                    if (df.iloc[i]['Type'] == 1) or (df.iloc[j]['Type'] == 1):\n",
    "                       if 0 < dist <= max_dist_tower:\n",
    "                          edge_source.append(i)#No direction\n",
    "                          edge_target.append(j)\n",
    "                          edge_source.append(j)#No direction\n",
    "                          edge_target.append(i)\n",
    "                    else :\n",
    "                      if 0 < dist <= max_dist:\n",
    "                          edge_source.append(i)#No direction\n",
    "                          edge_target.append(j)\n",
    "                          edge_source.append(j)#No direction\n",
    "                          edge_target.append(i)\n",
    "\n",
    "        data = Data(\n",
    "            x=torch.tensor(df.values, dtype=torch.float),\n",
    "            edge_index=torch.tensor([edge_source, edge_target], dtype=torch.long)\n",
    "        )\n",
    "        torch.save(data, self.processed_paths[0])"
   ]
  },
  {
   "cell_type": "markdown",
   "metadata": {
    "id": "zQVGMoHWTEKi"
   },
   "source": [
    "## Graph AutoEncoder GAE\n",
    "\n",
    "Graph AutoEncoders GAE &  \n",
    "Variational Graph Autoencoders VGAE    \n",
    "\n",
    "[Tutorial 6 paper](https://arxiv.org/pdf/1611.07308.pdf)  \n",
    "[Tutorial 6 code](https://github.com/rusty1s/pytorch_geometric/blob/master/examples/autoencoder.py)"
   ]
  },
  {
   "cell_type": "markdown",
   "metadata": {
    "id": "glKKtyR-TEKi"
   },
   "source": [
    "### Load the data"
   ]
  },
  {
   "cell_type": "code",
   "execution_count": 7,
   "metadata": {
    "colab": {
     "base_uri": "https://localhost:8080/"
    },
    "id": "SW3bUbmnTEKi",
    "outputId": "1ad99981-1c8f-4164-a3f1-4bd79685319c"
   },
   "outputs": [
    {
     "name": "stdout",
     "output_type": "stream",
     "text": [
      "Using cuda device\n",
      "NeuralNetwork(\n",
      "  (flatten): Flatten(start_dim=1, end_dim=-1)\n",
      "  (linear_relu_stack): Sequential(\n",
      "    (0): Linear(in_features=6, out_features=12, bias=True)\n",
      "    (1): Linear(in_features=12, out_features=10, bias=True)\n",
      "    (2): Linear(in_features=10, out_features=5, bias=True)\n",
      "    (3): Linear(in_features=5, out_features=2, bias=True)\n",
      "    (4): Linear(in_features=2, out_features=1, bias=True)\n",
      "  )\n",
      ")\n",
      "Epoch 1\n",
      "-------------------------------\n",
      "Test Error: \n",
      " Avg loss: 4852441600.000000 \n",
      "\n",
      "Done!\n",
      "Epoch 2\n",
      "-------------------------------\n",
      "Test Error: \n",
      " Avg loss: 4852376064.000000 \n",
      "\n",
      "Done!\n",
      "Epoch 3\n",
      "-------------------------------\n",
      "Test Error: \n",
      " Avg loss: 4852249088.000000 \n",
      "\n",
      "Done!\n",
      "Epoch 4\n",
      "-------------------------------\n",
      "Test Error: \n",
      " Avg loss: 4851994624.000000 \n",
      "\n",
      "Done!\n",
      "Epoch 5\n",
      "-------------------------------\n",
      "Test Error: \n",
      " Avg loss: 4851480064.000000 \n",
      "\n",
      "Done!\n",
      "Epoch 6\n",
      "-------------------------------\n",
      "Test Error: \n",
      " Avg loss: 4850457600.000000 \n",
      "\n",
      "Done!\n",
      "Epoch 7\n",
      "-------------------------------\n",
      "Test Error: \n",
      " Avg loss: 4848492032.000000 \n",
      "\n",
      "Done!\n",
      "Epoch 8\n",
      "-------------------------------\n",
      "Test Error: \n",
      " Avg loss: 4844847616.000000 \n",
      "\n",
      "Done!\n",
      "Epoch 9\n",
      "-------------------------------\n",
      "Test Error: \n",
      " Avg loss: 4838369280.000000 \n",
      "\n",
      "Done!\n",
      "Epoch 10\n",
      "-------------------------------\n",
      "Test Error: \n",
      " Avg loss: 4827325952.000000 \n",
      "\n",
      "Done!\n",
      "Epoch 11\n",
      "-------------------------------\n",
      "Test Error: \n",
      " Avg loss: 4809295872.000000 \n",
      "\n",
      "Done!\n",
      "Epoch 12\n",
      "-------------------------------\n",
      "Test Error: \n",
      " Avg loss: 4781147648.000000 \n",
      "\n",
      "Done!\n",
      "Epoch 13\n",
      "-------------------------------\n",
      "Test Error: \n",
      " Avg loss: 4739308032.000000 \n",
      "\n",
      "Done!\n",
      "Epoch 14\n",
      "-------------------------------\n",
      "Test Error: \n",
      " Avg loss: 4680563712.000000 \n",
      "\n",
      "Done!\n",
      "Epoch 15\n",
      "-------------------------------\n",
      "Test Error: \n",
      " Avg loss: 4603754496.000000 \n",
      "\n",
      "Done!\n",
      "Epoch 16\n",
      "-------------------------------\n",
      "Test Error: \n",
      " Avg loss: 4512522240.000000 \n",
      "\n",
      "Done!\n",
      "Epoch 17\n",
      "-------------------------------\n",
      "Test Error: \n",
      " Avg loss: 4418308608.000000 \n",
      "\n",
      "Done!\n",
      "Epoch 18\n",
      "-------------------------------\n",
      "Test Error: \n",
      " Avg loss: 4340116480.000000 \n",
      "\n",
      "Done!\n",
      "Epoch 19\n",
      "-------------------------------\n",
      "Test Error: \n",
      " Avg loss: 4294063872.000000 \n",
      "\n",
      "Done!\n",
      "Epoch 20\n",
      "-------------------------------\n",
      "Test Error: \n",
      " Avg loss: 4271530752.000000 \n",
      "\n",
      "Done!\n",
      "Epoch 21\n",
      "-------------------------------\n",
      "Test Error: \n",
      " Avg loss: 4232315904.000000 \n",
      "\n",
      "Done!\n",
      "Epoch 22\n",
      "-------------------------------\n",
      "Test Error: \n",
      " Avg loss: 4140931584.000000 \n",
      "\n",
      "Done!\n",
      "Epoch 23\n",
      "-------------------------------\n",
      "Test Error: \n",
      " Avg loss: 3999177984.000000 \n",
      "\n",
      "Done!\n",
      "Epoch 24\n",
      "-------------------------------\n",
      "Test Error: \n",
      " Avg loss: 3827790848.000000 \n",
      "\n",
      "Done!\n",
      "Epoch 25\n",
      "-------------------------------\n",
      "Test Error: \n",
      " Avg loss: 3638903808.000000 \n",
      "\n",
      "Done!\n",
      "Epoch 26\n",
      "-------------------------------\n",
      "Test Error: \n",
      " Avg loss: 3431937536.000000 \n",
      "\n",
      "Done!\n",
      "Epoch 27\n",
      "-------------------------------\n",
      "Test Error: \n",
      " Avg loss: 3200883200.000000 \n",
      "\n",
      "Done!\n",
      "Epoch 28\n",
      "-------------------------------\n",
      "Test Error: \n",
      " Avg loss: 2940483584.000000 \n",
      "\n",
      "Done!\n",
      "Epoch 29\n",
      "-------------------------------\n",
      "Test Error: \n",
      " Avg loss: 2650355712.000000 \n",
      "\n",
      "Done!\n",
      "Epoch 30\n",
      "-------------------------------\n",
      "Test Error: \n",
      " Avg loss: 2339234560.000000 \n",
      "\n",
      "Done!\n",
      "Epoch 31\n",
      "-------------------------------\n",
      "Test Error: \n",
      " Avg loss: 2029436288.000000 \n",
      "\n",
      "Done!\n",
      "Epoch 32\n",
      "-------------------------------\n",
      "Test Error: \n",
      " Avg loss: 1757869312.000000 \n",
      "\n",
      "Done!\n",
      "Epoch 33\n",
      "-------------------------------\n",
      "Test Error: \n",
      " Avg loss: 1565949056.000000 \n",
      "\n",
      "Done!\n",
      "Epoch 34\n",
      "-------------------------------\n",
      "Test Error: \n",
      " Avg loss: 1473338112.000000 \n",
      "\n",
      "Done!\n",
      "Epoch 35\n",
      "-------------------------------\n",
      "Test Error: \n",
      " Avg loss: 1453974144.000000 \n",
      "\n",
      "Done!\n",
      "Epoch 36\n",
      "-------------------------------\n",
      "Test Error: \n",
      " Avg loss: 1456131584.000000 \n",
      "\n",
      "Done!\n",
      "Epoch 37\n",
      "-------------------------------\n",
      "Test Error: \n",
      " Avg loss: 1452622336.000000 \n",
      "\n",
      "Done!\n",
      "Epoch 38\n",
      "-------------------------------\n",
      "Test Error: \n",
      " Avg loss: 1447815040.000000 \n",
      "\n",
      "Done!\n",
      "Epoch 39\n",
      "-------------------------------\n",
      "Test Error: \n",
      " Avg loss: 1449031552.000000 \n",
      "\n",
      "Done!\n",
      "Epoch 40\n",
      "-------------------------------\n",
      "Test Error: \n",
      " Avg loss: 1454871296.000000 \n",
      "\n",
      "Done!\n",
      "Epoch 41\n",
      "-------------------------------\n",
      "Test Error: \n",
      " Avg loss: 1460696064.000000 \n",
      "\n",
      "Done!\n",
      "Epoch 42\n",
      "-------------------------------\n",
      "Test Error: \n",
      " Avg loss: 1463706240.000000 \n",
      "\n",
      "Done!\n",
      "Epoch 43\n",
      "-------------------------------\n",
      "Test Error: \n",
      " Avg loss: 1463676032.000000 \n",
      "\n",
      "Done!\n",
      "Epoch 44\n",
      "-------------------------------\n",
      "Test Error: \n",
      " Avg loss: 1461787392.000000 \n",
      "\n",
      "Done!\n",
      "Epoch 45\n",
      "-------------------------------\n",
      "Test Error: \n",
      " Avg loss: 1459406592.000000 \n",
      "\n",
      "Done!\n",
      "Epoch 46\n",
      "-------------------------------\n",
      "Test Error: \n",
      " Avg loss: 1457435648.000000 \n",
      "\n",
      "Done!\n",
      "Epoch 47\n",
      "-------------------------------\n",
      "Test Error: \n",
      " Avg loss: 1456224000.000000 \n",
      "\n",
      "Done!\n",
      "Epoch 48\n",
      "-------------------------------\n",
      "Test Error: \n",
      " Avg loss: 1455743360.000000 \n",
      "\n",
      "Done!\n",
      "Epoch 49\n",
      "-------------------------------\n",
      "Test Error: \n",
      " Avg loss: 1455788032.000000 \n",
      "\n",
      "Done!\n",
      "Epoch 50\n",
      "-------------------------------\n",
      "Test Error: \n",
      " Avg loss: 1456109056.000000 \n",
      "\n",
      "Done!\n",
      "Epoch 51\n",
      "-------------------------------\n",
      "Test Error: \n",
      " Avg loss: 1456494976.000000 \n",
      "\n",
      "Done!\n",
      "Epoch 52\n",
      "-------------------------------\n",
      "Test Error: \n",
      " Avg loss: 1456813312.000000 \n",
      "\n",
      "Done!\n",
      "Epoch 53\n",
      "-------------------------------\n",
      "Test Error: \n",
      " Avg loss: 1457010560.000000 \n",
      "\n",
      "Done!\n",
      "Epoch 54\n",
      "-------------------------------\n",
      "Test Error: \n",
      " Avg loss: 1457092480.000000 \n",
      "\n",
      "Done!\n",
      "Epoch 55\n",
      "-------------------------------\n",
      "Test Error: \n",
      " Avg loss: 1457092352.000000 \n",
      "\n",
      "Done!\n",
      "Epoch 56\n",
      "-------------------------------\n",
      "Test Error: \n",
      " Avg loss: 1457046912.000000 \n",
      "\n",
      "Done!\n",
      "Epoch 57\n",
      "-------------------------------\n",
      "Test Error: \n",
      " Avg loss: 1456985216.000000 \n",
      "\n",
      "Done!\n",
      "Epoch 58\n",
      "-------------------------------\n",
      "Test Error: \n",
      " Avg loss: 1456925440.000000 \n",
      "\n",
      "Done!\n",
      "Epoch 59\n",
      "-------------------------------\n",
      "Test Error: \n",
      " Avg loss: 1456877312.000000 \n",
      "\n",
      "Done!\n",
      "Epoch 60\n",
      "-------------------------------\n",
      "Test Error: \n",
      " Avg loss: 1456844800.000000 \n",
      "\n",
      "Done!\n",
      "Epoch 61\n",
      "-------------------------------\n",
      "Test Error: \n",
      " Avg loss: 1456827904.000000 \n",
      "\n",
      "Done!\n",
      "Epoch 62\n",
      "-------------------------------\n",
      "Test Error: \n",
      " Avg loss: 1456824448.000000 \n",
      "\n",
      "Done!\n",
      "Epoch 63\n",
      "-------------------------------\n",
      "Test Error: \n",
      " Avg loss: 1456829184.000000 \n",
      "\n",
      "Done!\n",
      "Epoch 64\n",
      "-------------------------------\n",
      "Test Error: \n",
      " Avg loss: 1456837632.000000 \n",
      "\n",
      "Done!\n",
      "Epoch 65\n",
      "-------------------------------\n",
      "Test Error: \n",
      " Avg loss: 1456845184.000000 \n",
      "\n",
      "Done!\n",
      "Epoch 66\n",
      "-------------------------------\n",
      "Test Error: \n",
      " Avg loss: 1456849536.000000 \n",
      "\n",
      "Done!\n",
      "Epoch 67\n",
      "-------------------------------\n",
      "Test Error: \n",
      " Avg loss: 1456849792.000000 \n",
      "\n",
      "Done!\n",
      "Epoch 68\n",
      "-------------------------------\n",
      "Test Error: \n",
      " Avg loss: 1456846720.000000 \n",
      "\n",
      "Done!\n",
      "Epoch 69\n",
      "-------------------------------\n",
      "Test Error: \n",
      " Avg loss: 1456841984.000000 \n",
      "\n",
      "Done!\n",
      "Epoch 70\n",
      "-------------------------------\n",
      "Test Error: \n",
      " Avg loss: 1456836736.000000 \n",
      "\n",
      "Done!\n",
      "Epoch 71\n",
      "-------------------------------\n",
      "Test Error: \n",
      " Avg loss: 1456831872.000000 \n",
      "\n",
      "Done!\n",
      "Epoch 72\n",
      "-------------------------------\n",
      "Test Error: \n",
      " Avg loss: 1456827776.000000 \n",
      "\n",
      "Done!\n",
      "Epoch 73\n",
      "-------------------------------\n",
      "Test Error: \n",
      " Avg loss: 1456824832.000000 \n",
      "\n",
      "Done!\n",
      "Epoch 74\n",
      "-------------------------------\n",
      "Test Error: \n",
      " Avg loss: 1456822400.000000 \n",
      "\n",
      "Done!\n",
      "Epoch 75\n",
      "-------------------------------\n",
      "Test Error: \n",
      " Avg loss: 1456820352.000000 \n",
      "\n",
      "Done!\n",
      "Epoch 76\n",
      "-------------------------------\n",
      "Test Error: \n",
      " Avg loss: 1456818304.000000 \n",
      "\n",
      "Done!\n",
      "Epoch 77\n",
      "-------------------------------\n",
      "Test Error: \n",
      " Avg loss: 1456816640.000000 \n",
      "\n",
      "Done!\n",
      "Epoch 78\n",
      "-------------------------------\n",
      "Test Error: \n",
      " Avg loss: 1456814848.000000 \n",
      "\n",
      "Done!\n",
      "Epoch 79\n",
      "-------------------------------\n",
      "Test Error: \n",
      " Avg loss: 1456812928.000000 \n",
      "\n",
      "Done!\n",
      "Epoch 80\n",
      "-------------------------------\n",
      "Test Error: \n",
      " Avg loss: 1456811136.000000 \n",
      "\n",
      "Done!\n"
     ]
    },
    {
     "name": "stderr",
     "output_type": "stream",
     "text": [
      "ic| largest_indices: [np.int64(8),\n",
      "                      np.int64(11),\n",
      "                      np.int64(11),\n",
      "                      np.int64(9),\n",
      "                      np.int64(10),\n",
      "                      np.int64(7)]\n",
      "ic| second_largest_indices: [np.int64(10), np.int64(0), np.int64(4), np.int64(2), np.int64(6), np.int64(4)]\n",
      "ic| largest_indices: [np.int64(3),\n",
      "                      np.int64(4),\n",
      "                      np.int64(9),\n",
      "                      np"
     ]
    },
    {
     "name": "stdout",
     "output_type": "stream",
     "text": [
      "['linear_relu_stack.0.weight', 'linear_relu_stack.0.bias', 'linear_relu_stack.1.weight', 'linear_relu_stack.1.bias', 'linear_relu_stack.2.weight', 'linear_relu_stack.2.bias', 'linear_relu_stack.3.weight', 'linear_relu_stack.3.bias', 'linear_relu_stack.4.weight', 'linear_relu_stack.4.bias']\n",
      "[array([[ 0.12397338,  0.28352028,  0.2823468 ,  0.1587707 ,  0.12804443,\n",
      "         0.34351417],\n",
      "       [-0.3106931 ,  0.19401161, -0.1295335 ,  0.1109069 , -0.21101639,\n",
      "        -0.197841  ],\n",
      "       [ 0.09395808,  0.09259202,  0.19456883,  0.33778557, -0.25802466,\n",
      "         0.13601127],\n",
      "       [ 0.07458566, -0.09821485, -0.19251515, -0.38709235,  0.076116  ,\n",
      "         0.34572023],\n",
      "       [-0.4041605 ,  0.21832088,  0.35207164, -0.19437571,  0.06897269,\n",
      "         0.4527981 ],\n",
      "       [ 0.11946245, -0.19736955, -0.36558163,  0.09538267,  0.16110578,\n",
      "         0.05257207],\n",
      "       [-0.19496632,  0.18518831,  0.22466806, -0.04078969,  0.22065741,\n",
      "         0.2981064 ],\n",
      "       [-0.09225123,  0.18763751,  0.13873442, -0.22423336,  0.09269807,\n",
      "         0.46351865],\n",
      "       [ 0.30380777, -0.04936901, -0.03662197, -0.27008832,  0.06926119,\n",
      "         0.10934814],\n",
      "       [ 0.12635608, -0.34496772, -0.3988017 ,  0.4531505 , -0.04890989,\n",
      "        -0.43806875],\n",
      "       [ 0.21537125, -0.40328816,  0.13283044,  0.13333668,  0.28541836,\n",
      "         0.26211482],\n",
      "       [ 0.13876903,  0.3986684 ,  0.4798429 , -0.02741219,  0.06443692,\n",
      "        -0.02369616]], dtype=float32), array([-3.0214875, -2.8311012,  2.931262 , -2.6491923, -3.0437   ,\n",
      "        2.5686603, -2.804931 , -2.8067029,  2.9857638,  2.4727764,\n",
      "       -3.0919917, -2.7823913], dtype=float32), array([[ 1.9056096,  1.9545926, -1.8751239,  1.3801869,  1.7079204,\n",
      "        -1.4338369,  1.862973 ,  1.8555771, -2.191545 , -1.3255527,\n",
      "         1.8897737,  1.7914788],\n",
      "       [ 2.0920103,  2.1202152, -1.9065598,  1.8589803,  1.9884784,\n",
      "        -1.766429 ,  1.879503 ,  1.5276262, -2.0380692, -1.3342816,\n",
      "         1.9331231,  1.9437494],\n",
      "       [ 2.09962  ,  1.8215988, -2.1551678,  1.6228282,  1.6844933,\n",
      "        -1.4281956,  1.4755678,  1.806    , -2.4331794, -1.3412288,\n",
      "         2.3844097,  1.7596608],\n",
      "       [ 2.2504244,  1.8997627, -1.8292032,  1.7803707,  1.9557264,\n",
      "        -1.605316 ,  1.7516131,  1.5911208, -2.0288234, -1.2290378,\n",
      "         2.1876755,  1.7276326],\n",
      "       [ 2.1845386,  2.3119593, -2.0553656,  1.8038572,  1.8565433,\n",
      "        -1.5991684,  1.8627169,  1.6454552, -2.154971 , -1.4223616,\n",
      "         2.2005513,  1.9320707],\n",
      "       [-1.8723625, -2.1276217,  1.760182 , -1.7177186, -1.6548009,\n",
      "         1.5433861, -1.9931356, -2.0005097,  2.2335541,  1.3864568,\n",
      "        -2.2811797, -1.9450012],\n",
      "       [ 1.8461375,  2.060879 , -2.2130947,  1.7385643,  2.0137239,\n",
      "        -1.7108256,  1.4253255,  1.8850851, -2.405079 , -0.9645282,\n",
      "         1.959187 ,  1.5974976],\n",
      "       [-2.2509468, -1.9826685,  1.908997 , -1.8747061, -1.8705957,\n",
      "         1.634    , -1.7617893, -1.9379443,  2.1298423,  1.4000449,\n",
      "        -2.4190392, -1.9387367],\n",
      "       [-1.9077306, -1.9278287,  1.7663538, -1.7543731, -1.6737374,\n",
      "         1.4662981, -1.5652639, -1.328171 ,  1.9108428,  1.2369796,\n",
      "        -2.0541584, -1.5663356],\n",
      "       [-2.1054153, -1.8352556,  2.0060174, -1.5957046, -1.8538144,\n",
      "         1.6967269, -1.8960801, -1.4197105,  2.0781033,  1.4949245,\n",
      "        -2.3845875, -1.8879063]], dtype=float32), array([-2.456567 , -2.528325 , -2.7068214, -2.740995 , -2.89176  ,\n",
      "        2.6534758, -2.9021997,  2.7984457,  2.7791421,  2.5980117],\n",
      "      dtype=float32), array([[ 1.9061142,  1.5421259,  2.2791538,  1.9073159,  1.7428834,\n",
      "        -1.867304 ,  2.3223794, -2.0526533, -1.8907037, -2.0572126],\n",
      "       [ 1.9213526,  1.9817157,  1.8747132,  2.1681366,  2.0466175,\n",
      "        -1.7753999,  2.0235875, -2.125589 , -2.1270278, -2.1523068],\n",
      "       [ 1.9375198,  1.8402445,  2.104879 ,  2.1585019,  2.0436745,\n",
      "        -1.9696811,  2.2712967, -2.1786711, -1.6066098, -2.1724517],\n",
      "       [-2.0282314, -1.593699 , -1.6779302, -1.7125058, -1.8033959,\n",
      "         1.6891744, -1.9693291,  1.9892125,  1.8352811,  1.858604 ],\n",
      "       [-2.1226459, -1.7900599, -1.6610116, -1.66146  , -1.8161105,\n",
      "         1.4111521, -1.8664546,  1.8651251,  1.5773954,  1.4881688]],\n",
      "      dtype=float32), array([-2.6347823, -2.6589894, -2.3413014,  2.581174 ,  2.2644126],\n",
      "      dtype=float32), array([[ 1.5831801,  2.0533082,  2.4147246, -1.9762661, -1.8659999],\n",
      "       [ 2.4382558,  2.2602022,  2.2227454, -1.703241 , -1.6010485]],\n",
      "      dtype=float32), array([-2.246051 , -1.9515704], dtype=float32), array([[-2.3086653, -2.248329 ]], dtype=float32), array([1.304022], dtype=float32)]\n",
      "[[ 0.12397338  0.28352028  0.2823468   0.1587707   0.12804443  0.34351417]\n",
      " [-0.3106931   0.19401161 -0.1295335   0.1109069  -0.21101639 -0.197841  ]\n",
      " [ 0.09395808  0.09259202  0.19456883  0.33778557 -0.25802466  0.13601127]\n",
      " [ 0.07458566 -0.09821485 -0.19251515 -0.38709235  0.076116    0.34572023]\n",
      " [-0.4041605   0.21832088  0.35207164 -0.19437571  0.06897269  0.4527981 ]\n",
      " [ 0.11946245 -0.19736955 -0.36558163  0.09538267  0.16110578  0.05257207]\n",
      " [-0.19496632  0.18518831  0.22466806 -0.04078969  0.22065741  0.2981064 ]\n",
      " [-0.09225123  0.18763751  0.13873442 -0.22423336  0.09269807  0.46351865]\n",
      " [ 0.30380777 -0.04936901 -0.03662197 -0.27008832  0.06926119  0.10934814]\n",
      " [ 0.12635608 -0.34496772 -0.3988017   0.4531505  -0.04890989 -0.43806875]\n",
      " [ 0.21537125 -0.40328816  0.13283044  0.13333668  0.28541836  0.26211482]\n",
      " [ 0.13876903  0.3986684   0.4798429  -0.02741219  0.06443692 -0.02369616]]\n",
      "各列で最大値のインデックス: [np.int64(8), np.int64(11), np.int64(11), np.int64(9), np.int64(10), np.int64(7)]\n",
      "各列で2番目に大きい値のインデックス: [np.int64(10), np.int64(0), np.int64(4), np.int64(2), np.int64(6), np.int64(4)]\n",
      "src: [0, 0]\n",
      "dst: [np.int64(14), np.int64(16)]\n",
      "------------------------------------------------\n"
     ]
    },
    {
     "name": "stderr",
     "output_type": "stream",
     "text": [
      ".int64(1),\n",
      "                      np.int64(6),\n",
      "                      np.int64(9),\n",
      "                      np.int64(1),\n",
      "                      np.int64(6),\n",
      "                      np.int64(5),\n",
      "                      np.int64(9),\n",
      "                      np.int64(2),\n",
      "                      np.int64(1)]\n",
      "ic| second_largest_indices: [np.int64(4),\n",
      "                             np.int64(1),\n",
      "                             np.int64(7),\n",
      "                             np.int64(4),\n",
      "                             np.int64(1),\n",
      "                             np.int64(7),\n",
      "                             np.int64(0),\n",
      "                             np.int64(0),\n",
      "                             np.int64(7),\n",
      "                             np.int64(7),\n",
      "                             np.int64(4),\n",
      "                             np.int64(4)]\n",
      "ic| tmp: 1\n",
      "ic| ex_dst: [np.int64(8), np.int64(10)]\n",
      "ic| largest_indices: [np.int64(2),\n",
      "                      np.int64(1),\n",
      "                      np.int64(0),\n",
      "                      np.int64(1),\n",
      "                      np.int64(1),\n",
      "                      np.int64(3),\n",
      "                      np.int64(0),\n",
      "                      np.int64(3),\n",
      "                      np.int64(3),\n",
      "                      np.int64(3)]\n",
      "ic| second_largest_indices: [np.int64(1),\n",
      "                             np.int64(2),\n",
      "                             np.int64(2),\n",
      "                             np.int64(2),\n",
      "                             np.int64(2),\n",
      "                             np.int64(4),\n",
      "                             np.int64(2),\n",
      "                             np.int64(4),\n",
      "                             np.int64(4),\n",
      "                             np.int64(4)]\n",
      "ic| tmp: 2\n",
      "ic| ex_dst: [np.int64(5), np.int64(7), np.int64(2), np.int64(4)]\n",
      "ic| largest_indices: [np.int64(1), np.int64(1), np.int64(0), np.int64(1), np.int64(1)]\n",
      "ic| second_largest_indices: [np.int64(0), np.int64(0), np.int64(1), np.int64(0), np.int64(0)]\n",
      "ic| tmp: 3\n",
      "ic| ex_dst: [np.int64(3),\n",
      "             np.int64(4),\n",
      "             np.int64(3),\n",
      "             np.int64(4),\n",
      "             np.int64(0),\n",
      "             np.int64(2),\n",
      "             np.int64(1),\n",
      "             np.int64(2)]"
     ]
    },
    {
     "name": "stdout",
     "output_type": "stream",
     "text": [
      "各列で最大値のインデックス: [np.int64(3), np.int64(4), np.int64(9), np.int64(1), np.int64(6), np.int64(9), np.int64(1), np.int64(6), np.int64(5), np.int64(9), np.int64(2), np.int64(1)]\n",
      "各列で2番目に大きい値のインデックス: [np.int64(4), np.int64(1), np.int64(7), np.int64(4), np.int64(1), np.int64(7), np.int64(0), np.int64(0), np.int64(7), np.int64(7), np.int64(4), np.int64(4)]\n",
      "8\n",
      "10\n",
      "src: [0, 0, np.int64(14), np.int64(14), np.int64(16), np.int64(16)]\n",
      "dst: [np.int64(14), np.int64(16), np.int64(23), np.int64(25), np.int64(20), np.int64(22)]\n",
      "------------------------------------------------\n",
      "各列で最大値のインデックス: [np.int64(2), np.int64(1), np.int64(0), np.int64(1), np.int64(1), np.int64(3), np.int64(0), np.int64(3), np.int64(3), np.int64(3)]\n",
      "各列で2番目に大きい値のインデックス: [np.int64(1), np.int64(2), np.int64(2), np.int64(2), np.int64(2), np.int64(4), np.int64(2), np.int64(4), np.int64(4), np.int64(4)]\n",
      "5\n",
      "7\n",
      "2\n",
      "4\n",
      "src: [0, 0, np.int64(14), np.int64(14), np.int64(16), np.int64(16), np.int64(23), np.int64(23), np.int64(25), np.int64(25), np.int64(20), np.int64(20), np.int64(22), np.int64(22)]\n",
      "dst: [np.int64(14), np.int64(16), np.int64(23), np.int64(25), np.int64(20), np.int64(22), np.int64(31), np.int64(32), np.int64(31), np.int64(32), np.int64(28), np.int64(30), np.int64(29), np.int64(30)]\n",
      "------------------------------------------------\n",
      "各列で最大値のインデックス: [np.int64(1), np.int64(1), np.int64(0), np.int64(1), np.int64(1)]\n",
      "各列で2番目に大きい値のインデックス: [np.int64(0), np.int64(0), np.int64(1), np.int64(0), np.int64(0)]\n"
     ]
    },
    {
     "name": "stderr",
     "output_type": "stream",
     "text": [
      "\n",
      "ic| result: []\n",
      "ic| src.shape: (30,)\n",
      "ic| edge_attr: array([0.30380777, 0.21537125, 1.6967269 , 1.8555771 , 2.0060174 ,\n",
      "                      1.9884784 , 2.1681366 , 2.0436745 , 2.1681366 , 2.0436745 ,\n",
      "                      1.9375198 , 2.104879  , 1.9817157 , 2.104879  , 2.2602022 ,\n",
      "                      1.5831801 , 2.2602022 , 1.5831801 , 2.2602022 , 1.5831801 ,\n",
      "                      2.2602022 , 1.5831801 , 2.2602022 , 1.5831801 , 2.4382558 ,\n",
      "                      2.0533082 , 2.2602022 , 1.5831801 , 2.4382558 , 2.0533082 ],\n",
      "                     dtype=float32)\n",
      "/home/csl-stu/work/2121057/research/17/laten_space/rosenbrock_nn_weigth.py:496: UserWarning: Creating a tensor from a list of numpy.ndarrays is extremely slow. Please consider converting the list to a single numpy.ndarray with numpy.array() before converting to a tensor. (Triggered internally at ../torch/csrc/utils/tensor_new.cpp:278.)\n",
      "  edge_index=torch.tensor([src,dst],dtype=torch.long)\n",
      "ic| dataset: Data(x=[34, 34], edge_index=[2, 30], edge_attr=[30], y=[34], num_classes=4)\n"
     ]
    },
    {
     "name": "stdout",
     "output_type": "stream",
     "text": [
      "3\n",
      "4\n",
      "3\n",
      "4\n",
      "0\n",
      "2\n",
      "1\n",
      "2\n",
      "src: [0, 0, np.int64(14), np.int64(14), np.int64(16), np.int64(16), np.int64(23), np.int64(23), np.int64(25), np.int64(25), np.int64(20), np.int64(20), np.int64(22), np.int64(22), np.int64(31), np.int64(31), np.int64(32), np.int64(32), np.int64(31), np.int64(31), np.int64(32), np.int64(32), np.int64(28), np.int64(28), np.int64(30), np.int64(30), np.int64(29), np.int64(29), np.int64(30), np.int64(30)]\n",
      "dst: [np.int64(14), np.int64(16), np.int64(23), np.int64(25), np.int64(20), np.int64(22), np.int64(31), np.int64(32), np.int64(31), np.int64(32), np.int64(28), np.int64(30), np.int64(29), np.int64(30), np.int64(34), np.int64(33), np.int64(34), np.int64(33), np.int64(34), np.int64(33), np.int64(34), np.int64(33), np.int64(34), np.int64(33), np.int64(33), np.int64(34), np.int64(34), np.int64(33), np.int64(33), np.int64(34)]\n",
      "------------------------------------------------\n",
      "各列の平均: [0.01618438 0.03889414 0.05683409 0.01211178 0.05406332 0.1503415 ]\n",
      "Number of graphs: 5\n",
      "dataset Data(x=[34, 34], edge_index=[2, 30], edge_attr=[30], y=[34], num_classes=4)\n",
      "Number of features: 34\n",
      "------------\n",
      "data Data(x=[34, 34], edge_index=[2, 30], edge_attr=[30], y=[34], num_classes=4)\n",
      "train data Data(x=[34, 34], edge_index=[2, 50], edge_attr=[50], y=[34], num_classes=4, pos_edge_label=[25], pos_edge_label_index=[2, 25], neg_edge_label=[25], neg_edge_label_index=[2, 25])\n",
      "valid data Data(x=[34, 34], edge_index=[2, 50], edge_attr=[50], y=[34], num_classes=4, pos_edge_label=[1], pos_edge_label_index=[2, 1], neg_edge_label=[1], neg_edge_label_index=[2, 1])\n",
      "test data Data(x=[34, 34], edge_index=[2, 52], edge_attr=[52], y=[34], num_classes=4, pos_edge_label=[4], pos_edge_label_index=[2, 4], neg_edge_label=[4], neg_edge_label_index=[2, 4])\n",
      "------------\n",
      "True\n"
     ]
    },
    {
     "data": {
      "image/png": "[encoded data removed]",
      "text/plain": [
       "<Figure size 640x480 with 1 Axes>"
      ]
     },
     "metadata": {},
     "output_type": "display_data"
    },
    {
     "data": {
      "image/png": "[encoded data removed]",
      "text/plain": [
       "<Figure size 800x600 with 1 Axes>"
      ]
     },
     "metadata": {},
     "output_type": "display_data"
    }
   ],
   "source": [
    "device = torch.device('cuda' if torch.cuda.is_available() else 'cpu')\n",
    "from rosenbrock_nn_weigth import dim_num_dataset\n",
    "dataset = dim_num_dataset(dim_values=0)\n",
    "dataset_ =dataset\n",
    "# if transform_set:\n",
    "#   dataset = MyDataset(root,file_name,transform=T.NormalizeFeatures())\n",
    "# else:\n",
    "#   dataset = MyDataset(root,file_name)\n",
    "\n",
    "\n",
    "data = dataset\n",
    "data_ = dataset_\n",
    "\n",
    "# transform = RemoveDuplicatedEdges()\n",
    "# data = transform(data)\n",
    "# data_ = transform(data_)\n",
    "\n",
    "transform = RandomLinkSplit(\n",
    "    num_val=0.05,\n",
    "    num_test=0.15,\n",
    "    is_undirected=True,\n",
    "    split_labels=True,\n",
    "    add_negative_train_samples=True)\n",
    "import torch\n",
    "\n",
    "# data.edge_indexがnumpy.ndarrayの場合、torch.Tensorに変換\n",
    "if isinstance(data.edge_index, np.ndarray):\n",
    "    data.edge_index = torch.tensor(data.edge_index, dtype=torch.long)\n",
    "if isinstance(data.x, np.ndarray):\n",
    "    data.x = torch.tensor(data.x, dtype=torch.float)\n",
    "    \n",
    "if isinstance(data.edge_attr, np.ndarray):\n",
    "    data.edge_attr = torch.tensor(data.edge_attr, dtype=torch.float)\n",
    "\n",
    "train_data, val_data, test_data = transform(data)\n",
    "\n",
    "# Display Graphs\n",
    "print(f'Number of graphs: {len(dataset)}')\n",
    "print('dataset',dataset) ## dataset is vector with size 1 because we have one graph\n",
    "\n",
    "print(f'Number of features: {dataset.num_features}')\n",
    "print('------------')\n",
    "\n",
    "# Print information for initialization\n",
    "print('data', data)\n",
    "print('train data',train_data)\n",
    "print('valid data', val_data)\n",
    "print('test data', test_data)\n",
    "print('------------')\n",
    "\n",
    "print(data.is_directed())"
   ]
  },
  {
   "cell_type": "markdown",
   "metadata": {
    "id": "hXoJ1bdwZOrD"
   },
   "source": [
    "## Build Graph for Visualization"
   ]
  },
  {
   "cell_type": "markdown",
   "metadata": {
    "id": "gak0XFPyD2fd"
   },
   "source": [
    "### Visualize Entire Data\n"
   ]
  },
  {
   "cell_type": "code",
   "execution_count": 9,
   "metadata": {
    "colab": {
     "base_uri": "https://localhost:8080/"
    },
    "id": "9S2tj2xuD6La",
    "outputId": "e6268eb5-4673-405f-8281-dba3683677c6"
   },
   "outputs": [
    {
     "name": "stdout",
     "output_type": "stream",
     "text": [
      "Data(x=[34, 34], edge_index=[2, 30], edge_attr=[30], y=[34], num_classes=4)\n"
     ]
    },
    {
     "data": {
      "image/png": "[encoded data removed]",
      "text/plain": [
       "<Figure size 1000x1000 with 1 Axes>"
      ]
     },
     "metadata": {},
     "output_type": "display_data"
    }
   ],
   "source": [
    "print(data_)\n",
    "\n",
    "G = to_networkx(data_)\n",
    "G = G.to_undirected()\n",
    "\n",
    "X = data_.x[:,[0,1]].cpu().detach().numpy()\n",
    "# pos = dict(zip(range(X[:, 0].size), X))\n",
    "# posに不足しているノードの位置を補完\n",
    "pos = {i: X[i] if i < X.shape[0] else (0, 0) for i in range(G.number_of_nodes())}\n",
    "\n",
    "# Draw the Graph\n",
    "fig, ax = plt.subplots(figsize=(10, 10))\n",
    "ax.scatter(X[:,0], X[:,1], s=20, color='grey')\n",
    "nx.draw_networkx_nodes(G, pos, node_color='black', node_size=20, ax=ax)\n",
    "nx.draw_networkx_edges(G, pos, edge_color='grey', ax=ax)\n",
    "ax.set_xlabel('X')\n",
    "ax.set_ylabel('Y')\n",
    "plt.savefig(f'{folder_path}{run_id}_{version}-initial-graph', format='eps', dpi=300)\n",
    "plt.show()"
   ]
  },
  {
   "cell_type": "markdown",
   "metadata": {
    "id": "oU8BRz8aTEKj"
   },
   "source": [
    "### Define the Encoder\n",
    "Change the Encoder based on the type testing against"
   ]
  },
  {
   "cell_type": "code",
   "execution_count": 10,
   "metadata": {
    "id": "WjkyHupnTEKk"
   },
   "outputs": [],
   "source": [
    "class GCNEncoder(torch.nn.Module):\n",
    "    def __init__(self, in_channels, hidden_size, out_channels):\n",
    "      super(GCNEncoder, self).__init__()\n",
    "\n",
    "      # GCN\n",
    "      self.conv1 = GCNConv(in_channels, hidden_size, cached=True) # cached only for transductive learning\n",
    "      self.conv2 = GCNConv(hidden_size, out_channels, cached=True) # cached only for transductive learning\n",
    "\n",
    "      # SAGE\n",
    "      # self.conv1 = SAGEConv(in_channels, hidden_channels, cached=True) # cached only for transductive learning\n",
    "      # self.conv2 = SAGEConv(hidden_channels, out_channels, cached=True) # cached only for transductive learning\n",
    "\n",
    "      # GAT\n",
    "      # self.in_head = 8\n",
    "      # self.out_head = 1\n",
    "      # self.conv1 = GATConv(in_channels, hidden_channels, heads=self.in_head, dropout=0.6)\n",
    "      # self.conv2 = GATConv(hidden_channels*self.in_head, out_channels, concat=False)#, heads=self.out_head, dropout=0.6)\n",
    "\n",
    "\n",
    "    def forward(self, x, edge_index):\n",
    "      x = self.conv1(x, edge_index).relu()\n",
    "      x = F.dropout(x, p=0.6, training=self.training)\n",
    "      x = self.conv2(x, edge_index)\n",
    "      return x\n",
    "\n"
   ]
  },
  {
   "cell_type": "markdown",
   "metadata": {
    "id": "8C-I03fLTEKk"
   },
   "source": [
    "### Define the Autoencoder\n",
    "\n"
   ]
  },
  {
   "cell_type": "code",
   "execution_count": 11,
   "metadata": {
    "colab": {
     "base_uri": "https://localhost:8080/"
    },
    "id": "dG-NmuX3q_xV",
    "outputId": "66ca3e4a-60ad-402d-a6ce-5f8398251558"
   },
   "outputs": [
    {
     "name": "stdout",
     "output_type": "stream",
     "text": [
      "GAE(\n",
      "  (encoder): GCNEncoder(\n",
      "    (conv1): GCNConv(3, 5)\n",
      "    (conv2): GCNConv(5, 2)\n",
      "  )\n",
      "  (decoder): InnerProductDecoder()\n",
      ")\n"
     ]
    }
   ],
   "source": [
    "# Initialize the Model\n",
    "model = GAE(GCNEncoder(in_channels, hidden_channels, out_channels))\n",
    "\n",
    "model = model.to(device)\n",
    "train_data = train_data.to(device)\n",
    "test_data = test_data.to(device)\n",
    "data_ = data_.to(device)\n",
    "\n",
    "# Inizialize the Optimizer\n",
    "optimizer = torch.optim.Adam(model.parameters(), lr = learn_rate)\n",
    "print(model)"
   ]
  },
  {
   "cell_type": "code",
   "execution_count": 12,
   "metadata": {
    "id": "TFlrQoYsTEKk"
   },
   "outputs": [],
   "source": [
    "def train(dt):\n",
    "    model.train()\n",
    "    optimizer.zero_grad()\n",
    "    z = model.encode(dt.x, dt.pos_edge_label_index)\n",
    "    loss = model.recon_loss(z, dt.pos_edge_label_index)\n",
    "    loss.backward()\n",
    "    optimizer.step()\n",
    "    return float(loss)\n",
    "\n",
    "\n",
    "def test(dt):\n",
    "    model.eval()\n",
    "    with torch.no_grad():\n",
    "      z = model.encode(dt.x, dt.pos_edge_label_index)\n",
    "    return model.test(z, dt.pos_edge_label_index, dt.neg_edge_label_index)\n"
   ]
  },
  {
   "cell_type": "code",
   "execution_count": 15,
   "metadata": {
    "colab": {
     "base_uri": "https://localhost:8080/"
    },
    "id": "12dcPY2tTEKk",
    "outputId": "f3709ecd-5b7f-48af-bf1b-95d622c93749",
    "scrolled": true
   },
   "outputs": [
    {
     "ename": "RuntimeError",
     "evalue": "CUDA error: device-side assert triggered\nCUDA kernel errors might be asynchronously reported at some other API call, so the stacktrace below might be incorrect.\nFor debugging consider passing CUDA_LAUNCH_BLOCKING=1\nCompile with `TORCH_USE_CUDA_DSA` to enable device-side assertions.\n",
     "output_type": "error",
     "traceback": [
      "\u001b[0;31m---------------------------------------------------------------------------\u001b[0m",
      "\u001b[0;31mRuntimeError\u001b[0m                              Traceback (most recent call last)",
      "Cell \u001b[0;32mIn[15], line 12\u001b[0m\n\u001b[1;32m      9\u001b[0m os\u001b[38;5;241m.\u001b[39menviron[\u001b[38;5;124m'\u001b[39m\u001b[38;5;124mCUDA_LAUNCH_BLOCKING\u001b[39m\u001b[38;5;124m'\u001b[39m] \u001b[38;5;241m=\u001b[39m \u001b[38;5;124m'\u001b[39m\u001b[38;5;124m1\u001b[39m\u001b[38;5;124m'\u001b[39m\n\u001b[1;32m     11\u001b[0m \u001b[38;5;28;01mfor\u001b[39;00m epoch \u001b[38;5;129;01min\u001b[39;00m \u001b[38;5;28mrange\u001b[39m(\u001b[38;5;241m1\u001b[39m, epochs \u001b[38;5;241m+\u001b[39m \u001b[38;5;241m1\u001b[39m):\n\u001b[0;32m---> 12\u001b[0m     loss \u001b[38;5;241m=\u001b[39m \u001b[43mtrain\u001b[49m\u001b[43m(\u001b[49m\u001b[43mtrain_data\u001b[49m\u001b[43m)\u001b[49m\n\u001b[1;32m     15\u001b[0m     \u001b[38;5;28;01mif\u001b[39;00m (epoch \u001b[38;5;241m%\u001b[39m \u001b[38;5;241m100\u001b[39m \u001b[38;5;241m==\u001b[39m \u001b[38;5;241m0\u001b[39m):\n\u001b[1;32m     16\u001b[0m         \u001b[38;5;66;03m# Area under Curve (AUC) and Average Precision (AP)\u001b[39;00m\n\u001b[1;32m     17\u001b[0m         auc, ap \u001b[38;5;241m=\u001b[39m test(test_data)\n",
      "Cell \u001b[0;32mIn[12], line 4\u001b[0m, in \u001b[0;36mtrain\u001b[0;34m(dt)\u001b[0m\n\u001b[1;32m      2\u001b[0m model\u001b[38;5;241m.\u001b[39mtrain()\n\u001b[1;32m      3\u001b[0m optimizer\u001b[38;5;241m.\u001b[39mzero_grad()\n\u001b[0;32m----> 4\u001b[0m z \u001b[38;5;241m=\u001b[39m \u001b[43mmodel\u001b[49m\u001b[38;5;241;43m.\u001b[39;49m\u001b[43mencode\u001b[49m\u001b[43m(\u001b[49m\u001b[43mdt\u001b[49m\u001b[38;5;241;43m.\u001b[39;49m\u001b[43mx\u001b[49m\u001b[43m,\u001b[49m\u001b[43m \u001b[49m\u001b[43mdt\u001b[49m\u001b[38;5;241;43m.\u001b[39;49m\u001b[43mpos_edge_label_index\u001b[49m\u001b[43m)\u001b[49m\n\u001b[1;32m      5\u001b[0m loss \u001b[38;5;241m=\u001b[39m model\u001b[38;5;241m.\u001b[39mrecon_loss(z, dt\u001b[38;5;241m.\u001b[39mpos_edge_label_index)\n\u001b[1;32m      6\u001b[0m loss\u001b[38;5;241m.\u001b[39mbackward()\n",
      "File \u001b[0;32m~/.pyenv/versions/3.12.2/envs/2121057/lib/python3.12/site-packages/torch_geometric/nn/models/autoencoder.py:86\u001b[0m, in \u001b[0;36mGAE.encode\u001b[0;34m(self, *args, **kwargs)\u001b[0m\n\u001b[1;32m     84\u001b[0m \u001b[38;5;28;01mdef\u001b[39;00m \u001b[38;5;21mencode\u001b[39m(\u001b[38;5;28mself\u001b[39m, \u001b[38;5;241m*\u001b[39margs, \u001b[38;5;241m*\u001b[39m\u001b[38;5;241m*\u001b[39mkwargs) \u001b[38;5;241m-\u001b[39m\u001b[38;5;241m>\u001b[39m Tensor:\n\u001b[1;32m     85\u001b[0m \u001b[38;5;250m    \u001b[39m\u001b[38;5;124mr\u001b[39m\u001b[38;5;124;03m\"\"\"Runs the encoder and computes node-wise latent variables.\"\"\"\u001b[39;00m\n\u001b[0;32m---> 86\u001b[0m     \u001b[38;5;28;01mreturn\u001b[39;00m \u001b[38;5;28;43mself\u001b[39;49m\u001b[38;5;241;43m.\u001b[39;49m\u001b[43mencoder\u001b[49m\u001b[43m(\u001b[49m\u001b[38;5;241;43m*\u001b[39;49m\u001b[43margs\u001b[49m\u001b[43m,\u001b[49m\u001b[43m \u001b[49m\u001b[38;5;241;43m*\u001b[39;49m\u001b[38;5;241;43m*\u001b[39;49m\u001b[43mkwargs\u001b[49m\u001b[43m)\u001b[49m\n",
      "File \u001b[0;32m~/.pyenv/versions/3.12.2/envs/2121057/lib/python3.12/site-packages/torch/nn/modules/module.py:1736\u001b[0m, in \u001b[0;36mModule._wrapped_call_impl\u001b[0;34m(self, *args, **kwargs)\u001b[0m\n\u001b[1;32m   1734\u001b[0m     \u001b[38;5;28;01mreturn\u001b[39;00m \u001b[38;5;28mself\u001b[39m\u001b[38;5;241m.\u001b[39m_compiled_call_impl(\u001b[38;5;241m*\u001b[39margs, \u001b[38;5;241m*\u001b[39m\u001b[38;5;241m*\u001b[39mkwargs)  \u001b[38;5;66;03m# type: ignore[misc]\u001b[39;00m\n\u001b[1;32m   1735\u001b[0m \u001b[38;5;28;01melse\u001b[39;00m:\n\u001b[0;32m-> 1736\u001b[0m     \u001b[38;5;28;01mreturn\u001b[39;00m \u001b[38;5;28;43mself\u001b[39;49m\u001b[38;5;241;43m.\u001b[39;49m\u001b[43m_call_impl\u001b[49m\u001b[43m(\u001b[49m\u001b[38;5;241;43m*\u001b[39;49m\u001b[43margs\u001b[49m\u001b[43m,\u001b[49m\u001b[43m \u001b[49m\u001b[38;5;241;43m*\u001b[39;49m\u001b[38;5;241;43m*\u001b[39;49m\u001b[43mkwargs\u001b[49m\u001b[43m)\u001b[49m\n",
      "File \u001b[0;32m~/.pyenv/versions/3.12.2/envs/2121057/lib/python3.12/site-packages/torch/nn/modules/module.py:1747\u001b[0m, in \u001b[0;36mModule._call_impl\u001b[0;34m(self, *args, **kwargs)\u001b[0m\n\u001b[1;32m   1742\u001b[0m \u001b[38;5;66;03m# If we don't have any hooks, we want to skip the rest of the logic in\u001b[39;00m\n\u001b[1;32m   1743\u001b[0m \u001b[38;5;66;03m# this function, and just call forward.\u001b[39;00m\n\u001b[1;32m   1744\u001b[0m \u001b[38;5;28;01mif\u001b[39;00m \u001b[38;5;129;01mnot\u001b[39;00m (\u001b[38;5;28mself\u001b[39m\u001b[38;5;241m.\u001b[39m_backward_hooks \u001b[38;5;129;01mor\u001b[39;00m \u001b[38;5;28mself\u001b[39m\u001b[38;5;241m.\u001b[39m_backward_pre_hooks \u001b[38;5;129;01mor\u001b[39;00m \u001b[38;5;28mself\u001b[39m\u001b[38;5;241m.\u001b[39m_forward_hooks \u001b[38;5;129;01mor\u001b[39;00m \u001b[38;5;28mself\u001b[39m\u001b[38;5;241m.\u001b[39m_forward_pre_hooks\n\u001b[1;32m   1745\u001b[0m         \u001b[38;5;129;01mor\u001b[39;00m _global_backward_pre_hooks \u001b[38;5;129;01mor\u001b[39;00m _global_backward_hooks\n\u001b[1;32m   1746\u001b[0m         \u001b[38;5;129;01mor\u001b[39;00m _global_forward_hooks \u001b[38;5;129;01mor\u001b[39;00m _global_forward_pre_hooks):\n\u001b[0;32m-> 1747\u001b[0m     \u001b[38;5;28;01mreturn\u001b[39;00m \u001b[43mforward_call\u001b[49m\u001b[43m(\u001b[49m\u001b[38;5;241;43m*\u001b[39;49m\u001b[43margs\u001b[49m\u001b[43m,\u001b[49m\u001b[43m \u001b[49m\u001b[38;5;241;43m*\u001b[39;49m\u001b[38;5;241;43m*\u001b[39;49m\u001b[43mkwargs\u001b[49m\u001b[43m)\u001b[49m\n\u001b[1;32m   1749\u001b[0m result \u001b[38;5;241m=\u001b[39m \u001b[38;5;28;01mNone\u001b[39;00m\n\u001b[1;32m   1750\u001b[0m called_always_called_hooks \u001b[38;5;241m=\u001b[39m \u001b[38;5;28mset\u001b[39m()\n",
      "Cell \u001b[0;32mIn[10], line 21\u001b[0m, in \u001b[0;36mGCNEncoder.forward\u001b[0;34m(self, x, edge_index)\u001b[0m\n\u001b[1;32m     20\u001b[0m \u001b[38;5;28;01mdef\u001b[39;00m \u001b[38;5;21mforward\u001b[39m(\u001b[38;5;28mself\u001b[39m, x, edge_index):\n\u001b[0;32m---> 21\u001b[0m   x \u001b[38;5;241m=\u001b[39m \u001b[38;5;28;43mself\u001b[39;49m\u001b[38;5;241;43m.\u001b[39;49m\u001b[43mconv1\u001b[49m\u001b[43m(\u001b[49m\u001b[43mx\u001b[49m\u001b[43m,\u001b[49m\u001b[43m \u001b[49m\u001b[43medge_index\u001b[49m\u001b[43m)\u001b[49m\u001b[38;5;241m.\u001b[39mrelu()\n\u001b[1;32m     22\u001b[0m   x \u001b[38;5;241m=\u001b[39m F\u001b[38;5;241m.\u001b[39mdropout(x, p\u001b[38;5;241m=\u001b[39m\u001b[38;5;241m0.6\u001b[39m, training\u001b[38;5;241m=\u001b[39m\u001b[38;5;28mself\u001b[39m\u001b[38;5;241m.\u001b[39mtraining)\n\u001b[1;32m     23\u001b[0m   x \u001b[38;5;241m=\u001b[39m \u001b[38;5;28mself\u001b[39m\u001b[38;5;241m.\u001b[39mconv2(x, edge_index)\n",
      "File \u001b[0;32m~/.pyenv/versions/3.12.2/envs/2121057/lib/python3.12/site-packages/torch/nn/modules/module.py:1736\u001b[0m, in \u001b[0;36mModule._wrapped_call_impl\u001b[0;34m(self, *args, **kwargs)\u001b[0m\n\u001b[1;32m   1734\u001b[0m     \u001b[38;5;28;01mreturn\u001b[39;00m \u001b[38;5;28mself\u001b[39m\u001b[38;5;241m.\u001b[39m_compiled_call_impl(\u001b[38;5;241m*\u001b[39margs, \u001b[38;5;241m*\u001b[39m\u001b[38;5;241m*\u001b[39mkwargs)  \u001b[38;5;66;03m# type: ignore[misc]\u001b[39;00m\n\u001b[1;32m   1735\u001b[0m \u001b[38;5;28;01melse\u001b[39;00m:\n\u001b[0;32m-> 1736\u001b[0m     \u001b[38;5;28;01mreturn\u001b[39;00m \u001b[38;5;28;43mself\u001b[39;49m\u001b[38;5;241;43m.\u001b[39;49m\u001b[43m_call_impl\u001b[49m\u001b[43m(\u001b[49m\u001b[38;5;241;43m*\u001b[39;49m\u001b[43margs\u001b[49m\u001b[43m,\u001b[49m\u001b[43m \u001b[49m\u001b[38;5;241;43m*\u001b[39;49m\u001b[38;5;241;43m*\u001b[39;49m\u001b[43mkwargs\u001b[49m\u001b[43m)\u001b[49m\n",
      "File \u001b[0;32m~/.pyenv/versions/3.12.2/envs/2121057/lib/python3.12/site-packages/torch/nn/modules/module.py:1747\u001b[0m, in \u001b[0;36mModule._call_impl\u001b[0;34m(self, *args, **kwargs)\u001b[0m\n\u001b[1;32m   1742\u001b[0m \u001b[38;5;66;03m# If we don't have any hooks, we want to skip the rest of the logic in\u001b[39;00m\n\u001b[1;32m   1743\u001b[0m \u001b[38;5;66;03m# this function, and just call forward.\u001b[39;00m\n\u001b[1;32m   1744\u001b[0m \u001b[38;5;28;01mif\u001b[39;00m \u001b[38;5;129;01mnot\u001b[39;00m (\u001b[38;5;28mself\u001b[39m\u001b[38;5;241m.\u001b[39m_backward_hooks \u001b[38;5;129;01mor\u001b[39;00m \u001b[38;5;28mself\u001b[39m\u001b[38;5;241m.\u001b[39m_backward_pre_hooks \u001b[38;5;129;01mor\u001b[39;00m \u001b[38;5;28mself\u001b[39m\u001b[38;5;241m.\u001b[39m_forward_hooks \u001b[38;5;129;01mor\u001b[39;00m \u001b[38;5;28mself\u001b[39m\u001b[38;5;241m.\u001b[39m_forward_pre_hooks\n\u001b[1;32m   1745\u001b[0m         \u001b[38;5;129;01mor\u001b[39;00m _global_backward_pre_hooks \u001b[38;5;129;01mor\u001b[39;00m _global_backward_hooks\n\u001b[1;32m   1746\u001b[0m         \u001b[38;5;129;01mor\u001b[39;00m _global_forward_hooks \u001b[38;5;129;01mor\u001b[39;00m _global_forward_pre_hooks):\n\u001b[0;32m-> 1747\u001b[0m     \u001b[38;5;28;01mreturn\u001b[39;00m \u001b[43mforward_call\u001b[49m\u001b[43m(\u001b[49m\u001b[38;5;241;43m*\u001b[39;49m\u001b[43margs\u001b[49m\u001b[43m,\u001b[49m\u001b[43m \u001b[49m\u001b[38;5;241;43m*\u001b[39;49m\u001b[38;5;241;43m*\u001b[39;49m\u001b[43mkwargs\u001b[49m\u001b[43m)\u001b[49m\n\u001b[1;32m   1749\u001b[0m result \u001b[38;5;241m=\u001b[39m \u001b[38;5;28;01mNone\u001b[39;00m\n\u001b[1;32m   1750\u001b[0m called_always_called_hooks \u001b[38;5;241m=\u001b[39m \u001b[38;5;28mset\u001b[39m()\n",
      "File \u001b[0;32m~/.pyenv/versions/3.12.2/envs/2121057/lib/python3.12/site-packages/torch_geometric/nn/conv/gcn_conv.py:241\u001b[0m, in \u001b[0;36mGCNConv.forward\u001b[0;34m(self, x, edge_index, edge_weight)\u001b[0m\n\u001b[1;32m    239\u001b[0m cache \u001b[38;5;241m=\u001b[39m \u001b[38;5;28mself\u001b[39m\u001b[38;5;241m.\u001b[39m_cached_edge_index\n\u001b[1;32m    240\u001b[0m \u001b[38;5;28;01mif\u001b[39;00m cache \u001b[38;5;129;01mis\u001b[39;00m \u001b[38;5;28;01mNone\u001b[39;00m:\n\u001b[0;32m--> 241\u001b[0m     edge_index, edge_weight \u001b[38;5;241m=\u001b[39m \u001b[43mgcn_norm\u001b[49m\u001b[43m(\u001b[49m\u001b[43m  \u001b[49m\u001b[38;5;66;43;03m# yapf: disable\u001b[39;49;00m\n\u001b[1;32m    242\u001b[0m \u001b[43m        \u001b[49m\u001b[43medge_index\u001b[49m\u001b[43m,\u001b[49m\u001b[43m \u001b[49m\u001b[43medge_weight\u001b[49m\u001b[43m,\u001b[49m\u001b[43m \u001b[49m\u001b[43mx\u001b[49m\u001b[38;5;241;43m.\u001b[39;49m\u001b[43msize\u001b[49m\u001b[43m(\u001b[49m\u001b[38;5;28;43mself\u001b[39;49m\u001b[38;5;241;43m.\u001b[39;49m\u001b[43mnode_dim\u001b[49m\u001b[43m)\u001b[49m\u001b[43m,\u001b[49m\n\u001b[1;32m    243\u001b[0m \u001b[43m        \u001b[49m\u001b[38;5;28;43mself\u001b[39;49m\u001b[38;5;241;43m.\u001b[39;49m\u001b[43mimproved\u001b[49m\u001b[43m,\u001b[49m\u001b[43m \u001b[49m\u001b[38;5;28;43mself\u001b[39;49m\u001b[38;5;241;43m.\u001b[39;49m\u001b[43madd_self_loops\u001b[49m\u001b[43m,\u001b[49m\u001b[43m \u001b[49m\u001b[38;5;28;43mself\u001b[39;49m\u001b[38;5;241;43m.\u001b[39;49m\u001b[43mflow\u001b[49m\u001b[43m,\u001b[49m\u001b[43m \u001b[49m\u001b[43mx\u001b[49m\u001b[38;5;241;43m.\u001b[39;49m\u001b[43mdtype\u001b[49m\u001b[43m)\u001b[49m\n\u001b[1;32m    244\u001b[0m     \u001b[38;5;28;01mif\u001b[39;00m \u001b[38;5;28mself\u001b[39m\u001b[38;5;241m.\u001b[39mcached:\n\u001b[1;32m    245\u001b[0m         \u001b[38;5;28mself\u001b[39m\u001b[38;5;241m.\u001b[39m_cached_edge_index \u001b[38;5;241m=\u001b[39m (edge_index, edge_weight)\n",
      "File \u001b[0;32m~/.pyenv/versions/3.12.2/envs/2121057/lib/python3.12/site-packages/torch_geometric/nn/conv/gcn_conv.py:99\u001b[0m, in \u001b[0;36mgcn_norm\u001b[0;34m(edge_index, edge_weight, num_nodes, improved, add_self_loops, flow, dtype)\u001b[0m\n\u001b[1;32m     96\u001b[0m num_nodes \u001b[38;5;241m=\u001b[39m maybe_num_nodes(edge_index, num_nodes)\n\u001b[1;32m     98\u001b[0m \u001b[38;5;28;01mif\u001b[39;00m add_self_loops:\n\u001b[0;32m---> 99\u001b[0m     edge_index, edge_weight \u001b[38;5;241m=\u001b[39m \u001b[43madd_remaining_self_loops\u001b[49m\u001b[43m(\u001b[49m\n\u001b[1;32m    100\u001b[0m \u001b[43m        \u001b[49m\u001b[43medge_index\u001b[49m\u001b[43m,\u001b[49m\u001b[43m \u001b[49m\u001b[43medge_weight\u001b[49m\u001b[43m,\u001b[49m\u001b[43m \u001b[49m\u001b[43mfill_value\u001b[49m\u001b[43m,\u001b[49m\u001b[43m \u001b[49m\u001b[43mnum_nodes\u001b[49m\u001b[43m)\u001b[49m\n\u001b[1;32m    102\u001b[0m \u001b[38;5;28;01mif\u001b[39;00m edge_weight \u001b[38;5;129;01mis\u001b[39;00m \u001b[38;5;28;01mNone\u001b[39;00m:\n\u001b[1;32m    103\u001b[0m     edge_weight \u001b[38;5;241m=\u001b[39m torch\u001b[38;5;241m.\u001b[39mones((edge_index\u001b[38;5;241m.\u001b[39msize(\u001b[38;5;241m1\u001b[39m), ), dtype\u001b[38;5;241m=\u001b[39mdtype,\n\u001b[1;32m    104\u001b[0m                              device\u001b[38;5;241m=\u001b[39medge_index\u001b[38;5;241m.\u001b[39mdevice)\n",
      "File \u001b[0;32m~/.pyenv/versions/3.12.2/envs/2121057/lib/python3.12/site-packages/torch_geometric/utils/loop.py:624\u001b[0m, in \u001b[0;36madd_remaining_self_loops\u001b[0;34m(edge_index, edge_attr, fill_value, num_nodes)\u001b[0m\n\u001b[1;32m    591\u001b[0m \u001b[38;5;250m\u001b[39m\u001b[38;5;124mr\u001b[39m\u001b[38;5;124;03m\"\"\"Adds remaining self-loop :math:`(i,i) \\in \\mathcal{E}` to every node\u001b[39;00m\n\u001b[1;32m    592\u001b[0m \u001b[38;5;124;03m:math:`i \\in \\mathcal{V}` in the graph given by :attr:`edge_index`.\u001b[39;00m\n\u001b[1;32m    593\u001b[0m \u001b[38;5;124;03mIn case the graph is weighted or has multi-dimensional edge features\u001b[39;00m\n\u001b[0;32m   (...)\u001b[0m\n\u001b[1;32m    621\u001b[0m \u001b[38;5;124;03m    tensor([0.5000, 0.5000, 1.0000, 1.0000]))\u001b[39;00m\n\u001b[1;32m    622\u001b[0m \u001b[38;5;124;03m\"\"\"\u001b[39;00m\n\u001b[1;32m    623\u001b[0m N \u001b[38;5;241m=\u001b[39m maybe_num_nodes(edge_index, num_nodes)\n\u001b[0;32m--> 624\u001b[0m mask \u001b[38;5;241m=\u001b[39m \u001b[43medge_index\u001b[49m\u001b[43m[\u001b[49m\u001b[38;5;241;43m0\u001b[39;49m\u001b[43m]\u001b[49m\u001b[43m \u001b[49m\u001b[38;5;241;43m!=\u001b[39;49m\u001b[43m \u001b[49m\u001b[43medge_index\u001b[49m\u001b[43m[\u001b[49m\u001b[38;5;241;43m1\u001b[39;49m\u001b[43m]\u001b[49m\n\u001b[1;32m    626\u001b[0m device \u001b[38;5;241m=\u001b[39m edge_index\u001b[38;5;241m.\u001b[39mdevice\n\u001b[1;32m    627\u001b[0m \u001b[38;5;28;01mif\u001b[39;00m \u001b[38;5;129;01mnot\u001b[39;00m torch\u001b[38;5;241m.\u001b[39mjit\u001b[38;5;241m.\u001b[39mis_scripting() \u001b[38;5;129;01mand\u001b[39;00m \u001b[38;5;28misinstance\u001b[39m(edge_index, EdgeIndex):\n",
      "\u001b[0;31mRuntimeError\u001b[0m: CUDA error: device-side assert triggered\nCUDA kernel errors might be asynchronously reported at some other API call, so the stacktrace below might be incorrect.\nFor debugging consider passing CUDA_LAUNCH_BLOCKING=1\nCompile with `TORCH_USE_CUDA_DSA` to enable device-side assertions.\n"
     ]
    }
   ],
   "source": [
    "auc_values=[]\n",
    "ap_values =[]\n",
    "\n",
    "best_auc = 0.0  # Track the best AUC value\n",
    "consecutive_epochs = 0  # Track the number of consecutive epochs with AUC not increasing\n",
    "auc = 0\n",
    "\n",
    "import os\n",
    "os.environ['CUDA_LAUNCH_BLOCKING'] = '1'\n",
    "\n",
    "for epoch in range(1, epochs + 1):\n",
    "    loss = train(train_data)\n",
    "\n",
    "\n",
    "    if (epoch % 100 == 0):\n",
    "        # Area under Curve (AUC) and Average Precision (AP)\n",
    "        auc, ap = test(test_data)\n",
    "        print('Epoch: {:03d}, Loss: {:.4f}, AUC: {:.4f}, AP: {:.4f}'.format(epoch, loss, auc, ap))\n",
    "        auc_values.append(auc)\n",
    "        ap_values.append(ap)\n",
    "\n",
    "    # Check for early stopping\n",
    "    if (auc >= (best_auc - 0.01 * best_auc)):  # Check if auc is less than or equal to 1% decrease\n",
    "      if (auc >= 0.8):\n",
    "          best_auc = auc\n",
    "          consecutive_epochs = 0\n",
    "    else:\n",
    "       consecutive_epochs += 1\n",
    "\n",
    "    if consecutive_epochs >= 10:\n",
    "       print('Early stopping: AUC has not increased by more than 1% for 10 epochs.')\n",
    "       break"
   ]
  },
  {
   "cell_type": "markdown",
   "metadata": {
    "id": "uuzGq-za4jhx"
   },
   "source": [
    "## Z (Latent Representation)\n"
   ]
  },
  {
   "cell_type": "markdown",
   "metadata": {
    "id": "7uHLR1l_IMOH"
   },
   "source": [
    "#### Clustering with only (Node) Features"
   ]
  },
  {
   "cell_type": "code",
   "execution_count": null,
   "metadata": {
    "colab": {
     "base_uri": "https://localhost:8080/"
    },
    "id": "M49mg3xTYoE5",
    "outputId": "d7383095-f51e-46e3-fc31-00e825331022"
   },
   "outputs": [],
   "source": [
    "#------------------------------------------------------------Baseline Approach Clustering\n",
    "node_kmeans = KMeans(n_clusters=num_clusters, n_init=n)\n",
    "node_eval_data = data_\n",
    "node_X = node_eval_data.x[:,[0,1]].cpu().detach().numpy()\n",
    "\n",
    "node_df = pd.DataFrame(node_X, columns = ['X','Y'])\n",
    "node_kmeans.fit(node_df[['X', 'Y']])\n",
    "\n",
    "# Adding cluster labels to the DataFrame\n",
    "df_with_cluster = df.copy(deep=True)\n",
    "df_with_cluster['cluster'] = node_kmeans.labels_\n",
    "node_cluster_centers = node_kmeans.cluster_centers_\n",
    "\n",
    "node_G = to_networkx(node_eval_data)\n",
    "node_G = G.to_undirected()\n",
    "node_labels = node_kmeans.labels_\n",
    "\n",
    "node_pos = dict(zip(range(node_X[:, 0].size), node_X))\n",
    "\n",
    "## Draw the Graph\n",
    "fig, ax = plt.subplots(figsize=(10, 10))\n",
    "ax.scatter(df_with_cluster['X'], df_with_cluster['Y'], s=20, color='grey')\n",
    "nx.draw_networkx_nodes(node_G, node_pos, cmap=plt.get_cmap('tab20'), node_color = node_labels, node_size=20, ax=ax)\n",
    "nx.draw_networkx_edges(node_G, node_pos, edge_color='grey', ax=ax)\n",
    "ax.set_xlabel('X')\n",
    "ax.set_ylabel('Y')\n",
    "plt.savefig(f'{folder_path}{run_id}_{version}-cluster-node-features-baseline', format='eps', dpi=300)\n",
    "plt.show()"
   ]
  },
  {
   "cell_type": "markdown",
   "metadata": {
    "id": "Prq8PWT0SltP"
   },
   "source": [
    "### KMeans Clustering with Graph and Features"
   ]
  },
  {
   "cell_type": "code",
   "execution_count": null,
   "metadata": {
    "colab": {
     "base_uri": "https://localhost:8080/"
    },
    "id": "XCaoVmTGkGsh",
    "outputId": "14d3fffd-eb40-44c4-c1d3-571ce95abf6e"
   },
   "outputs": [],
   "source": [
    "#----------------------------------GNN Approach\n",
    "model.eval()\n",
    "with torch.no_grad():\n",
    "  z = model.encode(data_.x, data_.edge_index)\n",
    "\n",
    "# Perform KMeans clustering on the latent space (z)\n",
    "z = z.cpu().detach().numpy()\n",
    "gnn_kmeans = KMeans(n_clusters=num_clusters, n_init=n).fit(z)\n",
    "gnn_eval_data = data_\n",
    "gnn_X = gnn_eval_data.x[:,[0,1]].cpu().detach().numpy()\n",
    "gnn_df = pd.DataFrame(gnn_X, columns = ['X','Y'])\n",
    "\n",
    "# Adding cluster labels to the DataFrame\n",
    "gnn_df_with_cluster = gnn_df.copy(deep=True)\n",
    "gnn_df_with_cluster['cluster'] = gnn_kmeans.labels_\n",
    "\n",
    "gnn_G = to_networkx(gnn_eval_data)\n",
    "gnn_G = gnn_G.to_undirected()\n",
    "gnn_labels = gnn_kmeans.labels_\n",
    "gnn_cluster_centers = gnn_kmeans.cluster_centers_\n",
    "\n",
    "\n",
    "gnn_pos = dict(zip(range(gnn_X[:, 0].size), gnn_X))\n",
    "\n",
    "# Draw the Graph\n",
    "fig, ax = plt.subplots(figsize=(10, 10))\n",
    "ax.scatter(gnn_df_with_cluster['X'], gnn_df_with_cluster['Y'], s=20, color='grey')\n",
    "nx.draw_networkx_nodes(gnn_G, gnn_pos, cmap=plt.get_cmap('tab20'), node_color = gnn_labels, node_size=20, ax=ax)\n",
    "nx.draw_networkx_edges(gnn_G, gnn_pos, edge_color='grey', ax=ax)\n",
    "ax.set_xlabel('X')\n",
    "ax.set_ylabel('Y')\n",
    "plt.savefig(f'{folder_path}{run_id}_{version}-kmeans-cluster-node-features-gnn', format='eps', dpi=300)\n",
    "plt.show()"
   ]
  },
  {
   "cell_type": "markdown",
   "metadata": {
    "id": "0RmvflGW2xrf"
   },
   "source": [
    "# Performance Analysis"
   ]
  },
  {
   "cell_type": "markdown",
   "metadata": {
    "id": "PjQuuQyLGrhr"
   },
   "source": [
    "### Save to CSV"
   ]
  },
  {
   "cell_type": "code",
   "execution_count": null,
   "metadata": {
    "id": "SOgbbGKzGruI"
   },
   "outputs": [],
   "source": [
    "import csv\n",
    "\n",
    "def save_array_to_csv(r_id, ftype, v, array_data, title_count, title_type, row_title, row_number):\n",
    "    file_exists = os.path.exists(f\"{r_id}_{ftype}_{title_type}_{v}.csv\")\n",
    "    file_path = f\"{folder_path}{r_id}_{ftype}_{title_type}_{v}.csv\"\n",
    "\n",
    "    try:\n",
    "        mode = 'a' if os.path.exists(file_path) else 'w'\n",
    "\n",
    "        # Use 'a' mode (append), w mode to write to open the file\n",
    "        with open(file_path, mode=mode, newline='') as csv_file:\n",
    "            csv_writer = csv.writer(csv_file)\n",
    "\n",
    "            # If the file doesn't exist, write the titles\n",
    "            if mode == 'w':\n",
    "                titles = [f\"{row_title}\"]\n",
    "\n",
    "                for i in range(title_count):\n",
    "                    titles.append(f\"{i+1}\")\n",
    "\n",
    "                csv_writer.writerow(titles)\n",
    "\n",
    "            if isinstance(array_data, list) and all(isinstance(row, list) for row in array_data):\n",
    "                # Write the data rows\n",
    "                print(\"if\")\n",
    "                for row in enumerate(len(array_data[0]), start=1):\n",
    "                    csv_writer.writerow(array_data[row])\n",
    "            else:\n",
    "                print(\"else\")\n",
    "                row_name = [f\"{row_title} {row_number}\"]  + array_data\n",
    "                csv_writer.writerow(row_name)\n",
    "\n",
    "        print(f\"Data successfully saved to {file_path}.\")\n",
    "    except Exception as e:\n",
    "          print(f\"Error occurred while saving data to {file_path}: {e}\")"
   ]
  },
  {
   "cell_type": "markdown",
   "metadata": {
    "id": "tzUg90xe7Kwj"
   },
   "source": [
    "### Graph Epoch AUC and AP - Works\n",
    "\n"
   ]
  },
  {
   "cell_type": "code",
   "execution_count": null,
   "metadata": {
    "colab": {
     "base_uri": "https://localhost:8080/",
     "height": 586
    },
    "id": "WJie08gk7KrN",
    "outputId": "00bdb86f-bd9a-4650-bf29-e784d4f15434"
   },
   "outputs": [],
   "source": [
    "# Good values for AUC and AP\n",
    "good_auc = 0.8\n",
    "good_ap = 0.5\n",
    "\n",
    "# Plot AUC & AP values\n",
    "x_values = range(1, len(auc_values) + 1)\n",
    "plt.plot(x_values, auc_values, label='AUC')\n",
    "plt.plot(x_values, ap_values, label='AP')\n",
    "plt.axhline(y=good_auc, color='blue', linestyle='dashed', label=f'Good AUC: {good_auc}')\n",
    "plt.axhline(y=good_ap, color='orange', linestyle='dashed', label=f'Good AP: {good_ap}')\n",
    "plt.xlabel('Epochs')\n",
    "plt.ylabel('Value')\n",
    "plt.title('AUC and AP Progression')\n",
    "plt.legend()\n",
    "plt.savefig(f'{folder_path}{run_id}_{version}-auc-ap.eps', format='eps', dpi=300)\n",
    "plt.savefig(f'{folder_path}{run_id}_{version}-auc-ap.png', format='png', dpi=300)\n",
    "plt.show()\n",
    "\n",
    "\n",
    "###-----------------------------------------------------------------------------------------Call the method and filename here\n",
    "save_array_to_csv(run_id, 'auc', version, auc_values, epoch, 'epoch', 'cluster', num_clusters)\n",
    "save_array_to_csv(run_id, 'ap', version, ap_values, epoch, 'epoch', 'cluster', num_clusters)\n"
   ]
  },
  {
   "cell_type": "markdown",
   "metadata": {
    "id": "9YEGO-2Tl9Zh"
   },
   "source": [
    "### Clustering Visualizations"
   ]
  },
  {
   "cell_type": "code",
   "execution_count": null,
   "metadata": {
    "colab": {
     "base_uri": "https://localhost:8080/"
    },
    "id": "LBDw-YhxmCrL",
    "outputId": "67ab1670-a723-4ed7-fd22-1c2b21acbcd3"
   },
   "outputs": [],
   "source": [
    "print(\"------------KMeans Baseline Approach---------------\")\n",
    "node_cluster_head_indices = []\n",
    "node_distances_to_centers = node_kmeans.transform(node_X)\n",
    "for i in range(num_clusters):\n",
    "    node_cluster_data_indices = np.where(node_labels == i)[0]\n",
    "    node_distances_to_center = node_distances_to_centers[node_cluster_data_indices, i]\n",
    "    node_cluster_head_index = node_cluster_data_indices[np.argmin(node_distances_to_center)]\n",
    "    node_cluster_head_indices.append(node_cluster_head_index)\n",
    "\n",
    "fig, ax = plt.subplots(figsize=(10, 10))\n",
    "nx.draw_networkx_edges(node_G, node_pos, alpha=0.1, ax=ax)\n",
    "node_scatter = ax.scatter(X[:, 0], X[:, 1], s=20, color='grey', label='Nodes')\n",
    "nx.draw_networkx_nodes(node_G, node_pos, cmap=plt.get_cmap('tab20'), node_color=node_labels, node_size=20, ax=ax)\n",
    "\n",
    "node_cluster_x, node_cluster_y = zip(*node_cluster_centers)\n",
    "cluster_scatter = ax.scatter(node_cluster_x, node_cluster_y, marker='x', s=125, c='black', label='Cluster Centers')\n",
    "\n",
    "node_cluster_head_x = [X[i][0] for i in node_cluster_head_indices]\n",
    "node_cluster_head_y = [X[i][1] for i in node_cluster_head_indices]\n",
    "cluster_head_scatter = ax.scatter(node_cluster_head_x, node_cluster_head_y, marker='D', s=200, c='black', edgecolors='white', linewidth=1, label='Cluster Heads')\n",
    "ax.set_xlabel('X')\n",
    "ax.set_ylabel('Y')\n",
    "ax.legend(handles=[node_scatter, cluster_scatter, cluster_head_scatter])\n",
    "plt.savefig(f'{folder_path}{run_id}_{version}-cluster-centers-node-features-baseline.eps', format='eps', dpi=300)\n",
    "plt.savefig(f'{folder_path}{run_id}_{version}-cluster-centers-node-features-baseline.png', format='png', dpi=300)\n",
    "plt.show()"
   ]
  },
  {
   "cell_type": "code",
   "execution_count": null,
   "metadata": {
    "colab": {
     "base_uri": "https://localhost:8080/"
    },
    "id": "431g1UJQ33o-",
    "outputId": "0014b2aa-286e-4b08-bf1e-bdc8784b6add"
   },
   "outputs": [],
   "source": [
    "print(\"--------------MANUAL CLUSTER HEAD CALCULATION FOR GNN--------------\")\n",
    "cluster_centers = gnn_df_with_cluster.groupby('cluster')[['X', 'Y']].mean()\n",
    "\n",
    "gnn_closest_node_indices = []\n",
    "for cluster_id, (center_x, center_y) in enumerate(zip(cluster_centers['X'], cluster_centers['Y'])):\n",
    "    gnn_distances = np.linalg.norm(gnn_df_with_cluster[['X', 'Y']].values - np.array([center_x, center_y]), axis=1)\n",
    "    gnn_closest_node_index = np.argmin(gnn_distances)\n",
    "    gnn_closest_node_indices.append(gnn_closest_node_index)\n",
    "\n",
    "fig, ax = plt.subplots(figsize=(10, 10))\n",
    "nx.draw_networkx_edges(gnn_G, gnn_pos, alpha=0.1, ax=ax)\n",
    "gnn_scatter = ax.scatter(gnn_df_with_cluster['X'], gnn_df_with_cluster['Y'], s=20, color='grey', label='Nodes')\n",
    "nx.draw_networkx_nodes(gnn_G, gnn_pos, cmap=plt.get_cmap('tab20'), node_color=gnn_labels, node_size=20, ax=ax)\n",
    "\n",
    "cluster_center_scatter = ax.scatter(cluster_centers['X'], cluster_centers['Y'], marker='x', s=125, c='black', edgecolors='white', linewidth=1, label='Cluster Centers')\n",
    "cluster_head_scatter = ax.scatter(gnn_df_with_cluster.loc[gnn_closest_node_indices, 'X'], gnn_df_with_cluster.loc[gnn_closest_node_indices, 'Y'], marker='D', s=200, c='black', edgecolors='white', linewidth=1, label='Cluster Heads')\n",
    "\n",
    "ax.set_xlabel('X')\n",
    "ax.set_ylabel('Y')\n",
    "\n",
    "handles, labels = ax.get_legend_handles_labels()\n",
    "handles.append(cluster_center_scatter)\n",
    "handles.append(cluster_head_scatter)\n",
    "ax.legend(handles=handles, labels=labels)\n",
    "\n",
    "plt.savefig(f'{folder_path}{run_id}_{version}-cluster-centers-node-features-gnn.eps', format='eps', dpi=300)\n",
    "plt.savefig(f'{folder_path}{run_id}_{version}-cluster-centers-node-features-gnn.png', format='png', dpi=300)\n",
    "plt.show()\n"
   ]
  },
  {
   "cell_type": "code",
   "execution_count": null,
   "metadata": {
    "colab": {
     "base_uri": "https://localhost:8080/"
    },
    "id": "3sgFCQc2mb7w",
    "outputId": "96437e3a-75d0-4d6b-924a-652b8b8b8bed"
   },
   "outputs": [],
   "source": [
    "print(\"---------------Combined--------------\")\n",
    "fig, ax = plt.subplots(figsize=(10, 10))\n",
    "nx.draw_networkx_edges(gnn_G, gnn_pos, alpha=0.1, ax=ax)\n",
    "node_scatter = ax.scatter(gnn_X[:, 0], gnn_X[:, 1], s=20, color='grey')\n",
    "gnn_cluster_center_scatter = ax.scatter(cluster_centers['X'], cluster_centers['Y'], marker='x', s=125, c='green', edgecolors='white', linewidth=1, label='GNN Cluster Centers')\n",
    "gnn_cluster_head_scatter = ax.scatter(gnn_df_with_cluster.loc[gnn_closest_node_indices, 'X'], gnn_df_with_cluster.loc[gnn_closest_node_indices, 'Y'], marker='D', s=200, c='green', edgecolors='white', linewidth=1, label='GNN Cluster Heads')\n",
    "node_cluster_head_scatter = ax.scatter(node_cluster_head_x, node_cluster_head_y, marker='D', s=100, c='red', edgecolors='white', linewidth=1, label='KMeans Cluster Heads')\n",
    "node_cluster_scatter = ax.scatter(node_cluster_x, node_cluster_y, marker='x', s=125, c='red', label='KMeans Cluster Centers')\n",
    "\n",
    "node_scatter.set_label('Nodes')\n",
    "ax.set_xlabel('X')\n",
    "ax.set_ylabel('Y')\n",
    "handles = [gnn_cluster_head_scatter, node_cluster_head_scatter, node_scatter]\n",
    "labels = [h.get_label() for h in handles]\n",
    "ax.legend(handles=handles, labels=labels)\n",
    "plt.savefig(f'{folder_path}{run_id}_{version}-cluster-centers-node-features-combined-V1.eps', format='eps', dpi=300)\n",
    "plt.savefig(f'{folder_path}{run_id}_{version}-cluster-centers-node-features-combined-V1.png', format='png', dpi=300)\n",
    "plt.show()"
   ]
  },
  {
   "cell_type": "markdown",
   "metadata": {
    "id": "p839N56QKWOp"
   },
   "source": [
    "### Generate Multiple Clusters"
   ]
  },
  {
   "cell_type": "code",
   "execution_count": null,
   "metadata": {
    "id": "lrC_wCiXHRKd"
   },
   "outputs": [],
   "source": [
    "rsu_list = node_df[:num_Infrastructure].to_numpy()"
   ]
  },
  {
   "cell_type": "code",
   "execution_count": null,
   "metadata": {
    "colab": {
     "base_uri": "https://localhost:8080/"
    },
    "id": "Mak5q21SP9R_",
    "outputId": "18989c9b-3351-4e55-cfd4-37a7a6757e15"
   },
   "outputs": [],
   "source": [
    "num_clusters_range = range(2, K + 1)\n",
    "\n",
    "print(\"-------------------KMeans Baseline Approach---------------------\")\n",
    "node_sse_values = []\n",
    "node_min_cluster_sizes = []\n",
    "node_max_cluster_sizes = []\n",
    "node_median_cluster_sizes = []\n",
    "node_avg_cluster_distances = []\n",
    "node_centroid_avg_distances = []\n",
    "node_avg_cluster_densities = []\n",
    "node_silhouette_scores = []\n",
    "node_davies_bouldin_scores = []\n",
    "node_ari_values = []\n",
    "node_avg_intra_distances = []\n",
    "node_avg_inter_distances = []\n",
    "node_nmi_values = []\n",
    "node_calinski_harabasz_scores = []\n",
    "node_inertia_values = []\n",
    "\n",
    "\n",
    "for num_clusters in num_clusters_range:\n",
    "    print(\"Cluster (Baseline): \", num_clusters)\n",
    "    node_kmeans = KMeans(n_clusters=num_clusters, n_init=n)\n",
    "    node_eval_data = data_\n",
    "    node_X = node_eval_data.x[:,[0,1]].cpu().detach().numpy()\n",
    "\n",
    "    node_df = pd.DataFrame(node_X, columns = ['X','Y'])\n",
    "    node_kmeans.fit(node_X)\n",
    "\n",
    "    # Adding cluster labels to the DataFrame\n",
    "    df_with_cluster = df.copy(deep=True)\n",
    "    node_labels = node_kmeans.labels_\n",
    "    df_with_cluster['cluster'] = node_labels\n",
    "    node_cluster_centers = node_kmeans.cluster_centers_\n",
    "\n",
    "    node_G = to_networkx(node_eval_data)\n",
    "    node_G = G.to_undirected()\n",
    "\n",
    "    node_pos = dict(zip(range(node_X[:, 0].size), node_X))\n",
    "    node_cluster_sizes = dict(Counter(node_labels))\n",
    "\n",
    "    # Calculate SSE for the current cluster size\n",
    "    node_sse = node_kmeans.inertia_\n",
    "    node_sse_values.append(node_sse)\n",
    "\n",
    "    # Calculate MSE from SSE values\n",
    "    node_mse_values = np.array(node_sse_values) / len(node_X)\n",
    "\n",
    "    node_calinski_harabasz_scores.append(calinski_harabasz_score(node_X, node_labels))\n",
    "    node_inertia_values.append(node_kmeans.inertia_)\n",
    "    # node_ari_values.append(adjusted_rand_score(true_labels, node_labels))  # Replace true_labels with your ground truth labels\n",
    "\n",
    "\n",
    "    node_intra_distances = np.zeros(num_clusters)\n",
    "\n",
    "    for cluster in range(num_clusters):\n",
    "        cluster_mask = node_labels == cluster\n",
    "        cluster_distances = np.linalg.norm(node_X[cluster_mask] - node_kmeans.cluster_centers_[cluster], axis=1)\n",
    "        node_intra_distances[cluster] = np.mean(cluster_distances)\n",
    "    node_avg_intra_distances.append(np.mean(node_intra_distances))\n",
    "\n",
    "    # Calculate inter-cluster distances for KMeans\n",
    "    node_inter_distances = np.zeros(num_clusters)\n",
    "    for cluster in range(num_clusters):\n",
    "        other_clusters_centers = np.delete(node_kmeans.cluster_centers_, cluster, axis=0)\n",
    "        cluster_distances = np.linalg.norm(other_clusters_centers - node_kmeans.cluster_centers_[cluster], axis=1)\n",
    "        node_inter_distances[cluster] = np.mean(cluster_distances)\n",
    "    node_avg_inter_distances.append(np.mean(node_inter_distances))\n",
    "\n",
    "    # Calculate Silhouette Score for the current cluster size\n",
    "    node_silhouette_score = silhouette_score(node_X, node_labels)\n",
    "    node_silhouette_scores.append(node_silhouette_score)\n",
    "\n",
    "    # Calculate Davies-Bouldin Index for the current cluster size\n",
    "    node_davies_bouldin_score = davies_bouldin_score(node_X, node_labels)\n",
    "    node_davies_bouldin_scores.append(node_davies_bouldin_score)\n",
    "\n",
    "    # Calculate the minimum, maximum, and median cluster sizes\n",
    "    node_min_cluster_size = min(node_cluster_sizes.values())\n",
    "    node_max_cluster_size = max(node_cluster_sizes.values())\n",
    "    node_median_cluster_size = np.median(list(node_cluster_sizes.values()))\n",
    "\n",
    "    # Save the cluster size statistics\n",
    "    node_min_cluster_sizes.append(node_min_cluster_size)\n",
    "    node_max_cluster_sizes.append(node_max_cluster_size)\n",
    "    node_median_cluster_sizes.append(node_median_cluster_size)\n",
    "\n",
    "    node_cluster_node_avg_distances = []\n",
    "    node_distances_to_centers = node_kmeans.transform(node_X)\n",
    "    for cluster in range(num_clusters):\n",
    "        node_cluster_mask = node_labels == cluster\n",
    "        node_cluster_distances = node_distances_to_centers[node_cluster_mask]\n",
    "        node_cluster_node_avg_distance = np.mean(node_cluster_distances)\n",
    "        node_cluster_node_avg_distances.append(node_cluster_node_avg_distance)\n",
    "\n",
    "    # Calculate the average cluster distance for the current cluster size\n",
    "    node_avg_cluster_distance = np.mean(node_cluster_node_avg_distances)\n",
    "    node_avg_cluster_distances.append(node_avg_cluster_distance)\n",
    "\n",
    "    # Calculate the average cluster density for the current cluster size\n",
    "    node_avg_cluster_density = len(node_df)/ sum(node_cluster_node_avg_distances)\n",
    "    node_avg_cluster_densities.append(node_avg_cluster_density)\n",
    "\n",
    "    min_list = []\n",
    "    for i in range(num_clusters):\n",
    "        min_dist = float('inf')\n",
    "        total = []\n",
    "        for j in range(len(rsu_list)):\n",
    "            dist = math.sqrt((rsu_list[j][0] - node_cluster_centers[i][0])**2 + (rsu_list[j][1] - node_cluster_centers[i][1])**2)\n",
    "            if dist < min_dist:\n",
    "              min_dist = dist\n",
    "        min_list.append(min_dist)\n",
    "\n",
    "    node_centroid_min_avg_distance = np.mean(min_list)\n",
    "    node_centroid_avg_distances.append(node_centroid_min_avg_distance)\n",
    "\n",
    "    # Calculate distances from data points to their respective cluster centers------------------------\n",
    "    node_distances_to_centers = np.zeros(node_X.shape[0])\n",
    "    for i in range(node_X.shape[0]):\n",
    "        node_cluster_idx = node_labels[i]\n",
    "        node_distance = np.linalg.norm(node_X[i] - node_cluster_centers[node_cluster_idx])\n",
    "        node_distances_to_centers[i] = node_distance\n",
    "\n",
    "    # Sort the distances in ascending order\n",
    "    node_sorted_distances = np.sort(node_distances_to_centers)\n",
    "\n",
    "    # Compute the cumulative probabilities for each distance\n",
    "    cumulative_probabilities = np.arange(1, len(node_sorted_distances) + 1) / len(node_sorted_distances)\n",
    "\n",
    "    # Fit a continuous distribution to the distances and obtain the CDF values for the fitted distribution\n",
    "    fitted_distribution = stats.rv_histogram(np.histogram(node_sorted_distances, bins=20))\n",
    "    cdf_fitted = fitted_distribution.cdf(node_sorted_distances)\n",
    "\n",
    "    # Plot the CDF curve for the current cluster size as a smooth line\n",
    "    ax.plot(node_sorted_distances, cdf_fitted, label=f'Cluster Size {num_clusters}') #----------------------------"
   ]
  },
  {
   "cell_type": "code",
   "execution_count": null,
   "metadata": {
    "colab": {
     "base_uri": "https://localhost:8080/"
    },
    "id": "wrztTZgDJLkT",
    "outputId": "0d94bb8c-b855-495a-89d2-2a362310f0a9"
   },
   "outputs": [],
   "source": [
    "print(\"---------------------GNN---------------------\")\n",
    "gnn_sse_values = []\n",
    "gnn_min_cluster_sizes = []\n",
    "gnn_max_cluster_sizes = []\n",
    "gnn_median_cluster_sizes = []\n",
    "gnn_avg_cluster_distances = []\n",
    "gnn_centroid_avg_distances = []\n",
    "gnn_avg_cluster_densities = []\n",
    "gnn_silhouette_scores = []\n",
    "gnn_davies_bouldin_scores = []\n",
    "gnn_avg_intra_distances = []\n",
    "gnn_ari_values = []\n",
    "gnn_avg_inter_distances = []\n",
    "gnn_ari_values = []\n",
    "gnn_calinski_harabasz_scores = []\n",
    "gnn_inertia_values = []\n",
    "gnn_intra_distances = np.zeros(num_clusters)\n",
    "gnn_inter_distances = np.zeros(num_clusters)\n",
    "\n",
    "for num_clusters in num_clusters_range:\n",
    "    print(\"Cluster (GNN): \", num_clusters)\n",
    "    gnn_kmeans = KMeans(n_clusters=num_clusters, n_init=n)\n",
    "    gnn_eval_data = data_\n",
    "    gnn_X = gnn_eval_data.x[:,[0,1]].cpu().detach().numpy()\n",
    "\n",
    "    gnn_df = pd.DataFrame(gnn_X, columns = ['X','Y'])\n",
    "    gnn_kmeans.fit(gnn_X)\n",
    "\n",
    "    # Adding cluster labels to the DataFrame\n",
    "    df_with_cluster = df.copy(deep=True)\n",
    "    gnn_labels = gnn_kmeans.labels_\n",
    "    df_with_cluster['cluster'] = gnn_labels\n",
    "\n",
    "\n",
    "    # ----------------------------------------------------------MANUAL CLUSTER HEAD AND CENTER\n",
    "    # Calculate cluster centers\n",
    "    gnn_cluster_centers = gnn_df_with_cluster.groupby('cluster')[['X', 'Y']].mean()\n",
    "    gnn_closest_node_indices = []\n",
    "    for cluster_id, (center_x, center_y) in enumerate(zip(gnn_cluster_centers['X'], gnn_cluster_centers['Y'])):\n",
    "        gnn_distances = np.linalg.norm(gnn_df_with_cluster[['X', 'Y']].values - np.array([center_x, center_y]), axis=1)\n",
    "        gnn_closest_node_index = np.argmin(gnn_distances)\n",
    "        gnn_closest_node_indices.append(gnn_closest_node_index)\n",
    "\n",
    "    gnn_G = to_networkx(gnn_eval_data)\n",
    "    gnn_G = G.to_undirected()\n",
    "\n",
    "    gnn_pos = dict(zip(range(gnn_X[:, 0].size), gnn_X))\n",
    "\n",
    "    gnn_cluster_sizes = dict(Counter(gnn_labels))\n",
    "\n",
    "    # Calculate SSE for the current cluster size\n",
    "    gnn_sse = gnn_kmeans.inertia_\n",
    "    gnn_sse_values.append(gnn_sse)\n",
    "\n",
    "    # Calculate MSE from SSE values\n",
    "    gnn_mse_values = np.array(gnn_sse_values) / len(gnn_X)\n",
    "\n",
    "    # Calculate Silhouette Score for the current cluster size\n",
    "    gnn_silhouette_score = silhouette_score(gnn_X, gnn_labels)\n",
    "    gnn_silhouette_scores.append(gnn_silhouette_score)\n",
    "\n",
    "    # Calculate Davies-Bouldin Index for the current cluster size\n",
    "    gnn_davies_bouldin_score = davies_bouldin_score(gnn_X, gnn_labels)\n",
    "    gnn_davies_bouldin_scores.append(gnn_davies_bouldin_score)\n",
    "\n",
    "    gnn_calinski_harabasz_scores.append(calinski_harabasz_score(gnn_X, gnn_labels))\n",
    "    gnn_inertia_values.append(gnn_kmeans.inertia_)\n",
    "\n",
    "    # Calculate intra-cluster distances for GNN\n",
    "    gnn_intra_distances = np.zeros(num_clusters)\n",
    "    for cluster in range(num_clusters):\n",
    "        cluster_mask = gnn_labels == cluster\n",
    "        cluster_distances = np.linalg.norm(gnn_X[cluster_mask] - gnn_kmeans.cluster_centers_[cluster], axis=1)\n",
    "        gnn_intra_distances[cluster] = np.mean(cluster_distances)\n",
    "\n",
    "    # Calculate inter-cluster distances for GNN\n",
    "    gnn_inter_distances = np.zeros(num_clusters)\n",
    "    for cluster in range(num_clusters):\n",
    "        other_clusters_centers = np.delete(gnn_kmeans.cluster_centers_, cluster, axis=0)\n",
    "        cluster_distances = np.linalg.norm(other_clusters_centers - gnn_kmeans.cluster_centers_[cluster], axis=1)\n",
    "        gnn_inter_distances[cluster] = np.mean(cluster_distances)\n",
    "\n",
    "    gnn_avg_inter_distances.append(np.mean(gnn_inter_distances))\n",
    "    gnn_avg_intra_distances.append(np.mean(gnn_intra_distances))\n",
    "\n",
    "    # Calculate the minimum, maximum, and median cluster sizes\n",
    "    gnn_min_cluster_size = min(gnn_cluster_sizes.values())\n",
    "    gnn_max_cluster_size = max(gnn_cluster_sizes.values())\n",
    "    gnn_median_cluster_size = np.median(list(gnn_cluster_sizes.values()))\n",
    "\n",
    "    # Save the cluster size statistics\n",
    "    gnn_min_cluster_sizes.append(gnn_min_cluster_size)\n",
    "    gnn_max_cluster_sizes.append(gnn_max_cluster_size)\n",
    "    gnn_median_cluster_sizes.append(gnn_median_cluster_size)\n",
    "\n",
    "    gnn_cluster_node_avg_distances = []\n",
    "    gnn_distances_to_centers = gnn_kmeans.transform(gnn_X)\n",
    "    for cluster in range(num_clusters):\n",
    "        gnn_cluster_mask = gnn_kmeans.labels_ == cluster\n",
    "        gnn_cluster_distances = gnn_distances_to_centers[gnn_cluster_mask]\n",
    "        gnn_cluster_node_avg_distance = np.mean(gnn_cluster_distances)\n",
    "        gnn_cluster_node_avg_distances.append(gnn_cluster_node_avg_distance)\n",
    "\n",
    "    # Calculate the average cluster distance for the current cluster size\n",
    "    gnn_avg_cluster_distance = np.mean(gnn_cluster_node_avg_distances)\n",
    "    gnn_avg_cluster_distances.append(gnn_avg_cluster_distance)\n",
    "\n",
    "    # Calculate the average cluster density for the current cluster size\n",
    "    gnn_avg_cluster_density = len(gnn_df) / sum(gnn_cluster_node_avg_distances)\n",
    "    gnn_avg_cluster_densities.append(gnn_avg_cluster_density)\n",
    "\n",
    "    min_list = []\n",
    "    for i in range(num_clusters):\n",
    "      min_dist = float('inf')\n",
    "      total = []\n",
    "      for j in range(len(rsu_list)):\n",
    "          dist = math.sqrt((rsu_list[j][0] - gnn_cluster_centers.iloc[i]['X'])**2 + (rsu_list[j][1] - gnn_cluster_centers.iloc[i]['Y'])**2)\n",
    "          if dist < min_dist:\n",
    "              min_dist = dist\n",
    "      min_list.append(min_dist)\n",
    "\n",
    "    gnn_centroid_min_avg_distance = np.mean(min_list)\n",
    "    gnn_centroid_avg_distances.append(gnn_centroid_min_avg_distance)\n",
    "\n",
    "    # Calculate distances from data points to their respective cluster centers------------------------\n",
    "    gnn_distances_to_centers = np.zeros(gnn_X.shape[0])\n",
    "    for i in range(gnn_X.shape[0]):\n",
    "        gnn_cluster_idx = gnn_labels[i]\n",
    "        gnn_distance = np.linalg.norm(gnn_X[i] - gnn_cluster_centers.iloc[gnn_cluster_idx])\n",
    "        gnn_distances_to_centers[i] = gnn_distance\n",
    "\n",
    "    # Sort the distances in ascending order\n",
    "    gnn_sorted_distances = np.sort(gnn_distances_to_centers)\n",
    "\n",
    "    # Compute the cumulative probabilities for each distance\n",
    "    cumulative_probabilities = np.arange(1, len(gnn_sorted_distances) + 1) / len(gnn_sorted_distances)\n",
    "\n",
    "    # Fit a continuous distribution to the distances and obtain the CDF values for the fitted distribution\n",
    "    fitted_distribution = stats.rv_histogram(np.histogram(gnn_sorted_distances, bins=20))\n",
    "    cdf_fitted = fitted_distribution.cdf(gnn_sorted_distances)\n",
    "\n",
    "    # Plot the CDF curve for the current cluster size as a smooth line\n",
    "    ax.plot(gnn_sorted_distances, cdf_fitted, label=f'Cluster Size {num_clusters}') #----------------------------"
   ]
  },
  {
   "cell_type": "markdown",
   "metadata": {
    "id": "5TC6trHTH5te"
   },
   "source": [
    "### Sum of Squares (SSE - Elbow)"
   ]
  },
  {
   "cell_type": "code",
   "execution_count": null,
   "metadata": {
    "colab": {
     "base_uri": "https://localhost:8080/"
    },
    "id": "VVTCKZg-J4rV",
    "outputId": "5d1f609d-7b5c-44a7-a9d7-3f83bf341ed1"
   },
   "outputs": [],
   "source": [
    "print(\"---------------KMeans Baseline Approach----------------\")\n",
    "plt.plot(num_clusters_range, node_sse_values, marker='o', linestyle='-', color='red',label='SSE KMeans')\n",
    "plt.xlabel('Number of Clusters')\n",
    "plt.ylabel('Sum of Squared Errors (SSE) / Distortion')\n",
    "plt.title('SSE for Varying Cluster Sizes Baseline')\n",
    "plt.legend()\n",
    "plt.savefig(f'{folder_path}{run_id}_{version}-baseline-sse-elbow.eps', format='eps', dpi=300)\n",
    "plt.savefig(f'{folder_path}{run_id}_{version}-baseline-sse-elbow.png', format='png', dpi=300)\n",
    "plt.show()\n",
    "\n",
    "save_array_to_csv(run_id, 'baseline-sse-elbow', version, node_sse_values, num_clusters_range, 'cluster', 'cluster', 's')\n"
   ]
  },
  {
   "cell_type": "code",
   "execution_count": null,
   "metadata": {
    "colab": {
     "base_uri": "https://localhost:8080/"
    },
    "id": "5esFgqBsH8an",
    "outputId": "c0f689d2-6646-43b5-ccbd-663803b62b38"
   },
   "outputs": [],
   "source": [
    "print(\"---------------GNNS----------------\")\n",
    "plt.plot(num_clusters_range, gnn_sse_values, marker='o', linestyle='-',color='green', label='SSE GNN')\n",
    "plt.xlabel('Number of Clusters')\n",
    "plt.ylabel('Sum of Squared Errors (SSE) / Distortion')\n",
    "plt.title('SSE for Varying Cluster Sizes GNN')\n",
    "plt.legend()\n",
    "plt.savefig(f'{folder_path}{run_id}_{version}-gnn-sse-elbow.eps', format='eps', dpi=300)\n",
    "plt.savefig(f'{folder_path}{run_id}_{version}-gnn-sse-elbow.png', format='png', dpi=300)\n",
    "plt.show()\n",
    "\n",
    "save_array_to_csv(run_id, 'gnn-sse-elbow', version, gnn_sse_values, num_clusters, 'cluster', 'cluster', 's')"
   ]
  },
  {
   "cell_type": "code",
   "execution_count": null,
   "metadata": {
    "colab": {
     "base_uri": "https://localhost:8080/"
    },
    "id": "oYDb5UFMqqOI",
    "outputId": "68526d90-d85d-4d1c-f215-60f5512dcb6a"
   },
   "outputs": [],
   "source": [
    "print(\"---------------COMBINED----------------\")\n",
    "plt.plot(num_clusters_range, node_sse_values, marker='o', linestyle='-', color='red', label='SSE KMeans')\n",
    "plt.plot(num_clusters_range, gnn_sse_values, marker='o', linestyle='-', color ='green', label='SSE GNN')\n",
    "plt.xlabel('Number of Clusters')\n",
    "plt.ylabel('Sum of Squared Errors (SSE) / Distortion')\n",
    "plt.title('SSE for Varying Cluster Sizes GNN and Baseline')\n",
    "plt.legend()\n",
    "plt.savefig(f'{folder_path}{run_id}_{version}-combined-sse-elbow.eps', format='eps', dpi=300)\n",
    "plt.savefig(f'{folder_path}{run_id}_{version}-combined-sse-elbow.png', format='png', dpi=300)\n",
    "plt.show()"
   ]
  },
  {
   "cell_type": "markdown",
   "metadata": {
    "id": "jsvaCgzaPRPo"
   },
   "source": [
    "### Mean Squared Error (MSE)"
   ]
  },
  {
   "cell_type": "code",
   "execution_count": null,
   "metadata": {
    "colab": {
     "base_uri": "https://localhost:8080/"
    },
    "id": "kyJMyoHfPT6_",
    "outputId": "1b393bab-a3af-4c8b-e531-2a3e2ba02c80"
   },
   "outputs": [],
   "source": [
    "print(\"--------------KMeans Baseline Approach---------------\")\n",
    "plt.plot(num_clusters_range, node_mse_values, marker='o', linestyle='-', color='red',label='MSE KMeans')\n",
    "plt.xlabel('Number of Clusters')\n",
    "plt.ylabel('Mean Squared Error (MSE)')\n",
    "plt.title('MSE for Varying Cluster Sizes Baseline')\n",
    "plt.legend()\n",
    "plt.savefig(f'{folder_path}{run_id}_{version}-baseline-mse-elbow.eps', format='eps', dpi=300)\n",
    "plt.savefig(f'{folder_path}{run_id}_{version}-baseline-mse-elbow.png', format='png', dpi=300)\n",
    "plt.show()\n",
    "\n",
    "save_array_to_csv(run_id, 'baseline-mse-elbow', version, node_mse_values, num_clusters, 'cluster', 'cluster', 's')"
   ]
  },
  {
   "cell_type": "code",
   "execution_count": null,
   "metadata": {
    "colab": {
     "base_uri": "https://localhost:8080/"
    },
    "id": "dnp6kQSuPUJq",
    "outputId": "90150d01-356c-4fbd-a7fa-22ac863f740f"
   },
   "outputs": [],
   "source": [
    "print(\"-------------GNN--------------\")\n",
    "plt.plot(num_clusters_range, gnn_mse_values, marker='o', linestyle='-', color='green',label='MSE GNN')\n",
    "plt.xlabel('Number of Clusters')\n",
    "plt.ylabel('Mean Squared Error (MSE)')\n",
    "plt.title('MSE for Varying Cluster Sizes GNN')\n",
    "plt.legend()\n",
    "plt.savefig(f'{folder_path}{run_id}_{version}-gnn-mse-elbow.eps', format='eps', dpi=300)\n",
    "plt.savefig(f'{folder_path}{run_id}_{version}-gnn-mse-elbow.png', format='png', dpi=300)\n",
    "plt.show()\n",
    "\n",
    "save_array_to_csv(run_id, 'gnn-mse-elbow', version, gnn_mse_values, num_clusters, 'cluster', 'cluster', 's')"
   ]
  },
  {
   "cell_type": "code",
   "execution_count": null,
   "metadata": {
    "colab": {
     "base_uri": "https://localhost:8080/"
    },
    "id": "pGU0q3dTs-EC",
    "outputId": "7e9ec707-d52c-4f80-c01b-62049e935d9e"
   },
   "outputs": [],
   "source": [
    "print(\"-------------COMBINED--------------\")\n",
    "plt.plot(num_clusters_range, node_mse_values, marker='o', linestyle='-',color='red', label='MSE KMeans')\n",
    "plt.plot(num_clusters_range, gnn_mse_values, marker='o', linestyle='-', color='green', label='MSE GNN')\n",
    "plt.xlabel('Number of Clusters')\n",
    "plt.ylabel('Mean Squared Error (MSE)')\n",
    "plt.title('MSE for Varying Cluster Sizes GNN and Baseline')\n",
    "plt.legend()\n",
    "plt.savefig(f'{folder_path}{run_id}_{version}-combined-mse-elbow.eps', format='eps', dpi=300)\n",
    "plt.savefig(f'{folder_path}{run_id}_{version}-combined-mse-elbow.png', format='png', dpi=300)\n",
    "plt.show()"
   ]
  },
  {
   "cell_type": "markdown",
   "metadata": {
    "id": "WIP1iGDBQ1_5"
   },
   "source": [
    "### Silhoutte Score"
   ]
  },
  {
   "cell_type": "code",
   "execution_count": null,
   "metadata": {
    "colab": {
     "base_uri": "https://localhost:8080/"
    },
    "id": "9p8G18y5Q5wC",
    "outputId": "7478ee17-2254-4974-8d5a-7ce7b26e8f78"
   },
   "outputs": [],
   "source": [
    "print(\"-------------------KMeans Baseline Approach-------------\")\n",
    "plt.plot(num_clusters_range, node_silhouette_scores, marker='o', linestyle='-', color='red', label='Silhouette Score KMeans')\n",
    "plt.xlabel('Number of Clusters')\n",
    "plt.ylabel('Silhouette Score')\n",
    "plt.title('Silhouette Score for Varying Cluster Sizes Baseline')\n",
    "plt.legend()\n",
    "plt.savefig(f'{folder_path}{run_id}_{version}-non-gnn-silhouette.eps', format='eps', dpi=300)\n",
    "plt.savefig(f'{folder_path}{run_id}_{version}-non-gnn-silhouette.png', format='png', dpi=300)\n",
    "plt.show()\n",
    "\n",
    "save_array_to_csv(run_id, 'baseline-silhouette', version, node_silhouette_scores, num_clusters_range, 'cluster', 'score', 'f')"
   ]
  },
  {
   "cell_type": "code",
   "execution_count": null,
   "metadata": {
    "colab": {
     "base_uri": "https://localhost:8080/"
    },
    "id": "d9p22_nFQ5_e",
    "outputId": "2c5c18df-0f52-4c4d-ca40-0bfc1a50ea17"
   },
   "outputs": [],
   "source": [
    "print(\"--------------GNN--------------\")\n",
    "plt.plot(num_clusters_range, gnn_silhouette_scores, marker='o', linestyle='-', color='green',label='Silhouette Score GNN')\n",
    "plt.xlabel('Number of Clusters')\n",
    "plt.ylabel('Silhouette Score')\n",
    "plt.title('Silhouette Score for Varying Cluster Sizes GNN')\n",
    "plt.legend()\n",
    "plt.savefig(f'{folder_path}{run_id}_{version}-gnn-silhouette.eps', format='eps', dpi=300)\n",
    "plt.savefig(f'{folder_path}{run_id}_{version}-gnn-silhouette.png', format='png', dpi=300)\n",
    "plt.show()\n",
    "\n",
    "save_array_to_csv(run_id, 'gnn-silhouette', version, gnn_silhouette_scores, num_clusters, 'cluster', 'score', 'f')"
   ]
  },
  {
   "cell_type": "code",
   "execution_count": null,
   "metadata": {
    "colab": {
     "base_uri": "https://localhost:8080/"
    },
    "id": "SrDE4Eo_tRUG",
    "outputId": "9a6b2857-9d34-4047-9b5d-266375704d6d"
   },
   "outputs": [],
   "source": [
    "print(\"--------------COMBINED--------------\")\n",
    "plt.plot(num_clusters_range, node_silhouette_scores, marker='o', linestyle='-', color='red', label='KMeans Silhouette Score KMeans')\n",
    "plt.plot(num_clusters_range, gnn_silhouette_scores, marker='o', linestyle='-', color='green', label='GNN Silhouette Score GNN')\n",
    "plt.xlabel('Number of Clusters')\n",
    "plt.ylabel('Silhouette Score')\n",
    "plt.title('Silhouette Score for Varying Cluster Sizes GNN and Baseline')\n",
    "plt.legend()\n",
    "plt.savefig(f'{folder_path}{run_id}_{version}-combined-silhouette.eps', format='eps', dpi=300)\n",
    "plt.savefig(f'{folder_path}{run_id}_{version}-combined-silhouette.png', format='png', dpi=300)\n",
    "plt.show()"
   ]
  },
  {
   "cell_type": "markdown",
   "metadata": {
    "id": "rz1q-I13RtKM"
   },
   "source": [
    "### Davies-Bouldin Index"
   ]
  },
  {
   "cell_type": "code",
   "execution_count": null,
   "metadata": {
    "colab": {
     "base_uri": "https://localhost:8080/"
    },
    "id": "NH_994I3RtaZ",
    "outputId": "552ab57b-1fe1-4e62-cb30-70a3cbba4b37"
   },
   "outputs": [],
   "source": [
    "print(\"-------------KMeans Baseline Approach--------------\")\n",
    "plt.plot(num_clusters_range, node_davies_bouldin_scores, marker='o', linestyle='-', color='red', label='Davies-Bouldin Index KMeans')\n",
    "plt.xlabel('Number of Clusters')\n",
    "plt.ylabel('Davies-Bouldin Index')\n",
    "plt.title('Davies-Bouldin Index for Varying Cluster Sizes Baseline')\n",
    "plt.legend()\n",
    "plt.savefig(f'{folder_path}{run_id}_{version}-non-gnn-davies-bouldin.eps', format='eps', dpi=300)\n",
    "plt.savefig(f'{folder_path}{run_id}_{version}-non-gnn-davies-bouldin.png', format='png', dpi=300)\n",
    "plt.show()\n",
    "\n",
    "save_array_to_csv(run_id, 'baseline-davies-bouldin', version, node_davies_bouldin_scores, num_clusters, 'cluster', 'score', 'f')"
   ]
  },
  {
   "cell_type": "code",
   "execution_count": null,
   "metadata": {
    "colab": {
     "base_uri": "https://localhost:8080/"
    },
    "id": "N14G-JAKRthw",
    "outputId": "7e99f246-b7b3-4d23-aa61-4012f8b6eca9"
   },
   "outputs": [],
   "source": [
    "print(\"-------------GNN--------------\")\n",
    "\n",
    "# Plot the Davies-Bouldin Index scores\n",
    "plt.plot(num_clusters_range, gnn_davies_bouldin_scores, marker='o', linestyle='-', color='green', label='Davies-Bouldin Index GNN')\n",
    "plt.xlabel('Number of Clusters')\n",
    "plt.ylabel('Davies-Bouldin Index')\n",
    "plt.title('Davies-Bouldin Index for Varying Cluster Sizes GNN')\n",
    "plt.legend()\n",
    "\n",
    "# Save the plot as an EPS file\n",
    "plt.savefig(f'{folder_path}{run_id}_{version}-gnn-davies-bouldin.eps', format='eps', dpi=300)\n",
    "plt.savefig(f'{folder_path}{run_id}_{version}-gnn-davies-bouldin.png', format='png', dpi=300)\n",
    "plt.show()\n",
    "\n",
    "###-----------------------------------------------------------------------------------------Call the method and filename here\n",
    "save_array_to_csv(run_id, 'gnn-davies-bouldin', version, node_davies_bouldin_scores, num_clusters, 'cluster', 'score', 'f')"
   ]
  },
  {
   "cell_type": "code",
   "execution_count": null,
   "metadata": {
    "colab": {
     "base_uri": "https://localhost:8080/"
    },
    "id": "1RFdOYjswB96",
    "outputId": "6955c1a6-9c42-4762-bc0d-6e91f5184574"
   },
   "outputs": [],
   "source": [
    "print(\"-------------COMBINED-------------\")\n",
    "\n",
    "# Plot the Davies-Bouldin Index scores\n",
    "plt.plot(num_clusters_range, node_davies_bouldin_scores, marker='o', linestyle='-', color='red', label='Davies-Bouldin Index KMeans')\n",
    "plt.plot(num_clusters_range, gnn_davies_bouldin_scores, marker='o', linestyle='-', color='green', label='Davies-Bouldin Index GNN')\n",
    "plt.xlabel('Number of Clusters')\n",
    "plt.ylabel('Davies-Bouldin Index')\n",
    "plt.title('Davies-Bouldin Index for Varying Cluster Sizes GNN and Baseline')\n",
    "plt.legend()\n",
    "\n",
    "# Save the plot as an EPS file\n",
    "plt.savefig(f'{folder_path}{run_id}_{version}-combined-davies-bouldin.eps', format='eps', dpi=300)\n",
    "plt.savefig(f'{folder_path}{run_id}_{version}-combined-davies-bouldin.png', format='png', dpi=300)\n",
    "plt.show()"
   ]
  },
  {
   "cell_type": "markdown",
   "metadata": {
    "id": "ah4VFpduUznP"
   },
   "source": [
    "### Calinski-Harabasz Index"
   ]
  },
  {
   "cell_type": "code",
   "execution_count": null,
   "metadata": {
    "colab": {
     "base_uri": "https://localhost:8080/"
    },
    "id": "5-gcViCnVibs",
    "outputId": "95b35758-e8ed-4c3d-edb3-35dcacb038e3"
   },
   "outputs": [],
   "source": [
    "print(\"-------------COMBINED-------------\")\n",
    "plt.plot(num_clusters_range, node_calinski_harabasz_scores, marker='o', linestyle='-', color='red', label='Calinski-Harabasz Index KMeans')\n",
    "plt.plot(num_clusters_range, gnn_calinski_harabasz_scores, marker='o', linestyle='-', color='green', label='Calinski-Harabasz Index GNN')\n",
    "plt.xlabel('Number of Clusters')\n",
    "plt.ylabel('Calinski-Harabasz Index')\n",
    "plt.title('Calinski-Harabasz Index for Varying Cluster Sizes GNN and Baseline')\n",
    "plt.legend()\n",
    "plt.savefig(f'{folder_path}{run_id}_{version}-combined-calinski-harabasz.eps', format='eps', dpi=300)\n",
    "plt.savefig(f'{folder_path}{run_id}_{version}-combined-calinski-harabasz.png', format='png', dpi=300)\n",
    "plt.show()\n",
    "\n",
    "save_array_to_csv(run_id, 'baseline-calinski', version, node_calinski_harabasz_scores, num_clusters_range, 'cluster', 'score', 'f')\n",
    "save_array_to_csv(run_id, 'gnn-calinski', version, gnn_calinski_harabasz_scores, num_clusters_range, 'cluster', 'score', 'f')"
   ]
  },
  {
   "cell_type": "markdown",
   "metadata": {
    "id": "AMibRe02U59V"
   },
   "source": [
    "### Inertia"
   ]
  },
  {
   "cell_type": "code",
   "execution_count": null,
   "metadata": {
    "colab": {
     "base_uri": "https://localhost:8080/"
    },
    "id": "9P3j8ENLaSJ1",
    "outputId": "c4e109ba-9966-4848-f3b3-dd5dd0460609"
   },
   "outputs": [],
   "source": [
    "print(\"-------------COMBINED-------------\")\n",
    "plt.plot(num_clusters_range, node_inertia_values, marker='o', linestyle='-', color='red', label='KMeans')\n",
    "plt.plot(num_clusters_range, gnn_inertia_values, marker='o', linestyle='-', color='green', label='GNN')\n",
    "plt.xlabel('Number of Clusters')\n",
    "plt.ylabel('Inertia')\n",
    "plt.title('Inertia Analysis for Varying Cluster Sizes GNN and Baseline')\n",
    "plt.legend()\n",
    "plt.savefig(f'{folder_path}{run_id}_{version}-combined-inertia.eps', format='eps', dpi=300)\n",
    "plt.savefig(f'{folder_path}{run_id}_{version}-combined-inertia.png', format='png', dpi=300)\n",
    "plt.show()\n",
    "\n",
    "save_array_to_csv(run_id, 'baseline-inertia_values', version, node_inertia_values, num_clusters_range, 'cluster', 'score', 'f')\n",
    "save_array_to_csv(run_id, 'gnn-inertia_values', version, gnn_inertia_values, num_clusters_range, 'cluster', 'score', 'f')"
   ]
  },
  {
   "cell_type": "markdown",
   "metadata": {
    "id": "IfwzTXYDU8qj"
   },
   "source": [
    "### Inter and Intra Cluster Distance"
   ]
  },
  {
   "cell_type": "code",
   "execution_count": null,
   "metadata": {
    "colab": {
     "base_uri": "https://localhost:8080/"
    },
    "id": "er3J86b-bZAq",
    "outputId": "0715048e-1115-4e6f-d46b-cd489d0d4b2c"
   },
   "outputs": [],
   "source": [
    "print(\"-------------COMBINED-------------\")\n",
    "plt.plot(num_clusters_range, node_avg_intra_distances, marker='o', linestyle='-', color='red', label='KMeans Intra')\n",
    "plt.plot(num_clusters_range, node_avg_inter_distances, marker='o', linestyle='-', color='blue', label='KMeans Inter')\n",
    "plt.plot(num_clusters_range, gnn_avg_intra_distances, marker='o', linestyle='-', color='green', label='GNN Intra')\n",
    "plt.plot(num_clusters_range, gnn_avg_inter_distances, marker='o', linestyle='-', color='purple', label='GNN Inter')\n",
    "plt.xlabel('Number of Clusters')\n",
    "plt.ylabel('Average Distance')\n",
    "plt.title('Inter and Intra-Cluster Distances for Varying Cluster Sizes GNN and Baseline')\n",
    "plt.legend()\n",
    "plt.savefig(f'{folder_path}{run_id}_{version}-combined-distance-analysis.eps', format='eps', dpi=300)\n",
    "plt.savefig(f'{folder_path}{run_id}_{version}-combined-distance-analysis.png', format='png', dpi=300)\n",
    "plt.show()\n",
    "\n",
    "save_array_to_csv(run_id, 'node_avg_intra_distances', version, node_avg_intra_distances, num_clusters_range, 'cluster', 'score', 'f')\n",
    "save_array_to_csv(run_id, 'node_avg_inter_distances', version, node_avg_inter_distances, num_clusters_range, 'cluster', 'score', 'f')\n",
    "save_array_to_csv(run_id, 'gnn_avg_intra_distances', version, gnn_avg_intra_distances, num_clusters_range, 'cluster', 'score', 'f')\n",
    "save_array_to_csv(run_id, 'gnn_avg_inter_distances', version, gnn_avg_inter_distances, num_clusters_range, 'cluster', 'score', 'f')"
   ]
  },
  {
   "cell_type": "markdown",
   "metadata": {
    "id": "pE8aK71aXB_q"
   },
   "source": [
    "### Max, Min, Median Clusters (Elbow)"
   ]
  },
  {
   "cell_type": "code",
   "execution_count": null,
   "metadata": {
    "colab": {
     "base_uri": "https://localhost:8080/"
    },
    "id": "A_pCSbbrKWU2",
    "outputId": "5ae98f16-a3d0-4fe1-dbcc-8dfd039913b9"
   },
   "outputs": [],
   "source": [
    "print(\"-----------------KMeans Baseline Approach---------------------\")\n",
    "plt.plot(num_clusters_range, node_min_cluster_sizes, marker='o', linestyle='-', label='Min Size KMeans')\n",
    "plt.plot(num_clusters_range, node_max_cluster_sizes, marker='o', linestyle='-', label='Max Size KMeans')\n",
    "plt.plot(num_clusters_range, node_median_cluster_sizes, marker='o', linestyle='-', label='Median Size KMeans')\n",
    "plt.xlabel('Number of Clusters')\n",
    "plt.ylabel('Cluster Size')\n",
    "plt.title('Cluster Size Statistics for Different Numbers of Clusters Baseline')\n",
    "plt.legend()\n",
    "plt.savefig(f'{folder_path}{run_id}_{version}-node-min-max-median.eps', format='eps', dpi=300)\n",
    "plt.savefig(f'{folder_path}{run_id}_{version}-node-min-max-median.png', format='png', dpi=300)\n",
    "plt.show()\n",
    "\n",
    "save_array_to_csv(run_id, 'baseline-max', version, node_min_cluster_sizes, num_clusters, 'cluster', 'cluster', num_clusters)\n",
    "save_array_to_csv(run_id, 'baseline-min', version, node_max_cluster_sizes, num_clusters, 'cluster', 'cluster', num_clusters)\n",
    "save_array_to_csv(run_id, 'baseline-median', version, node_median_cluster_sizes, num_clusters, 'cluster', 'cluster', num_clusters)"
   ]
  },
  {
   "cell_type": "code",
   "execution_count": null,
   "metadata": {
    "colab": {
     "base_uri": "https://localhost:8080/"
    },
    "id": "uey9ebel21dO",
    "outputId": "e4527897-ff88-4307-b8f1-6d754b700e06"
   },
   "outputs": [],
   "source": [
    "print(\"------------------GNN-----------------\")\n",
    "plt.plot(num_clusters_range, gnn_min_cluster_sizes, marker='o', linestyle='-', label='Min Size GNN')\n",
    "plt.plot(num_clusters_range, gnn_max_cluster_sizes, marker='o', linestyle='-', label='Max Size GNN')\n",
    "plt.plot(num_clusters_range, gnn_median_cluster_sizes, marker='o', linestyle='-', label='Median Size GNN')\n",
    "plt.xlabel('Number of Clusters')\n",
    "plt.ylabel('Cluster Size')\n",
    "plt.title('Cluster Size Statistics for Different Numbers of Clusters GNN')\n",
    "plt.legend()\n",
    "plt.savefig(f'{folder_path}{run_id}_{version}-gnn-min-max-median.eps', format='eps', dpi=300)\n",
    "plt.savefig(f'{folder_path}{run_id}_{version}-gnn-min-max-median.png', format='png', dpi=300)\n",
    "plt.show()\n",
    "\n",
    "save_array_to_csv(run_id, 'gnn-max', version, gnn_min_cluster_sizes, num_clusters, 'cluster', 'cluster', num_clusters)\n",
    "save_array_to_csv(run_id, 'gnn-min', version, gnn_max_cluster_sizes, num_clusters, 'cluster', 'cluster', num_clusters)\n",
    "save_array_to_csv(run_id, 'gnn-median', version, gnn_median_cluster_sizes, num_clusters, 'cluster', 'cluster', num_clusters)"
   ]
  },
  {
   "cell_type": "code",
   "execution_count": null,
   "metadata": {
    "colab": {
     "base_uri": "https://localhost:8080/"
    },
    "id": "h18s6h2wxGcr",
    "outputId": "339bb37a-321d-48e6-b39e-cbe2a4a0145f"
   },
   "outputs": [],
   "source": [
    "print(\"-----------------MIN Combined---------------------\")\n",
    "plt.plot(num_clusters_range, node_min_cluster_sizes, marker='o', linestyle='-', color='red', label='Min Size KMeans')\n",
    "plt.plot(num_clusters_range, gnn_min_cluster_sizes, marker='o', linestyle='-', color='green', label='Min Size GNN')\n",
    "plt.xlabel('Number of Clusters')\n",
    "plt.ylabel('Cluster Size')\n",
    "plt.title('Cluster Size Statistics for Minimum Cluster Size GNN and Baseline')\n",
    "plt.legend()\n",
    "plt.savefig(f'{folder_path}{run_id}_{version}-min-combined.eps', format='eps', dpi=300)\n",
    "plt.savefig(f'{folder_path}{run_id}_{version}-min-combined.png', format='png', dpi=300)\n",
    "plt.show()"
   ]
  },
  {
   "cell_type": "code",
   "execution_count": null,
   "metadata": {
    "colab": {
     "base_uri": "https://localhost:8080/"
    },
    "id": "eUZXkCNMxGpp",
    "outputId": "6222245b-873d-45f4-98e3-36b047f85f32"
   },
   "outputs": [],
   "source": [
    "print(\"-----------------MAX Combined---------------------\")\n",
    "\n",
    "# Plot the cluster size statistics for different numbers of clusters\n",
    "plt.plot(num_clusters_range, node_max_cluster_sizes, marker='o', linestyle='-', color='red', label='Max Size KMeans')\n",
    "plt.plot(num_clusters_range, gnn_max_cluster_sizes, marker='o', linestyle='-', color='green', label='Max Size GNN')\n",
    "plt.xlabel('Number of Clusters')\n",
    "plt.ylabel('Cluster Size')\n",
    "plt.title('Cluster Size Statistics for Maximum Cluster Size GNN and Baseline')\n",
    "plt.legend()\n",
    "# Save the plot as an EPS file\n",
    "plt.savefig(f'{folder_path}{run_id}_{version}-max-combined.eps', format='eps', dpi=300)\n",
    "plt.savefig(f'{folder_path}{run_id}_{version}-max-combined.png', format='png', dpi=300)\n",
    "plt.show()"
   ]
  },
  {
   "cell_type": "code",
   "execution_count": null,
   "metadata": {
    "colab": {
     "base_uri": "https://localhost:8080/"
    },
    "id": "fojmUFv5xGwx",
    "outputId": "ef8ee417-475d-4257-91d4-0aa6f0ed5041"
   },
   "outputs": [],
   "source": [
    "print(\"-----------------Median---------------------\")\n",
    "plt.plot(num_clusters_range, node_median_cluster_sizes, marker='o', linestyle='-', color='red', label='Median Size KMeans')\n",
    "plt.plot(num_clusters_range, gnn_median_cluster_sizes, marker='o', linestyle='-', color='green', label='Median Size GNN')\n",
    "plt.xlabel('Number of Clusters')\n",
    "plt.ylabel('Cluster Size')\n",
    "plt.title('Cluster Size Statistics for Median Cluster Size GNN and Baseline')\n",
    "plt.legend()\n",
    "plt.savefig(f'{folder_path}{run_id}_{version}-median-combined.eps', format='eps', dpi=300)\n",
    "plt.savefig(f'{folder_path}{run_id}_{version}-median-combined.png', format='png', dpi=300)\n",
    "plt.show()"
   ]
  },
  {
   "cell_type": "markdown",
   "metadata": {
    "id": "E4hkUmhn21id"
   },
   "source": [
    "### Avg Distance per Cluster to Centroid (Elbow)"
   ]
  },
  {
   "cell_type": "code",
   "execution_count": null,
   "metadata": {
    "colab": {
     "base_uri": "https://localhost:8080/"
    },
    "id": "tBlMPdP5KwqR",
    "outputId": "f41946db-0630-48b4-c250-890315cad8d6"
   },
   "outputs": [],
   "source": [
    "print(\"------------------------KMeans Baseline---------------\")\n",
    "plt.plot(num_clusters_range, node_avg_cluster_distances, marker='o', linestyle='-',color='red', label='KMeans')\n",
    "plt.xlabel('Number of Clusters')\n",
    "plt.ylabel('Average Distance to Centroid')\n",
    "plt.title('Average Distance to Centroid for Each Cluster Size Baseline Approach')\n",
    "plt.legend()\n",
    "plt.savefig(f'{folder_path}{run_id}_{version}-node-avg_dist_to_centroid.eps', format='eps', dpi=300)\n",
    "plt.savefig(f'{folder_path}{run_id}_{version}-node-avg_dist_to_centroid.png', format='png', dpi=300)\n",
    "plt.show()\n",
    "\n",
    "save_array_to_csv(run_id, 'baseline_avg_dist_to_centroid', version, node_avg_cluster_distances, num_clusters, 'cluster', 'epoch', epoch)"
   ]
  },
  {
   "cell_type": "code",
   "execution_count": null,
   "metadata": {
    "colab": {
     "base_uri": "https://localhost:8080/"
    },
    "id": "bUWCL9xs21m8",
    "outputId": "28b242a5-90b0-4372-b8ba-00069b4d165f"
   },
   "outputs": [],
   "source": [
    "print('----------------GNN---------------')\n",
    "plt.plot(num_clusters_range, gnn_avg_cluster_distances, marker='o', linestyle='-',color='green', label='GNN')\n",
    "plt.xlabel('Number of Clusters')\n",
    "plt.ylabel('Average Distance to Centroid')\n",
    "plt.title('Average Distance to Centroid for Each Cluster Size GNN')\n",
    "plt.legend()\n",
    "plt.savefig(f'{folder_path}{run_id}_{version}-gnn-avg_dist_to_centroid.eps', format='eps', dpi=300)\n",
    "plt.savefig(f'{folder_path}{run_id}_{version}-gnn-avg_dist_to_centroid.png', format='png', dpi=300)\n",
    "plt.show()\n",
    "\n",
    "save_array_to_csv(run_id, 'gnn-avg_dist_to_centroid', version, gnn_avg_cluster_distances, num_clusters, 'cluster', 'epoch', epoch)"
   ]
  },
  {
   "cell_type": "code",
   "execution_count": null,
   "metadata": {
    "colab": {
     "base_uri": "https://localhost:8080/"
    },
    "id": "gm5pVdYryFQC",
    "outputId": "acf62ea5-3d77-4ee8-8649-9b882a647c8a"
   },
   "outputs": [],
   "source": [
    "print('---------------COMBINED---------------')\n",
    "plt.plot(num_clusters_range, node_avg_cluster_distances, marker='o', linestyle='-',color='red', label='KMeans')\n",
    "plt.plot(num_clusters_range, gnn_avg_cluster_distances, marker='o', linestyle='-',color='green', label='GNN')\n",
    "plt.xlabel('Number of Clusters')\n",
    "plt.ylabel('Average Distance to Centroid')\n",
    "plt.title('Average Distance to Centroid for Each Cluster Size GNN and Baseline')\n",
    "plt.legend()\n",
    "plt.savefig(f'{folder_path}{run_id}_{version}-combined_dist_to_centroid.eps', format='eps', dpi=300)\n",
    "plt.savefig(f'{folder_path}{run_id}_{version}-combined_dist_to_centroid.png', format='png', dpi=300)\n",
    "plt.show()"
   ]
  },
  {
   "cell_type": "markdown",
   "metadata": {
    "id": "BvZzSUuFwRJP"
   },
   "source": [
    "### Centroid to Nearest RSU"
   ]
  },
  {
   "cell_type": "code",
   "execution_count": null,
   "metadata": {
    "colab": {
     "base_uri": "https://localhost:8080/"
    },
    "id": "T7fbRT4yMP8P",
    "outputId": "8a814292-0707-4f1d-893a-46b2abffd27c"
   },
   "outputs": [],
   "source": [
    "print(\"-----------KMeans Baseline Approach---------\")\n",
    "plt.plot(num_clusters_range, node_centroid_avg_distances, marker='o', linestyle='-', color='red', label='KMeans')\n",
    "plt.xlabel('Cluster Num')\n",
    "plt.ylabel('Average Minimum Distance Centroid to RSU')\n",
    "plt.title('Average Minimum Distance to Centroid for Each Cluster Size Baseline Approach')\n",
    "plt.legend()\n",
    "plt.savefig(f'{folder_path}{run_id}_{version}-baseline-avg_min_dist_to_rsu_to_centroid.eps', format='eps', dpi=300)\n",
    "plt.savefig(f'{folder_path}{run_id}_{version}-baseline-avg_min_dist_to_rsu_to_centroid.png', format='png', dpi=300)\n",
    "plt.show()\n",
    "\n",
    "save_array_to_csv(run_id, 'avg_min_dist_rsu_to_centroid', version, node_centroid_avg_distances, num_clusters, 'cluster', 'epoch', epoch)"
   ]
  },
  {
   "cell_type": "code",
   "execution_count": null,
   "metadata": {
    "colab": {
     "base_uri": "https://localhost:8080/"
    },
    "id": "2WpTDdCXuR1h",
    "outputId": "ebcd54c6-07e6-4331-8f5f-6508d205a669"
   },
   "outputs": [],
   "source": [
    "print(\"------------------GNN-------------\")\n",
    "plt.plot(num_clusters_range, gnn_centroid_avg_distances, marker='o', linestyle='-', color='green', label='GNN')\n",
    "plt.xlabel('Cluster Num')\n",
    "plt.ylabel('Average Minimum Distance Centroid to RSU')\n",
    "plt.title('Average Minimum Distance to Centroid for Each Cluster Size GNN')\n",
    "plt.legend()\n",
    "plt.savefig(f'{folder_path}{run_id}_{version}-gnn-avg_min_dist_to_rsu_to_centroid.eps', format='eps', dpi=300)\n",
    "plt.savefig(f'{folder_path}{run_id}_{version}-gnn-avg_min_dist_to_rsu_to_centroid.png', format='png', dpi=300)\n",
    "plt.show()\n",
    "\n",
    "save_array_to_csv(run_id, 'gnn-avg_min_dist_rsu_to_centroid', version, gnn_centroid_avg_distances, num_clusters, 'cluster', 'epoch', epoch)\n"
   ]
  },
  {
   "cell_type": "code",
   "execution_count": null,
   "metadata": {
    "colab": {
     "base_uri": "https://localhost:8080/"
    },
    "id": "RsXdMmVsz-g7",
    "outputId": "62c470d5-8c2f-45a7-9f41-ccd94915f2b4"
   },
   "outputs": [],
   "source": [
    "print(\"-----------------COMBINED-------------\")\n",
    "plt.plot(num_clusters_range, node_centroid_avg_distances, marker='o', linestyle='-', color='red', label='KMeans')\n",
    "plt.plot(num_clusters_range, gnn_centroid_avg_distances, marker='o', linestyle='-', color='green', label='GNN')\n",
    "plt.xlabel('Cluster Num')\n",
    "plt.ylabel('Average Minimum Distance Centroid to RSU')\n",
    "plt.title('Average Minimum Distance to Centroid for Each Cluster Size GNN and Baseline')\n",
    "plt.legend()\n",
    "plt.savefig(f'{folder_path}{run_id}_{version}-combined_min_dist_to_rsu_to_centroid.eps', format='eps', dpi=300)\n",
    "plt.savefig(f'{folder_path}{run_id}_{version}-combined_min_dist_to_rsu_to_centroid.png', format='png', dpi=300)\n",
    "plt.show()"
   ]
  },
  {
   "cell_type": "markdown",
   "metadata": {
    "id": "8BzgLrrxs11e"
   },
   "source": [
    "### Cluster Densities (Elbow)"
   ]
  },
  {
   "cell_type": "code",
   "execution_count": null,
   "metadata": {
    "colab": {
     "base_uri": "https://localhost:8080/"
    },
    "id": "js4_l0cnMiyH",
    "outputId": "d4613db3-884e-48d0-9d54-e3a8bc9a9133"
   },
   "outputs": [],
   "source": [
    "print(\"--------------KMeans Baseline-------------\")\n",
    "plt.plot(num_clusters_range, node_avg_cluster_densities, marker='o', linestyle='-',color='red', label='KMeans')\n",
    "plt.xlabel('Cluster Num')\n",
    "plt.ylabel('Number of Nodes/Avg Cluster Distance')\n",
    "plt.title('Average Cluster Densities Baseline')\n",
    "plt.legend()\n",
    "plt.savefig(f'{folder_path}{run_id}_{version}-baseline_avg_cluster_densities.eps', format='eps', dpi=300)\n",
    "plt.savefig(f'{folder_path}{run_id}_{version}-baseline_avg_cluster_densities.png', format='png', dpi=300)\n",
    "plt.show()\n",
    "\n",
    "save_array_to_csv(run_id, 'baseline-avg_cluster_densities', version, node_avg_cluster_densities, num_clusters, 'cluster', 'epoch', epoch)"
   ]
  },
  {
   "cell_type": "code",
   "execution_count": null,
   "metadata": {
    "colab": {
     "base_uri": "https://localhost:8080/"
    },
    "id": "QpHUQI8ws1-d",
    "outputId": "0b71840e-9a6f-4237-c846-cd3d84e3a6bc"
   },
   "outputs": [],
   "source": [
    "print(\"--------------GNN-------------\")\n",
    "plt.plot(num_clusters_range, gnn_avg_cluster_densities, marker='o', linestyle='-',color='green', label='GNN')\n",
    "plt.xlabel('Cluster Num')\n",
    "plt.ylabel('Number of Nodes/Avg Cluster Distance')\n",
    "plt.title('Average Cluster Densities GNN')\n",
    "plt.legend()\n",
    "plt.savefig(f'{folder_path}{run_id}_{version}-gnn-avg_cluster_densities.eps', format='eps', dpi=300)\n",
    "plt.savefig(f'{folder_path}{run_id}_{version}-gnn-avg_cluster_densities.png', format='png', dpi=300)\n",
    "plt.show()\n",
    "\n",
    "save_array_to_csv(run_id, 'gnn-avg_cluster_densities', version, gnn_avg_cluster_densities, num_clusters, 'cluster', 'epoch', epoch)"
   ]
  },
  {
   "cell_type": "code",
   "execution_count": null,
   "metadata": {
    "colab": {
     "base_uri": "https://localhost:8080/"
    },
    "id": "tTee5ih91cpL",
    "outputId": "6c89c129-7a57-4c45-b171-0623c5b1d4ce"
   },
   "outputs": [],
   "source": [
    "print(\"--------------Combined-------------\")\n",
    "plt.plot(num_clusters_range, node_avg_cluster_densities, marker='o', linestyle='-',color='red', label='KMeans')\n",
    "plt.plot(num_clusters_range, gnn_avg_cluster_densities, marker='o', linestyle='-',color='green', label='GNN')\n",
    "plt.xlabel('Cluster Num')\n",
    "plt.ylabel('Number of Nodes/Avg Cluster Distance')\n",
    "plt.title('Average Cluster Densities GNN and Baseline')\n",
    "plt.legend()\n",
    "plt.savefig(f'{folder_path}{run_id}_{version}-combined_cluster_densities.eps', format='eps', dpi=300)\n",
    "plt.savefig(f'{folder_path}{run_id}_{version}-combined_cluster_densities.png', format='png', dpi=300)\n",
    "plt.show()"
   ]
  },
  {
   "cell_type": "markdown",
   "metadata": {
    "id": "5bkBh2TgeToG"
   },
   "source": [
    "### Cumulative Distribution Function (CDF)"
   ]
  },
  {
   "cell_type": "code",
   "execution_count": null,
   "metadata": {
    "colab": {
     "base_uri": "https://localhost:8080/"
    },
    "id": "GUqlT6oaNEWZ",
    "outputId": "4633635c-2c88-41bf-93ca-87895845dcc5"
   },
   "outputs": [],
   "source": [
    "print(\"-------------------KMeans Baseline Approach--------------\")\n",
    "fig, ax = plt.subplots()\n",
    "ax.plot(node_sorted_distances, cdf_fitted, color='red',label=f'KMeans Cluster Size {num_clusters}')\n",
    "ax.set_xlabel('Distance to Cluster Center')\n",
    "ax.set_ylabel('Cumulative Probability')\n",
    "ax.set_title('CDF for KMeans Clustering (Per Cluster Size) Baseline Approach')\n",
    "ax.legend()\n",
    "ax.grid(True)\n",
    "plt.savefig(f'{folder_path}{run_id}_{version}-baseline-cdf-cluster-centroid-distance.eps', format='eps', dpi=300)\n",
    "plt.savefig(f'{folder_path}{run_id}_{version}-baseline-cdf-cluster-centroid-distance.png', format='png', dpi=300)\n",
    "plt.show()\n"
   ]
  },
  {
   "cell_type": "code",
   "execution_count": null,
   "metadata": {
    "colab": {
     "base_uri": "https://localhost:8080/"
    },
    "id": "4577YAB-V-d7",
    "outputId": "96c5be99-084e-48cc-a862-4142d10286ca"
   },
   "outputs": [],
   "source": [
    "print(\"----------------------GNN---------------------\")\n",
    "fig, ax = plt.subplots()\n",
    "ax.plot(gnn_sorted_distances, cdf_fitted, color='green',label=f'GNN Cluster Size {num_clusters}')\n",
    "ax.set_xlabel('Distance to Cluster Center')\n",
    "ax.set_ylabel('Cumulative Probability')\n",
    "ax.set_title('CDF for KMeans Clustering (Per Cluster Size) GNN')\n",
    "ax.legend()\n",
    "ax.grid(True)\n",
    "plt.savefig(f'{folder_path}{run_id}_{version}-gnn-cdf-cluster-centroid-distance.eps', format='eps', dpi=300)\n",
    "plt.savefig(f'{folder_path}{run_id}_{version}-gnn-cdf-cluster-centroid-distance.png', format='png', dpi=300)\n",
    "plt.show()\n"
   ]
  },
  {
   "cell_type": "code",
   "execution_count": null,
   "metadata": {
    "colab": {
     "base_uri": "https://localhost:8080/"
    },
    "id": "dKaD-0AC1_10",
    "outputId": "47c40483-dc37-4380-c766-225bc5f53932"
   },
   "outputs": [],
   "source": [
    "print(\"----------------------COMBINED---------------------\")\n",
    "fig, ax = plt.subplots()\n",
    "ax.plot(node_sorted_distances, cdf_fitted, color='red',label=f'KMeans Cluster Size {num_clusters}')\n",
    "ax.plot(gnn_sorted_distances, cdf_fitted, color='green',label=f'GNN Cluster Size {num_clusters}')\n",
    "ax.set_xlabel('Distance to Cluster Center')\n",
    "ax.set_ylabel('Cumulative Probability')\n",
    "ax.set_title('CDF for KMeans Clustering (Per Cluster Size) GNN and Baseline')\n",
    "ax.legend()\n",
    "ax.grid(True)\n",
    "plt.savefig(f'{folder_path}{run_id}_{version}-combined-cdf-cluster-centroid-distance.eps', format='eps', dpi=300)\n",
    "plt.savefig(f'{folder_path}{run_id}_{version}-combined-cdf-cluster-centroid-distance.png', format='png', dpi=300)\n",
    "plt.show()\n"
   ]
  },
  {
   "cell_type": "code",
   "execution_count": null,
   "metadata": {
    "colab": {
     "base_uri": "https://localhost:8080/"
    },
    "id": "ikXXaKWaNx7V",
    "outputId": "0b975f8c-ef57-48f1-811d-36712bcc7e23"
   },
   "outputs": [],
   "source": [
    "print(\"-------------KMeans Baseline------------\")\n",
    "fig, ax = plt.subplots()\n",
    "node_max_dist = stats.rv_histogram(np.histogram(node_max_cluster_sizes, bins=20))\n",
    "node_min_dist = stats.rv_histogram(np.histogram(node_min_cluster_sizes, bins=20))\n",
    "node_median_dist = stats.rv_histogram(np.histogram(node_median_cluster_sizes, bins=20))\n",
    "node_max_cdf = node_max_dist.cdf(node_max_cluster_sizes)\n",
    "node_min_cdf = node_min_dist.cdf(node_min_cluster_sizes)\n",
    "node_median_cdf = node_median_dist.cdf(node_median_cluster_sizes)\n",
    "ax.plot(node_max_cluster_sizes, node_max_cdf, label='Max Cluster Size', linestyle='-', marker='o')\n",
    "ax.plot(node_min_cluster_sizes, node_min_cdf, label='Min Cluster Size', linestyle='-', marker='x')\n",
    "ax.plot(node_median_cluster_sizes, node_median_cdf, label='Median Cluster Size', linestyle='-', marker='s')\n",
    "ax.set_xlabel('Cluster Size')\n",
    "ax.set_ylabel('Cumulative Probability')\n",
    "ax.set_title('CDF for Max, Min, and Median Cluster Sizes Baseline')\n",
    "ax.legend()\n",
    "ax.grid(True)\n",
    "plt.savefig(f'{folder_path}{run_id}_{version}-baseline-cdf-max-min-median.eps', format='eps', dpi=300)\n",
    "plt.savefig(f'{folder_path}{run_id}_{version}-baseline-cdf-max-min-median.png', format='png', dpi=300)\n",
    "plt.show()"
   ]
  },
  {
   "cell_type": "code",
   "execution_count": null,
   "metadata": {
    "colab": {
     "base_uri": "https://localhost:8080/"
    },
    "id": "B9bG3MoAWxE7",
    "outputId": "056dece5-e1e2-4bbf-d97d-6c053173cf9c"
   },
   "outputs": [],
   "source": [
    "print(\"-------------GNN------------\")\n",
    "fig, ax = plt.subplots()\n",
    "gnn_max_dist = stats.rv_histogram(np.histogram(gnn_max_cluster_sizes, bins=20))\n",
    "gnn_min_dist = stats.rv_histogram(np.histogram(gnn_min_cluster_sizes, bins=20))\n",
    "gnn_median_dist = stats.rv_histogram(np.histogram(gnn_median_cluster_sizes, bins=20))\n",
    "gnn_max_cdf = gnn_max_dist.cdf(gnn_max_cluster_sizes)\n",
    "gnn_min_cdf = gnn_min_dist.cdf(gnn_min_cluster_sizes)\n",
    "gnn_median_cdf = gnn_median_dist.cdf(gnn_median_cluster_sizes)\n",
    "ax.plot(gnn_max_cluster_sizes, gnn_max_cdf, label='Max Cluster Size', linestyle='-', marker='o')\n",
    "ax.plot(gnn_min_cluster_sizes, gnn_min_cdf, label='Min Cluster Size', linestyle='-', marker='x')\n",
    "ax.plot(gnn_median_cluster_sizes, gnn_median_cdf, label='Median Cluster Size', linestyle='-', marker='s')\n",
    "ax.set_xlabel('Cluster Size')\n",
    "ax.set_ylabel('Cumulative Probability')\n",
    "ax.set_title('CDF for Max, Min, and Median Cluster Sizes (GNN)')\n",
    "ax.legend()\n",
    "ax.grid(True)\n",
    "plt.savefig(f'{folder_path}{run_id}_{version}-gnn-cdf-max-min-median.eps', format='eps', dpi=300)\n",
    "plt.savefig(f'{folder_path}{run_id}_{version}-gnn-cdf-max-min-median.png', format='png', dpi=300)\n",
    "plt.show()"
   ]
  },
  {
   "cell_type": "code",
   "execution_count": null,
   "metadata": {
    "colab": {
     "base_uri": "https://localhost:8080/"
    },
    "id": "WdaAXEFZ2Yqe",
    "outputId": "1d32dda1-b069-4e74-ad83-0c6b51c1f389"
   },
   "outputs": [],
   "source": [
    "print(\"-------------COMBINED------------\")\n",
    "fig, ax = plt.subplots()\n",
    "gnn_max_dist = stats.rv_histogram(np.histogram(gnn_max_cluster_sizes, bins=20))\n",
    "node_max_dist = stats.rv_histogram(np.histogram(node_max_cluster_sizes, bins=20))\n",
    "gnn_max_cdf = gnn_max_dist.cdf(gnn_max_cluster_sizes)\n",
    "node_max_cdf = gnn_max_dist.cdf(node_max_cluster_sizes)\n",
    "ax.plot(gnn_max_cluster_sizes, gnn_max_cdf, label='GNN Max Cluster Size', color='green',linestyle='-', marker='o')\n",
    "ax.plot(node_max_cluster_sizes, node_max_cdf, label='KMeans Max Cluster Size', color='red', linestyle='-', marker='o')\n",
    "ax.set_xlabel('Cluster Size')\n",
    "ax.set_ylabel('Cumulative Probability')\n",
    "ax.set_title('CDF for Max Cluster Size GNN and Baseline')\n",
    "ax.legend()\n",
    "ax.grid(True)\n",
    "plt.savefig(f'{folder_path}{run_id}_{version}-combined-cdf-max.eps', format='eps', dpi=300)\n",
    "plt.savefig(f'{folder_path}{run_id}_{version}-combined-cdf-max.png', format='png', dpi=300)\n",
    "plt.show()"
   ]
  },
  {
   "cell_type": "code",
   "execution_count": null,
   "metadata": {
    "colab": {
     "base_uri": "https://localhost:8080/"
    },
    "id": "Jc4DOiN62Y_m",
    "outputId": "b1ff2157-7cbb-4aac-f1cb-4b73af355c25"
   },
   "outputs": [],
   "source": [
    "print(\"-------------COMBINED------------\")\n",
    "fig, ax = plt.subplots()\n",
    "gnn_max_dist = stats.rv_histogram(np.histogram(gnn_max_cluster_sizes, bins=20))\n",
    "node_max_dist = stats.rv_histogram(np.histogram(node_max_cluster_sizes, bins=20))\n",
    "gnn_max_cdf = gnn_max_dist.cdf(gnn_max_cluster_sizes)\n",
    "node_max_cdf = node_max_dist.cdf(node_max_cluster_sizes)\n",
    "ax.plot(gnn_max_cluster_sizes, gnn_max_cdf, label='GNN Max Cluster Size', color='green', linestyle='-', marker='o')\n",
    "ax.plot(node_max_cluster_sizes, node_max_cdf, label='KMeans Max Cluster Size', color='red', linestyle='-', marker='o')\n",
    "ax.set_xlabel('Cluster Size')\n",
    "ax.set_ylabel('Cumulative Probability')\n",
    "ax.set_title('CDF for Max Cluster Size GNN and Baseline')\n",
    "ax.legend()\n",
    "ax.grid(True)\n",
    "plt.savefig(f'{folder_path}{run_id}_{version}-combined-cdf-max.eps', format='eps', dpi=300)\n",
    "plt.savefig(f'{folder_path}{run_id}_{version}-combined-cdf-max.png', format='png', dpi=300)\n",
    "plt.show()\n"
   ]
  },
  {
   "cell_type": "code",
   "execution_count": null,
   "metadata": {
    "colab": {
     "base_uri": "https://localhost:8080/"
    },
    "id": "nlOHh1QP2ZPH",
    "outputId": "12984749-09ff-4d16-feab-36175a2aef5d"
   },
   "outputs": [],
   "source": [
    "print(\"-------------COMBINED------------\")\n",
    "fig, ax = plt.subplots()\n",
    "gnn_median_dist = stats.rv_histogram(np.histogram(gnn_median_cluster_sizes, bins=20))\n",
    "node_median_dist = stats.rv_histogram(np.histogram(node_median_cluster_sizes, bins=20))\n",
    "gnn_median_cdf = gnn_median_dist.cdf(gnn_median_cluster_sizes)\n",
    "node_median_cdf = node_median_dist.cdf(node_median_cluster_sizes)\n",
    "ax.plot(gnn_median_cluster_sizes, gnn_median_cdf, label='GNN Median Cluster Size', color='green', linestyle='-', marker='o')\n",
    "ax.plot(node_median_cluster_sizes, node_median_cdf, label='KMeans Median Cluster Size', color='red', linestyle='-', marker='o')\n",
    "ax.set_xlabel('Cluster Size')\n",
    "ax.set_ylabel('Cumulative Probability')\n",
    "ax.set_title('CDF for Median Cluster Size GNN and Baseline')\n",
    "ax.legend()\n",
    "ax.grid(True)\n",
    "plt.savefig(f'{folder_path}{run_id}_{version}-combined-cdf-median.eps', format='eps', dpi=300)\n",
    "plt.savefig(f'{folder_path}{run_id}_{version}-combined-cdf-median.png', format='png', dpi=300)\n",
    "\n",
    "plt.show()\n"
   ]
  },
  {
   "cell_type": "code",
   "execution_count": null,
   "metadata": {
    "colab": {
     "base_uri": "https://localhost:8080/"
    },
    "id": "utjL1waJZVNq",
    "outputId": "cf981197-0d51-43dd-aefb-6ef6bbe9f36f"
   },
   "outputs": [],
   "source": [
    "print(\"-------------GNN ONLY------------\")\n",
    "sorted_auc_values = np.sort(auc_values)\n",
    "sorted_ap_values = np.sort(ap_values)\n",
    "cdf_auc = np.arange(1, len(sorted_auc_values) + 1) / len(sorted_auc_values)\n",
    "cdf_ap = np.arange(1, len(sorted_ap_values) + 1) / len(sorted_ap_values)\n",
    "plt.plot(sorted_auc_values, cdf_auc, linestyle='-', color='green')\n",
    "plt.xlabel('AUC Values')\n",
    "plt.ylabel('Cumulative Probability')\n",
    "plt.title('CDF for AUC')\n",
    "plt.grid(True)\n",
    "plt.axvline(x=0.8, color='red', linestyle='--', label='AUC >= 0.5')\n",
    "plt.legend()\n",
    "plt.savefig(f'{folder_path}{run_id}_{version}-gnn-cdf-auc.eps', format='eps', dpi=300)\n",
    "plt.savefig(f'{folder_path}{run_id}_{version}-gnn-cdf-auc.png', format='png', dpi=300)\n",
    "plt.show()\n",
    "\n",
    "plt.plot(sorted_ap_values, cdf_ap, linestyle='-', color='green')\n",
    "plt.xlabel('AP Values')\n",
    "plt.ylabel('Cumulative Probability')\n",
    "plt.title('CDF for AP')\n",
    "plt.grid(True)\n",
    "plt.axvline(x=0.5, color='red', linestyle='--', label='AP >= 0.5')\n",
    "plt.legend()\n",
    "plt.savefig(f'{folder_path}{run_id}_{version}-gnn-cdf-ap.eps', format='eps', dpi=300)\n",
    "plt.savefig(f'{folder_path}{run_id}_{version}-gnn-cdf-ap.png', format='png', dpi=300)\n",
    "plt.show()"
   ]
  },
  {
   "cell_type": "markdown",
   "metadata": {
    "id": "ncqjltIGQIoG"
   },
   "source": [
    "### Truth Tables - NOT WORKING"
   ]
  },
  {
   "cell_type": "markdown",
   "metadata": {
    "id": "NcUozm9P7MgO"
   },
   "source": [
    "#### Outlier with Threshold"
   ]
  },
  {
   "cell_type": "code",
   "execution_count": null,
   "metadata": {
    "colab": {
     "base_uri": "https://localhost:8080/",
     "height": 1000
    },
    "id": "XHdfk6LJ5Fu6",
    "outputId": "49ea94c9-17fe-4618-c7ee-b8a1f3a55e74"
   },
   "outputs": [],
   "source": [
    "print(\"----------------KMeans Baseline-----------------\")\n",
    "threshold = (max_dist - (max_dist * 0.05))\n",
    "node_outlier_count = []\n",
    "\n",
    "for i in num_clusters_range:\n",
    "    cluster_indices = np.where(node_labels == i)[0]\n",
    "    node_distances_to_center = np.linalg.norm(node_X[cluster_indices] - np.mean(node_X[i], axis=0), axis=1)\n",
    "    node_outliers = cluster_indices[np.where(node_distances_to_center > threshold)[0]]\n",
    "    node_outlier_count.append(len(node_outliers))\n",
    "    print(f\"Cluster {i}: Outlier Data Point Indices:\", node_outliers, \"count \", len(node_outliers))\n",
    "\n",
    "fig, ax = plt.subplots()\n",
    "ax.plot(num_clusters_range, node_outlier_count, color='red', label='Number of Outliers')\n",
    "ax.set_xlabel('Number of Clusters')\n",
    "ax.set_ylabel('Number of Outliers')\n",
    "ax.set_title('Number of Outliers Detected in Each Cluster Baseline')\n",
    "ax.legend()\n",
    "plt.savefig(f'{folder_path}{run_id}_{version}-baseline-outlier-cluster-centroid-distance.eps', format='eps', dpi=300)\n",
    "plt.savefig(f'{folder_path}{run_id}_{version}-baseline-outlier-cluster-centroid-distance.png', format='png', dpi=300)\n",
    "plt.show()\n"
   ]
  },
  {
   "cell_type": "code",
   "execution_count": null,
   "metadata": {
    "colab": {
     "base_uri": "https://localhost:8080/",
     "height": 1000
    },
    "id": "1G92Co1574ZI",
    "outputId": "884243a7-d247-4834-867f-530ff0708ef4"
   },
   "outputs": [],
   "source": [
    "print(\"---------------GNN-------------\")\n",
    "gnn_outlier_count = []\n",
    "\n",
    "for i in num_clusters_range:\n",
    "    gnn_cluster_indices = np.where(gnn_labels == i)[0]\n",
    "    gnn_centroid = np.mean(gnn_X[gnn_cluster_indices], axis=0)\n",
    "    gnn_distances_to_center = np.linalg.norm(gnn_X[gnn_cluster_indices] - gnn_centroid, axis=1)\n",
    "    gnn_outliers = gnn_cluster_indices[np.where(gnn_distances_to_center > threshold)[0]]\n",
    "    print(f\"Cluster {i}: Outlier Data Point Indices:\", gnn_outliers, \"count \", len(gnn_outliers))\n",
    "    gnn_outlier_count.append(len(gnn_outliers))\n",
    "\n",
    "fig, ax = plt.subplots()\n",
    "ax.plot(num_clusters_range, gnn_outlier_count, color='green', label='Number of Outliers')\n",
    "ax.set_xlabel('Number of Clusters')\n",
    "ax.set_ylabel('Number of Outliers')\n",
    "ax.set_title('Number of Outliers Detected in Each Cluster (GNN)')\n",
    "ax.legend()\n",
    "plt.savefig(f'{folder_path}{run_id}_{version}-gnn-outlier-cluster-centroid-distance.eps', format='eps', dpi=300)\n",
    "plt.savefig(f'{folder_path}{run_id}_{version}-gnn-outlier-cluster-centroid-distance.png', format='png', dpi=300)\n",
    "plt.show()"
   ]
  },
  {
   "cell_type": "code",
   "execution_count": null,
   "metadata": {
    "colab": {
     "base_uri": "https://localhost:8080/",
     "height": 530
    },
    "id": "3z_AC7VY357f",
    "outputId": "40ebce4f-4a38-487e-cfe1-ebf1ec9b188f"
   },
   "outputs": [],
   "source": [
    "print(\"--------------COMBINED---------------\")\n",
    "fig, ax = plt.subplots()\n",
    "ax.plot(num_clusters_range, node_outlier_count, color='red', label='KMeans Number of Outliers')\n",
    "ax.plot(num_clusters_range, gnn_outlier_count, color='green', label='GNN Number of Outliers')\n",
    "ax.set_xlabel('Number of Clusters')\n",
    "ax.set_ylabel('Number of Outliers')\n",
    "ax.set_title('Number of Outliers Detected in Each Cluster GNN and Baseline')\n",
    "ax.legend()\n",
    "plt.savefig(f'{folder_path}{run_id}_{version}-combined-outlier-cluster-centroid-distance.eps', format='eps', dpi=300)\n",
    "plt.savefig(f'{folder_path}{run_id}_{version}-combined-outlier-cluster-centroid-distance.png', format='png', dpi=300)\n",
    "plt.show()\n"
   ]
  },
  {
   "cell_type": "code",
   "execution_count": null,
   "metadata": {
    "colab": {
     "base_uri": "https://localhost:8080/"
    },
    "id": "EieGMuEj88VL",
    "outputId": "8f86666f-a711-49d4-aaff-aecb55e02dfb"
   },
   "outputs": [],
   "source": [
    "# Outliers dataframe creation\n",
    "threshold = (max_dist - (max_dist * 0.05))\n",
    "pseudo_labels = np.zeros(len(node_X))\n",
    "outlier_table = []\n",
    "\n",
    "for i in num_clusters_range:\n",
    "    cluster_indices = np.where(node_labels == i)[0]\n",
    "    centroid = np.mean(node_X[cluster_indices], axis=0)\n",
    "    node_distances_to_center = np.linalg.norm(node_X[cluster_indices] - centroid, axis=1)\n",
    "    node_outliers = cluster_indices[np.where(node_distances_to_center > threshold)[0]]\n",
    "    pseudo_labels[node_outliers] = 1\n",
    "\n",
    "    row = {\n",
    "        \"Cluster\": i,\n",
    "        \"Num Data Points\": len(cluster_indices),\n",
    "        \"Num Outliers\": len(node_outliers)\n",
    "    }\n",
    "    outlier_table.append(row)\n",
    "\n",
    "outlier_df = pd.DataFrame(outlier_table)\n",
    "print(outlier_df)"
   ]
  },
  {
   "cell_type": "code",
   "execution_count": null,
   "metadata": {
    "colab": {
     "base_uri": "https://localhost:8080/"
    },
    "id": "loZmocu4c3fa",
    "outputId": "7f5e4b77-5e60-40db-f9d5-eef9e728a93f"
   },
   "outputs": [],
   "source": [
    "distances = cdist(X, cluster_centers, 'euclidean')\n",
    "assigned_clusters = np.argmin(distances, axis=1)\n",
    "ground_truth_table = pd.DataFrame({\n",
    "    'Data Point Index': np.arange(len(X)),\n",
    "    'Assigned Cluster': assigned_clusters\n",
    "})\n",
    "\n",
    "print(\"Ground Truth Table:\")\n",
    "print(ground_truth_table)"
   ]
  },
  {
   "cell_type": "markdown",
   "metadata": {
    "id": "BP0tfz2KDiAS"
   },
   "source": [
    "## Testing Analysis"
   ]
  },
  {
   "cell_type": "code",
   "execution_count": null,
   "metadata": {
    "id": "QfMvA-JyKgQV"
   },
   "outputs": [],
   "source": [
    "def save_parameter_to_txt(param_name, parameter, file_path):\n",
    "    try:\n",
    "        with open(file_path, mode='a') as params_file:\n",
    "            params_file.write(param_name + ':' + str(parameter) + \"\\n\")\n",
    "    except Exception as e:\n",
    "        print(f\"Error occurred while saving {param_name} parameter to {file_path}: {e}\")\n"
   ]
  },
  {
   "cell_type": "code",
   "execution_count": null,
   "metadata": {
    "colab": {
     "base_uri": "https://localhost:8080/"
    },
    "id": "z3B9rggQD4Fg",
    "outputId": "53df7e60-1b15-479b-88e8-f2f41218df4b"
   },
   "outputs": [],
   "source": [
    "# Print information\n",
    "print('Test Parameters')\n",
    "save_parameter_to_txt('Originating Filename',file_name, f\"{run_id}_{version}\")\n",
    "\n",
    "print('------------')\n",
    "save_parameter_to_txt('-----------------', '--------------------', f\"{run_id}_{version}\")\n",
    "print('Number of Clusters ', num_clusters)\n",
    "save_parameter_to_txt('Number of Clusters ',num_clusters, f\"{run_id}_{version}\")\n",
    "print('Number of Initializations of Cluster',n)\n",
    "save_parameter_to_txt('Number of Initializations of Cluster', n, f\"{run_id}_{version}\")\n",
    "print('Max Distance',  max_dist)\n",
    "save_parameter_to_txt('Max Distance ',max_dist, f\"{run_id}_{version}\")\n",
    "print('Transform Set',transform_set)\n",
    "save_parameter_to_txt('Transform Set', transform_set, f\"{run_id}_{version}\")\n",
    "print('Learning Rate',learn_rate)\n",
    "save_parameter_to_txt('Learning Rate', learn_rate, f\"{run_id}_{version}\")\n",
    "print('Epochs/Generations of Training',epochs)\n",
    "save_parameter_to_txt('Epochs/Generations of Training', epochs, f\"{run_id}_{version}\")\n",
    "print('\\n')\n",
    "\n",
    "print('------------')\n",
    "save_parameter_to_txt('-----------------', '--------------------', f\"{run_id}_{version}\")\n",
    "# GPU Details\n",
    "gpu_info = !nvidia-smi\n",
    "gpu_info = '\\n'.join(gpu_info)\n",
    "if gpu_info.find('failed') >= 0:\n",
    "  print('Not connected to a GPU')\n",
    "  save_parameter_to_txt('GPU', 'no', f\"{run_id}_{version}\")\n",
    "else:\n",
    "  print(gpu_info)\n",
    "  save_parameter_to_txt('GPU', 'yes', f\"{run_id}_{version}\")\n",
    "print('\\n')\n",
    "\n",
    "print('------------')\n",
    "save_parameter_to_txt('-----------------', '--------------------', f\"{run_id}_{version}\")\n",
    "print('dataset',dataset)\n",
    "save_parameter_to_txt('dataset', dataset, f\"{run_id}_{version}\")\n",
    "print('data', data)\n",
    "save_parameter_to_txt('data', data, f\"{run_id}_{version}\")\n",
    "print('train data',train_data)\n",
    "save_parameter_to_txt('train data', train_data, f\"{run_id}_{version}\")\n",
    "print('test data', test_data)\n",
    "save_parameter_to_txt('test data', test_data, f\"{run_id}_{version}\")\n",
    "print('\\n')\n",
    "\n",
    "print('------------')\n",
    "save_parameter_to_txt('-----------------', '--------------------', f\"{run_id}_{version}\")\n",
    "train_pos_edge_index = train_data.pos_edge_label_index\n",
    "print('training positive edges:', train_pos_edge_index)\n",
    "save_parameter_to_txt('training positive edges', train_pos_edge_index, f\"{run_id}_{version}\")\n",
    "print('\\n')\n",
    "\n",
    "print('------------')\n",
    "save_parameter_to_txt('-----------------', '--------------------', f\"{run_id}_{version}\")\n",
    "test_neg_edge_index = test_data.neg_edge_label_index\n",
    "print('testing negative edges:', test_neg_edge_index)\n",
    "save_parameter_to_txt('testing negative edges', test_neg_edge_index, f\"{run_id}_{version}\")\n",
    "print('\\n')\n",
    "\n",
    "print('------------')\n",
    "save_parameter_to_txt('-----------------', '--------------------', f\"{run_id}_{version}\")\n",
    "num_graph = len(dataset)\n",
    "print(f'Number of graphs: {num_graph}')\n",
    "save_parameter_to_txt('number of graphs', num_graph, f\"{run_id}_{version}\")\n",
    "print(f'Number of features: {dataset.num_features}')\n",
    "save_parameter_to_txt('dataset.num_features', dataset.num_features, f\"{run_id}_{version}\")\n",
    "print('------------')\n",
    "save_parameter_to_txt('-----------------', '--------------------', f\"{run_id}_{version}\")\n",
    "\n",
    "\n",
    "# FUTURE PARAMETERS\n",
    "# Density, AVG Distance from Infrastructure, Avg # Hops, Dwell Time, Avg Direction, Avg Signal Strength, Avg Percentage Change/loss"
   ]
  },
  {
   "cell_type": "markdown",
   "metadata": {
    "id": "sOj4E06LyxOk"
   },
   "source": [
    "## Download\n",
    "\n",
    "folder_path = f'./results/{run_id}_{version}/'"
   ]
  },
  {
   "cell_type": "code",
   "execution_count": null,
   "metadata": {
    "colab": {
     "base_uri": "https://localhost:8080/"
    },
    "id": "TNr78Slfyy62",
    "outputId": "e8ce7595-a714-4521-ef90-8e2976868a69"
   },
   "outputs": [],
   "source": [
    "\n",
    "file_path = f'./results/'\n",
    "shutil.make_archive(\"./downloads/download_results\", 'zip', file_path)\n",
    "\n",
    "files.download(\"./downloads/download_results.zip\")"
   ]
  },
  {
   "cell_type": "code",
   "execution_count": null,
   "metadata": {
    "colab": {
     "base_uri": "https://localhost:8080/"
    },
    "id": "CXAJbC9FZO7U",
    "outputId": "391a16b1-7f4a-41e3-807a-12996e43c87e"
   },
   "outputs": [],
   "source": [
    "G = nx.Graph()\n",
    "edge_index = []\n",
    "\n",
    "# iterate through rows and add nodes to the graph\n",
    "for i in range(len(df)):\n",
    "    G.add_node(i, x=df.loc[i, 'X'], y=df.loc[i, 'Y'])\n",
    "\n",
    "# Create a mapping dictionary to map letters to numerical IDs\n",
    "letter_to_id = {'RSU 1': 10001, 'RSU 2': 10002, 'RSU 3': 10003,'RSU 4': 10004,'RSU 5': 10005,'RSU 6': 10006,'Tower 1': 100001,'Tower 2': 100002,'Tower 3': 100003,'Tower 4': 100004}\n",
    "\n",
    "# Replace letters with numerical IDs using the mapping dictionary\n",
    "df['Car ID'] = df['Car ID'].replace(letter_to_id)\n",
    "\n",
    "\n",
    "# Find the RSU and Tower Nodes\n",
    "rsu_tower_list = np.empty((0, len(df.columns)), dtype=df.dtypes)\n",
    "rsu_list = np.empty((0, len(df.columns)), dtype=df.dtypes)\n",
    "for i in range(10):\n",
    "    rsu_tower_list = np.append(rsu_tower_list, [[df.iloc[i, 0], df.iloc[i, 1], df.iloc[i, 2]]], axis=0)\n",
    "\n",
    "for i in range(6):\n",
    "    rsu_list = np.append(rsu_list, [[df.iloc[i, 0], df.iloc[i, 1], df.iloc[i, 2]]], axis=0)\n",
    "\n",
    "# Convert 'Car ID' column to numeric values\n",
    "df['Car ID'] = pd.to_numeric(df['Car ID'].replace(letter_to_id))\n",
    "\n",
    "# Assign numeric IDs based on 'Car ID' column\n",
    "car_ids = torch.tensor(df['Car ID'].values, dtype=torch.float)\n",
    "vertex = car_ids  # Use 'Car ID' as the vertex tensor\n",
    "\n",
    "# add nodes to the graph with their features\n",
    "for i, row in df.iterrows():\n",
    "    G.add_node(i, **row.to_dict())\n",
    "\n",
    "# Loop row by row to add the edges to the graph\n",
    "for i in range(len(df)):\n",
    "   distances = []\n",
    "\n",
    "   # Inner loop to iterate through all other vehicles\n",
    "   for j in range(len(df)):\n",
    "        if i == j:\n",
    "            continue\n",
    "\n",
    "        dist = math.sqrt((df.iloc[j]['X']-df.iloc[i]['X'])**2 + (df.iloc[j]['Y']-df.iloc[i]['Y'])**2)\n",
    "\n",
    "        if 0 < dist <= max_dist:\n",
    "          distances.append((dist, j))\n",
    "        # print(distance)\n",
    "\n",
    "        if i != j:\n",
    "          dist = math.sqrt((df.iloc[j]['X']-df.iloc[i]['X'])**2 + (df.iloc[j]['Y']-df.iloc[i]['Y'])**2)\n",
    "\n",
    "          if df.iloc[i]['Car ID'] >=10000:  ## Tower and RSU are greater than\n",
    "             # Distance between (V2I and I2I) the Car/Tower/RSU\n",
    "             if 0 < dist <= max_dist_tower:\n",
    "                distances.append((dist, j))\n",
    "             else :\n",
    "                if 0 < dist <= max_dist:\n",
    "                  distances.append((dist, j))\n",
    "\n",
    "\n",
    "   distances.sort()\n",
    "\n",
    "   for k in range(len(distances)):\n",
    "      G.add_edge(i, distances[k][1], weight=distances[k][0])\n",
    "\n",
    "# print the graph\n",
    "print(G.edges)\n",
    "print(G)"
   ]
  }
 ],
 "metadata": {
  "accelerator": "GPU",
  "colab": {
   "collapsed_sections": [
    "3Drwcr3e9Fqe",
    "ppboTeDA022M",
    "glKKtyR-TEKi",
    "gak0XFPyD2fd",
    "uuzGq-za4jhx",
    "7uHLR1l_IMOH",
    "PjQuuQyLGrhr",
    "9YEGO-2Tl9Zh",
    "p839N56QKWOp",
    "5TC6trHTH5te",
    "jsvaCgzaPRPo",
    "WIP1iGDBQ1_5",
    "rz1q-I13RtKM",
    "ah4VFpduUznP",
    "AMibRe02U59V",
    "IfwzTXYDU8qj",
    "pE8aK71aXB_q",
    "E4hkUmhn21id",
    "BvZzSUuFwRJP",
    "8BzgLrrxs11e",
    "5bkBh2TgeToG",
    "sOj4E06LyxOk"
   ],
   "include_colab_link": true,
   "machine_shape": "hm",
   "provenance": []
  },
  "kernelspec": {
   "display_name": "2121057",
   "language": "python",
   "name": "python3"
  },
  "language_info": {
   "codemirror_mode": {
    "name": "ipython",
    "version": 3
   },
   "file_extension": ".py",
   "mimetype": "text/x-python",
   "name": "python",
   "nbconvert_exporter": "python",
   "pygments_lexer": "ipython3",
   "version": "3.12.2"
  }
 },
 "nbformat": 4,
 "nbformat_minor": 0
}
