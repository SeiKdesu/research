{
 "cells": [
  {
   "cell_type": "code",
   "execution_count": 1,
   "metadata": {},
   "outputs": [],
   "source": [
    "def keep_indices_as_nonzero(arr, indices):\n",
    "    arr = arr\n",
    "    indices = np.asarray(indices, dtype=int)\n",
    "    # 元の配列と同じ形状でゼロ配列を作成\n",
    "    result = np.zeros_like(arr)\n",
    "    # 指定されたインデックスに対応する要素をコピー\n",
    "    result[:,indices] = arr[:,indices]\n",
    "    return result\n"
   ]
  },
  {
   "cell_type": "code",
   "execution_count": 2,
   "metadata": {},
   "outputs": [
    {
     "name": "stderr",
     "output_type": "stream",
     "text": [
      "ic| data.train_mask: tensor([ True,  True,  True,  ..., False, False, False])\n",
      "ic| data.train_mask: tensor([ True,  True,  True,  ..., False, False, False])\n",
      "ic| data.train_mask: tensor([ True,  True,  True,  ..., False, False, False])\n",
      "ic| data.train_mask: tensor([ True,  True,  True,  ..., False, False, False])\n",
      "ic| data.train_mask: tensor([ True,  True,  True,  ..., False, False, False])\n",
      "ic| data.train_mask: tensor([ True,  True,  True,  ..., False, False, False])\n",
      "ic| data.train_mask: tensor([ True,  True,  True,  ..., False, False, False])\n",
      "ic| data.train_mask: tensor([ True,  True,  True,  ..., False, False, False])\n"
     ]
    },
    {
     "name": "stdout",
     "output_type": "stream",
     "text": [
      "Epoch 0, Loss: 1.942172884941101\n"
     ]
    },
    {
     "name": "stderr",
     "output_type": "stream",
     "text": [
      "ic| data.train_mask: tensor([ True,  True,  True,  ..., False, False, False])\n",
      "ic| data.train_mask: tensor([ True,  True,  True,  ..., False, False, False])\n",
      "ic| data.train_mask: tensor([ True,  True,  True,  ..., False, False, False])\n",
      "ic| data.train_mask: tensor([ True,  True,  True,  ..., False, False, False])\n",
      "ic| data.train_mask: tensor([ True,  True,  True,  ..., False, False, False])\n",
      "ic| data.train_mask: tensor([ True,  True,  True,  ..., False, False, False])\n",
      "ic| data.train_mask: tensor([ True,  True,  True,  ..., False, False, False])\n",
      "ic| data.train_mask: tensor([ True,  True,  True,  ..., False, False, False])\n",
      "ic| data.train_mask: tensor([ True,  True,  True,  ..., False, False, False])\n",
      "ic| data.train_mask: tensor([ True,  True,  True,  ..., False, False, False])\n",
      "ic| data.train_mask: tensor([ True,  True,  True,  ..., False, False, False])\n",
      "ic| data.train_mask: tensor([ True,  True,  True,  ..., False, False, False])\n",
      "ic| data.train_mask: tensor([ True,  True,  True,  ..., False, False, False])\n",
      "ic| data.train_mask: tensor([ True,  True,  True,  ..., False, False, False])\n",
      "ic| data.train_mask: tensor([ True,  True,  True,  ..., False, False, False])\n",
      "ic| data.train_mask: tensor([ True,  True,  True,  ..., False, False, False])\n",
      "ic| data.train_mask: tensor([ True,  True,  True,  ..., False, False, False])\n",
      "ic| data.train_mask: tensor([ True,  True,  True,  ..., False, False, False])\n",
      "ic| data.train_mask: tensor([ True,  True,  True,  ..., False, False, False])\n",
      "ic| data.train_mask: tensor([ True,  True,  True,  ..., False, False, False])\n"
     ]
    },
    {
     "name": "stdout",
     "output_type": "stream",
     "text": [
      "Epoch 20, Loss: 0.2630642354488373\n"
     ]
    },
    {
     "name": "stderr",
     "output_type": "stream",
     "text": [
      "ic| data.train_mask: tensor([ True,  True,  True,  ..., False, False, False])\n",
      "ic| data.train_mask: tensor([ True,  True,  True,  ..., False, False, False])\n",
      "ic| data.train_mask: tensor([ True,  True,  True,  ..., False, False, False])\n",
      "ic| data.train_mask: tensor([ True,  True,  True,  ..., False, False, False])\n",
      "ic| data.train_mask: tensor([ True,  True,  True,  ..., False, False, False])\n",
      "ic| data.train_mask: tensor([ True,  True,  True,  ..., False, False, False])\n",
      "ic| data.train_mask: tensor([ True,  True,  True,  ..., False, False, False])\n",
      "ic| data.train_mask: tensor([ True,  True,  True,  ..., False, False, False])\n",
      "ic| data.train_mask: tensor([ True,  True,  True,  ..., False, False, False])\n",
      "ic| data.train_mask: tensor([ True,  True,  True,  ..., False, False, False])\n",
      "ic| data.train_mask: tensor([ True,  True,  True,  ..., False, False, False])\n",
      "ic| data.train_mask: tensor([ True,  True,  True,  ..., False, False, False])\n",
      "ic| data.train_mask: tensor([ True,  True,  True,  ..., False, False, False])\n",
      "ic| data.train_mask: tensor([ True,  True,  True,  ..., False, False, False])\n",
      "ic| data.train_mask: tensor([ True,  True,  True,  ..., False, False, False])\n",
      "ic| data.train_mask: tensor([ True,  True,  True,  ..., False, False, False])\n",
      "ic| data.train_mask: tensor([ True,  True,  True,  ..., False, False, False])\n",
      "ic| data.train_mask: tensor([ True,  True,  True,  ..., False, False, False])\n",
      "ic| data.train_mask: tensor([ True,  True,  True,  ..., False, False, False])\n"
     ]
    },
    {
     "name": "stdout",
     "output_type": "stream",
     "text": [
      "Epoch 40, Loss: 0.08140230178833008\n"
     ]
    },
    {
     "name": "stderr",
     "output_type": "stream",
     "text": [
      "ic| data.train_mask: tensor([ True,  True,  True,  ..., False, False, False])\n",
      "ic| data.train_mask: tensor([ True,  True,  True,  ..., False, False, False])\n",
      "ic| data.train_mask: tensor([ True,  True,  True,  ..., False, False, False])\n",
      "ic| data.train_mask: tensor([ True,  True,  True,  ..., False, False, False])\n",
      "ic| data.train_mask: tensor([ True,  True,  True,  ..., False, False, False])\n",
      "ic| data.train_mask: tensor([ True,  True,  True,  ..., False, False, False])\n",
      "ic| data.train_mask: tensor([ True,  True,  True,  ..., False, False, False])\n",
      "ic| data.train_mask: tensor([ True,  True,  True,  ..., False, False, False])\n",
      "ic| data.train_mask: tensor([ True,  True,  True,  ..., False, False, False])\n",
      "ic| data.train_mask: tensor([ True,  True,  True,  ..., False, False, False])\n",
      "ic| data.train_mask: tensor([ True,  True,  True,  ..., False, False, False])\n",
      "ic| data.train_mask: tensor([ True,  True,  True,  ..., False, False, False])\n",
      "ic| data.train_mask: tensor([ True,  True,  True,  ..., False, False, False])\n",
      "ic| data.train_mask: tensor([ True,  True,  True,  ..., False, False, False])\n",
      "ic| data.train_mask: tensor([ True,  True,  True,  ..., False, False, False])\n",
      "ic| data.train_mask: tensor([ True,  True,  True,  ..., False, False, False])\n",
      "ic| data.train_mask: tensor([ True,  True,  True,  ..., False, False, False])\n",
      "ic| data.train_mask: tensor([ True,  True,  True,  ..., False, False, False])\n",
      "ic| data.train_mask: tensor([ True,  True,  True,  ..., False, False, False])\n",
      "ic| data.train_mask: tensor([ True,  True,  True,  ..., False, False, False])\n",
      "ic| data.train_mask: tensor([ True,  True,  True,  ..., False, False, False])\n"
     ]
    },
    {
     "name": "stdout",
     "output_type": "stream",
     "text": [
      "Epoch 60, Loss: 0.04192555695772171\n"
     ]
    },
    {
     "name": "stderr",
     "output_type": "stream",
     "text": [
      "ic| data.train_mask: tensor([ True,  True,  True,  ..., False, False, False])\n",
      "ic| data.train_mask: tensor([ True,  True,  True,  ..., False, False, False])\n",
      "ic| data.train_mask: tensor([ True,  True,  True,  ..., False, False, False])\n",
      "ic| data.train_mask: tensor([ True,  True,  True,  ..., False, False, False])\n",
      "ic| data.train_mask: tensor([ True,  True,  True,  ..., False, False, False])\n",
      "ic| data.train_mask: tensor([ True,  True,  True,  ..., False, False, False])\n",
      "ic| data.train_mask: tensor([ True,  True,  True,  ..., False, False, False])\n",
      "ic| data.train_mask: tensor([ True,  True,  True,  ..., False, False, False])\n",
      "ic| data.train_mask: tensor([ True,  True,  True,  ..., False, False, False])\n",
      "ic| data.train_mask: tensor([ True,  True,  True,  ..., False, False, False])\n",
      "ic| data.train_mask: tensor([ True,  True,  True,  ..., False, False, False])\n",
      "ic| data.train_mask: tensor([ True,  True,  True,  ..., False, False, False])\n",
      "ic| data.train_mask: tensor([ True,  True,  True,  ..., False, False, False])\n",
      "ic| data.train_mask: tensor([ True,  True,  True,  ..., False, False, False])\n",
      "ic| data.train_mask: tensor([ True,  True,  True,  ..., False, False, False])\n",
      "ic| data.train_mask: tensor([ True,  True,  True,  ..., False, False, False])\n",
      "ic| data.train_mask: tensor([ True,  True,  True,  ..., False, False, False])\n",
      "ic| data.train_mask: tensor([ True,  True,  True,  ..., False, False, False])\n",
      "ic| data.train_mask: tensor([ True,  True,  True,  ..., False, False, False])\n",
      "ic| data.train_mask: tensor([ True,  True,  True,  ..., False, False, False])\n"
     ]
    },
    {
     "name": "stdout",
     "output_type": "stream",
     "text": [
      "Epoch 80, Loss: 0.0353071391582489\n"
     ]
    },
    {
     "name": "stderr",
     "output_type": "stream",
     "text": [
      "ic| data.train_mask: tensor([ True,  True,  True,  ..., False, False, False])\n",
      "ic| data.train_mask: tensor([ True,  True,  True,  ..., False, False, False])\n",
      "ic| data.train_mask: tensor([ True,  True,  True,  ..., False, False, False])\n",
      "ic| data.train_mask: tensor([ True,  True,  True,  ..., False, False, False])\n",
      "ic| data.train_mask: tensor([ True,  True,  True,  ..., False, False, False])\n",
      "ic| data.train_mask: tensor([ True,  True,  True,  ..., False, False, False])\n",
      "ic| data.train_mask: tensor([ True,  True,  True,  ..., False, False, False])\n",
      "ic| data.train_mask: tensor([ True,  True,  True,  ..., False, False, False])\n",
      "ic| data.train_mask: tensor([ True,  True,  True,  ..., False, False, False])\n",
      "ic| data.train_mask: tensor([ True,  True,  True,  ..., False, False, False])\n",
      "ic| data.train_mask: tensor([ True,  True,  True,  ..., False, False, False])\n",
      "ic| data.train_mask: tensor([ True,  True,  True,  ..., False, False, False])\n",
      "ic| data.train_mask: tensor([ True,  True,  True,  ..., False, False, False])\n",
      "ic| data.train_mask: tensor([ True,  True,  True,  ..., False, False, False])\n",
      "ic| data.train_mask: tensor([ True,  True,  True,  ..., False, False, False])\n",
      "ic| data.train_mask: tensor([ True,  True,  True,  ..., False, False, False])\n",
      "ic| data.train_mask: tensor([ True,  True,  True,  ..., False, False, False])\n",
      "ic| data.train_mask: tensor([ True,  True,  True,  ..., False, False, False])\n",
      "ic| data.train_mask: tensor([ True,  True,  True,  ..., False, False, False])\n",
      "ic| data.train_mask: tensor([ True,  True,  True,  ..., False, False, False])\n"
     ]
    },
    {
     "name": "stdout",
     "output_type": "stream",
     "text": [
      "Epoch 100, Loss: 0.027406692504882812\n"
     ]
    },
    {
     "name": "stderr",
     "output_type": "stream",
     "text": [
      "ic| data.train_mask: tensor([ True,  True,  True,  ..., False, False, False])\n",
      "ic| data.train_mask: tensor([ True,  True,  True,  ..., False, False, False])\n",
      "ic| data.train_mask: tensor([ True,  True,  True,  ..., False, False, False])\n",
      "ic| data.train_mask: tensor([ True,  True,  True,  ..., False, False, False])\n",
      "ic| data.train_mask: tensor([ True,  True,  True,  ..., False, False, False])\n",
      "ic| data.train_mask: tensor([ True,  True,  True,  ..., False, False, False])\n",
      "ic| data.train_mask: tensor([ True,  True,  True,  ..., False, False, False])\n",
      "ic| data.train_mask: tensor([ True,  True,  True,  ..., False, False, False])\n",
      "ic| data.train_mask: tensor([ True,  True,  True,  ..., False, False, False])\n",
      "ic| data.train_mask: tensor([ True,  True,  True,  ..., False, False, False])\n",
      "ic| data.train_mask: tensor([ True,  True,  True,  ..., False, False, False])\n",
      "ic| data.train_mask: tensor([ True,  True,  True,  ..., False, False, False])\n",
      "ic| data.train_mask: tensor([ True,  True,  True,  ..., False, False, False])\n",
      "ic| data.train_mask: tensor([ True,  True,  True,  ..., False, False, False])\n",
      "ic| data.train_mask: tensor([ True,  True,  True,  ..., False, False, False])\n",
      "ic| data.train_mask: tensor([ True,  True,  True,  ..., False, False, False])\n",
      "ic| data.train_mask: tensor([ True,  True,  True,  ..., False, False, False])\n",
      "ic| data.train_mask: tensor([ True,  True,  True,  ..., False, False, False])\n",
      "ic| data.train_mask: tensor([ True,  True,  True,  ..., False, False, False])\n",
      "ic| data.train_mask: tensor([ True,  "
     ]
    },
    {
     "name": "stdout",
     "output_type": "stream",
     "text": [
      "Epoch 120, Loss: 0.03144468367099762\n"
     ]
    },
    {
     "name": "stderr",
     "output_type": "stream",
     "text": [
      "True,  True,  ..., False, False, False])\n",
      "ic| data.train_mask: tensor([ True,  True,  True,  ..., False, False, False])\n",
      "ic| data.train_mask: tensor([ True,  True,  True,  ..., False, False, False])\n",
      "ic| data.train_mask: tensor([ True,  True,  True,  ..., False, False, False])\n",
      "ic| data.train_mask: tensor([ True,  True,  True,  ..., False, False, False])\n",
      "ic| data.train_mask: tensor([ True,  True,  True,  ..., False, False, False])\n",
      "ic| data.train_mask: tensor([ True,  True,  True,  ..., False, False, False])\n",
      "ic| data.train_mask: tensor([ True,  True,  True,  ..., False, False, False])\n",
      "ic| data.train_mask: tensor([ True,  True,  True,  ..., False, False, False])\n",
      "ic| data.train_mask: tensor([ True,  True,  True,  ..., False, False, False])\n",
      "ic| data.train_mask: tensor([ True,  True,  True,  ..., False, False, False])\n",
      "ic| data.train_mask: tensor([ True,  True,  True,  ..., False, False, False])\n",
      "ic| data.train_mask: tensor([ True,  True,  True,  ..., False, False, False])\n",
      "ic| data.train_mask: tensor([ True,  True,  True,  ..., False, False, False])\n",
      "ic| data.train_mask: tensor([ True,  True,  True,  ..., False, False, False])\n",
      "ic| data.train_mask: tensor([ True,  True,  True,  ..., False, False, False])\n",
      "ic| data.train_mask: tensor([ True,  True,  True,  ..., False, False, False])\n",
      "ic| data.train_mask: tensor([ True,  True,  True,  ..., False, False, False])\n",
      "ic| data.train_mask: tensor([ True,  True,  True,  ..., False, False, False])\n",
      "ic| data.train_mask: tensor([ True,  True,  True,  ..., False, False, False])\n",
      "ic| data.train_mask: tensor([ True,  True,  True,  ..., False, False, False])\n"
     ]
    },
    {
     "name": "stdout",
     "output_type": "stream",
     "text": [
      "Epoch 140, Loss: 0.049867112189531326\n"
     ]
    },
    {
     "name": "stderr",
     "output_type": "stream",
     "text": [
      "ic| data.train_mask: tensor([ True,  True,  True,  ..., False, False, False])\n",
      "ic| data.train_mask: tensor([ True,  True,  True,  ..., False, False, False])\n",
      "ic| data.train_mask: tensor([ True,  True,  True,  ..., False, False, False])\n",
      "ic| data.train_mask: tensor([ True,  True,  True,  ..., False, False, False])\n",
      "ic| data.train_mask: tensor([ True,  True,  True,  ..., False, False, False])\n",
      "ic| data.train_mask: tensor([ True,  True,  True,  ..., False, False, False])\n",
      "ic| data.train_mask: tensor([ True,  True,  True,  ..., False, False, False])\n",
      "ic| data.train_mask: tensor([ True,  True,  True,  ..., False, False, False])\n",
      "ic| data.train_mask: tensor([ True,  True,  True,  ..., False, False, False])\n",
      "ic| data.train_mask: tensor([ True,  True,  True,  ..., False, False, False])\n",
      "ic| data.train_mask: tensor([ True,  True,  True,  ..., False, False, False])\n",
      "ic| data.train_mask: tensor([ True,  True,  True,  ..., False, False, False])\n",
      "ic| data.train_mask: tensor([ True,  True,  True,  ..., False, False, False])\n",
      "ic| data.train_mask: tensor([ True,  True,  True,  ..., False, False, False])\n",
      "ic| data.train_mask: tensor([ True,  True,  True,  ..., False, False, False])\n",
      "ic| data.train_mask: tensor([ True,  True,  True,  ..., False, False, False])\n",
      "ic| data.train_mask: tensor([ True,  True,  True,  ..., False, False, False])\n",
      "ic| data.train_mask: tensor([ True,  True,  True,  ..., False, False, False])\n",
      "ic| data.train_mask: tensor([ True,  True,  True,  ..., False, False, False])\n",
      "ic| data.train_mask: tensor([ True,  True,"
     ]
    },
    {
     "name": "stdout",
     "output_type": "stream",
     "text": [
      "Epoch 160, Loss: 0.03704695403575897\n"
     ]
    },
    {
     "name": "stderr",
     "output_type": "stream",
     "text": [
      "  True,  ..., False, False, False])\n",
      "ic| data.train_mask: tensor([ True,  True,  True,  ..., False, False, False])\n",
      "ic| data.train_mask: tensor([ True,  True,  True,  ..., False, False, False])\n",
      "ic| data.train_mask: tensor([ True,  True,  True,  ..., False, False, False])\n",
      "ic| data.train_mask: tensor([ True,  True,  True,  ..., False, False, False])\n",
      "ic| data.train_mask: tensor([ True,  True,  True,  ..., False, False, False])\n",
      "ic| data.train_mask: tensor([ True,  True,  True,  ..., False, False, False])\n",
      "ic| data.train_mask: tensor([ True,  True,  True,  ..., False, False, False])\n",
      "ic| data.train_mask: tensor([ True,  True,  True,  ..., False, False, False])\n",
      "ic| data.train_mask: tensor([ True,  True,  True,  ..., False, False, False])\n",
      "ic| data.train_mask: tensor([ True,  True,  True,  ..., False, False, False])\n",
      "ic| data.train_mask: tensor([ True,  True,  True,  ..., False, False, False])\n",
      "ic| data.train_mask: tensor([ True,  True,  True,  ..., False, False, False])\n",
      "ic| data.train_mask: tensor([ True,  True,  True,  ..., False, False, False])\n",
      "ic| data.train_mask: tensor([ True,  True,  True,  ..., False, False, False])\n",
      "ic| data.train_mask: tensor([ True,  True,  True,  ..., False, False, False])\n",
      "ic| data.train_mask: tensor([ True,  True,  True,  ..., False, False, False])\n",
      "ic| data.train_mask: tensor([ True,  True,  True,  ..., False, False, False])\n",
      "ic| data.train_mask: tensor([ True,  True,  True,  ..., False, False, False])\n",
      "ic| data.train_mask: tensor([ True,  True,  True,  ..., False, False, False])\n",
      "ic| data.train_mask: tensor([ True,  True,  "
     ]
    },
    {
     "name": "stdout",
     "output_type": "stream",
     "text": [
      "Epoch 180, Loss: 0.037613071501255035\n"
     ]
    },
    {
     "name": "stderr",
     "output_type": "stream",
     "text": [
      "True,  ..., False, False, False])\n",
      "ic| data.train_mask: tensor([ True,  True,  True,  ..., False, False, False])\n",
      "ic| data.train_mask: tensor([ True,  True,  True,  ..., False, False, False])\n",
      "ic| data.train_mask: tensor([ True,  True,  True,  ..., False, False, False])\n",
      "ic| data.train_mask: tensor([ True,  True,  True,  ..., False, False, False])\n",
      "ic| data.train_mask: tensor([ True,  True,  True,  ..., False, False, False])\n",
      "ic| data.train_mask: tensor([ True,  True,  True,  ..., False, False, False])\n",
      "ic| data.train_mask: tensor([ True,  True,  True,  ..., False, False, False])\n",
      "ic| data.train_mask: tensor([ True,  True,  True,  ..., False, False, False])\n",
      "ic| data.train_mask: tensor([ True,  True,  True,  ..., False, False, False])\n",
      "ic| data.train_mask: tensor([ True,  True,  True,  ..., False, False, False])\n",
      "ic| data.train_mask: tensor([ True,  True,  True,  ..., False, False, False])\n",
      "ic| data.train_mask: tensor([ True,  True,  True,  ..., False, False, False])\n"
     ]
    },
    {
     "name": "stdout",
     "output_type": "stream",
     "text": [
      "Test Accuracy: 0.8030\n"
     ]
    }
   ],
   "source": [
    "import torch\n",
    "import torch.nn.functional as F\n",
    "from torch_geometric.nn import GCNConv\n",
    "from torch_geometric.datasets import Planetoid\n",
    "\n",
    "# データセットの読み込み (Cora)\n",
    "dataset = Planetoid(root=\"data/Cora\", name=\"Cora\")\n",
    "\n",
    "# GCNモデルの定義\n",
    "class GCN(torch.nn.Module):\n",
    "    def __init__(self, input_dim, hidden_dim, output_dim):\n",
    "        super(GCN, self).__init__()\n",
    "        # グラフ畳み込み層を定義\n",
    "        self.conv1 = GCNConv(input_dim, hidden_dim)\n",
    "        self.conv2 = GCNConv(hidden_dim, output_dim)\n",
    "\n",
    "    def forward(self, data):\n",
    "        x, edge_index = data.x, data.edge_index\n",
    "        # 第1層: ReLU活性化関数を適用\n",
    "        x = F.relu(self.conv1(x, edge_index))\n",
    "        # 第2層: ソフトマックス出力\n",
    "        x = F.dropout(x, p=0.5, training=self.training)\n",
    "        x = self.conv2(x, edge_index)\n",
    "        return F.log_softmax(x, dim=1)\n",
    "\n",
    "# モデルの初期化\n",
    "input_dim = dataset.num_node_features  # ノードの特徴量数\n",
    "hidden_dim = 16                        # 隠れ層の次元数\n",
    "output_dim = dataset.num_classes       # クラス数\n",
    "model = GCN(input_dim, hidden_dim, output_dim)\n",
    "\n",
    "# データの準備\n",
    "data = dataset[0]  # Coraには単一のグラフが含まれている\n",
    "\n",
    "# 最適化設定\n",
    "optimizer = torch.optim.Adam(model.parameters(), lr=0.01, weight_decay=5e-4)\n",
    "from icecream import ic\n",
    "# 学習ループ\n",
    "model.train()\n",
    "for epoch in range(200):\n",
    "    optimizer.zero_grad()\n",
    "    out = model(data)  # 順伝播\n",
    "    ic(data.train_mask)\n",
    "    \n",
    "    loss = F.nll_loss(out[data.train_mask], data.y[data.train_mask])  # 損失計算\n",
    "    loss.backward()  # 逆伝播\n",
    "    optimizer.step()  # パラメータ更新\n",
    "\n",
    "    if epoch % 20 == 0:\n",
    "        print(f\"Epoch {epoch}, Loss: {loss.item()}\")\n",
    "\n",
    "# テスト\n",
    "model.eval()\n",
    "_, pred = model(data).max(dim=1)\n",
    "correct = int((pred[data.test_mask] == data.y[data.test_mask]).sum())\n",
    "accuracy = correct / int(data.test_mask.sum())\n",
    "print(f\"Test Accuracy: {accuracy:.4f}\")\n"
   ]
  },
  {
   "cell_type": "code",
   "execution_count": 9,
   "metadata": {},
   "outputs": [
    {
     "name": "stdout",
     "output_type": "stream",
     "text": [
      "[[-0.93525651 -1.14798096 -1.57383065  0.          0.          0.        ]\n",
      " [ 3.16103711 -3.04401356  4.73352891  0.          0.          0.        ]]\n"
     ]
    }
   ],
   "source": [
    "import numpy as np\n",
    "arr = np.array([[-9.35256508e-01, -1.14798096e+00, -1.57383065e+00,  1.58821305e+00,\n",
    "                 4.04343644e+00,  3.78885890e+00],\n",
    "                [ 3.16103711e+00, -3.04401356e+00,  4.73352891e+00,  1.79542443e+00,\n",
    "                 -2.49976973e+00,  3.20240891e+00]])\n",
    "\n",
    "indices = [0, 1,2]  # 例: 2Dインデックス (浮動小数点でもOK)\n",
    "indices = np.array(indices)  # インデックスをNumPy配列に変換\n",
    "\n",
    "# 結果を表示\n",
    "result = keep_indices_as_nonzero(arr, indices)\n",
    "print(result)"
   ]
  },
  {
   "cell_type": "code",
   "execution_count": 10,
   "metadata": {},
   "outputs": [],
   "source": [
    "labels_ga = [[0,0,0],[1,1,1]]"
   ]
  },
  {
   "cell_type": "code",
   "execution_count": 11,
   "metadata": {},
   "outputs": [
    {
     "data": {
      "text/plain": [
       "[0, 0, 0]"
      ]
     },
     "execution_count": 11,
     "metadata": {},
     "output_type": "execute_result"
    }
   ],
   "source": [
    "labels_ga[0]"
   ]
  },
  {
   "cell_type": "code",
   "execution_count": 12,
   "metadata": {},
   "outputs": [
    {
     "data": {
      "text/plain": [
       "[1, 1, 1]"
      ]
     },
     "execution_count": 12,
     "metadata": {},
     "output_type": "execute_result"
    }
   ],
   "source": [
    "labels_ga[1]"
   ]
  },
  {
   "cell_type": "code",
   "execution_count": 14,
   "metadata": {},
   "outputs": [
    {
     "data": {
      "text/plain": [
       "2"
      ]
     },
     "execution_count": 14,
     "metadata": {},
     "output_type": "execute_result"
    }
   ],
   "source": [
    "labels_ga = np.array(labels_ga)\n",
    "labels_ga.shape[0]"
   ]
  },
  {
   "cell_type": "code",
   "execution_count": 18,
   "metadata": {},
   "outputs": [],
   "source": [
    "pop1 = [0  ,0,  0]\n",
    "pop2 =   [3.5546141 ,  3.50958564 ,-9.79896805]"
   ]
  },
  {
   "cell_type": "code",
   "execution_count": 19,
   "metadata": {},
   "outputs": [],
   "source": [
    "def Rosenbrock(x,n):\n",
    "    value = 0\n",
    "    for i in range(n-1):\n",
    "        value += 100 * (x[i+1] - x[i]**2)**2 + (1 - x[i])**2\n",
    "    return value"
   ]
  },
  {
   "cell_type": "code",
   "execution_count": null,
   "metadata": {},
   "outputs": [],
   "source": []
  },
  {
   "cell_type": "code",
   "execution_count": 20,
   "metadata": {},
   "outputs": [
    {
     "data": {
      "text/plain": [
       "2"
      ]
     },
     "execution_count": 20,
     "metadata": {},
     "output_type": "execute_result"
    }
   ],
   "source": [
    "Rosenbrock(pop1,n=3)"
   ]
  },
  {
   "cell_type": "code",
   "execution_count": 21,
   "metadata": {},
   "outputs": [],
   "source": [
    "pop = [ 2.66701798, -2.7367699   ,0.44133023 ,-4.50629121 , 2.76578144,  3.28390866]"
   ]
  },
  {
   "cell_type": "code",
   "execution_count": 22,
   "metadata": {},
   "outputs": [
    {
     "data": {
      "text/plain": [
       "49604.62904341413"
      ]
     },
     "execution_count": 22,
     "metadata": {},
     "output_type": "execute_result"
    }
   ],
   "source": [
    "Rosenbrock(pop,n=6)"
   ]
  },
  {
   "cell_type": "code",
   "execution_count": null,
   "metadata": {},
   "outputs": [],
   "source": [
    "pop = [ 0.02686754  ,0.90678714 , 1.03429554 ,-0.98058751, -0.45037669 , 0.64408839]"
   ]
  },
  {
   "cell_type": "code",
   "execution_count": 24,
   "metadata": {},
   "outputs": [
    {
     "data": {
      "text/plain": [
       "732.7941650249563"
      ]
     },
     "execution_count": 24,
     "metadata": {},
     "output_type": "execute_result"
    }
   ],
   "source": [
    "Rosenbrock(pop,n=6)"
   ]
  },
  {
   "cell_type": "code",
   "execution_count": 25,
   "metadata": {},
   "outputs": [],
   "source": [
    "global_min = [1,1,1,1,1,1]"
   ]
  },
  {
   "cell_type": "code",
   "execution_count": 26,
   "metadata": {},
   "outputs": [
    {
     "data": {
      "text/plain": [
       "0"
      ]
     },
     "execution_count": 26,
     "metadata": {},
     "output_type": "execute_result"
    }
   ],
   "source": [
    "Rosenbrock(global_min,n=6)"
   ]
  },
  {
   "cell_type": "code",
   "execution_count": null,
   "metadata": {},
   "outputs": [],
   "source": []
  },
  {
   "cell_type": "code",
   "execution_count": 3,
   "metadata": {},
   "outputs": [],
   "source": [
    "def Rosenbrock(x,n):\n",
    "    value = 0\n",
    "    for i in range(n-1):\n",
    "        value += 100 * (x[i+1] - x[i]**2)**2 + (1 - x[i])**2\n",
    "    return value"
   ]
  },
  {
   "cell_type": "code",
   "execution_count": 18,
   "metadata": {},
   "outputs": [
    {
     "name": "stdout",
     "output_type": "stream",
     "text": [
      "Generation 0: Best Fitness = inf, Average Fitness = 15873.260266994925\n"
     ]
    },
    {
     "ename": "ValueError",
     "evalue": "operands could not be broadcast together with shapes (100,2) (10,2) ",
     "output_type": "error",
     "traceback": [
      "\u001b[0;31m---------------------------------------------------------------------------\u001b[0m",
      "\u001b[0;31mValueError\u001b[0m                                Traceback (most recent call last)",
      "Cell \u001b[0;32mIn[18], line 144\u001b[0m\n\u001b[1;32m    141\u001b[0m     \u001b[38;5;28;01mreturn\u001b[39;00m best_individual, best_fitness, best_fitness_history, avg_fitness_history\n\u001b[1;32m    143\u001b[0m \u001b[38;5;66;03m# 実行\u001b[39;00m\n\u001b[0;32m--> 144\u001b[0m best_individual, best_fitness, best_fitness_history, avg_fitness_history \u001b[38;5;241m=\u001b[39m \u001b[43mgenetic_algorithm\u001b[49m\u001b[43m(\u001b[49m\u001b[43mdim\u001b[49m\u001b[43m,\u001b[49m\u001b[43m \u001b[49m\u001b[43mmax_gen\u001b[49m\u001b[43m,\u001b[49m\u001b[43m \u001b[49m\u001b[43mpop_size\u001b[49m\u001b[43m,\u001b[49m\u001b[43m \u001b[49m\u001b[43moffspring_size\u001b[49m\u001b[43m,\u001b[49m\u001b[43m \u001b[49m\u001b[43mbound\u001b[49m\u001b[43m)\u001b[49m\n\u001b[1;32m    145\u001b[0m \u001b[38;5;28mprint\u001b[39m(\u001b[38;5;124mf\u001b[39m\u001b[38;5;124m\"\u001b[39m\u001b[38;5;124m最良個体の適合度：\u001b[39m\u001b[38;5;132;01m{\u001b[39;00mbest_fitness\u001b[38;5;132;01m}\u001b[39;00m\u001b[38;5;124m\"\u001b[39m)\n\u001b[1;32m    146\u001b[0m \u001b[38;5;28mprint\u001b[39m(\u001b[38;5;124mf\u001b[39m\u001b[38;5;124m\"\u001b[39m\u001b[38;5;124m最良個体のパラメータ：\u001b[39m\u001b[38;5;132;01m{\u001b[39;00mbest_individual\u001b[38;5;132;01m}\u001b[39;00m\u001b[38;5;124m\"\u001b[39m)\n",
      "Cell \u001b[0;32mIn[18], line 123\u001b[0m, in \u001b[0;36mgenetic_algorithm\u001b[0;34m(dim, max_gen, pop_size, offspring_size, bound)\u001b[0m\n\u001b[1;32m    120\u001b[0m     \u001b[38;5;28;01mif\u001b[39;00m \u001b[38;5;28mlen\u001b[39m(new_population) \u001b[38;5;241m<\u001b[39m offspring_size:\n\u001b[1;32m    121\u001b[0m         new_population\u001b[38;5;241m.\u001b[39mappend(mutate(child2, bound))\n\u001b[0;32m--> 123\u001b[0m population \u001b[38;5;241m=\u001b[39m \u001b[43mpopulation\u001b[49m\u001b[43m \u001b[49m\u001b[38;5;241;43m+\u001b[39;49m\u001b[43m \u001b[49m\u001b[43mnew_population\u001b[49m\n\u001b[1;32m    124\u001b[0m \u001b[38;5;66;03m# population = sorted(population, key=lambda x: predict_surrogate(population))[:pop_size]\u001b[39;00m\n\u001b[1;32m    125\u001b[0m fitness \u001b[38;5;241m=\u001b[39m np\u001b[38;5;241m.\u001b[39msqueeze(fitness)\n",
      "\u001b[0;31mValueError\u001b[0m: operands could not be broadcast together with shapes (100,2) (10,2) "
     ]
    }
   ],
   "source": [
    "import matplotlib.pyplot as plt\n",
    "import numpy as np\n",
    "import numpy as np\n",
    "import random\n",
    "from icecream import ic\n",
    "from smt.problems import Rosenbrock\n",
    "from rbf_surrogate_100_train import predict_surrogate\n",
    "def Rosenbrock(x,n):\n",
    "    value = 0\n",
    "    for i in range(n-1):\n",
    "        value += 100 * (x[i+1] - x[i]**2)**2 + (1 - x[i])**2\n",
    "    return value\n",
    "\n",
    "# シード値の設定\n",
    "SEED = 42\n",
    "np.random.seed(SEED)\n",
    "random.seed(SEED)\n",
    "# パラメータの設定\n",
    "dim = 2\n",
    "\n",
    "max_gen = 2\n",
    "pop_size = 100\n",
    "offspring_size = 10\n",
    "bound_rastrigin = 5.12\n",
    "bound = 5.12 # Typical bound for Rosenbrock function\n",
    "\n",
    "# 初期集団の生成\n",
    "def init_population(pop_size, dim, bound):\n",
    "    return [np.random.uniform(-bound, bound, dim) for _ in range(pop_size)]\n",
    "\n",
    "# 適合度の計算\n",
    "def evaluate_population(population):\n",
    "    return [Rosenbrock(individual,dim) for individual in population]\n",
    "    # return objective_function_ga(population,dim)\n",
    "\n",
    "\n",
    "    # eva = np.abs(predict_surrogate(population))\n",
    "    # return eva\n",
    "\n",
    "# ルーレット選択\n",
    "def roulette_wheel_selection(population, fitness):\n",
    "    # current_best_fitness_index = np.argmin(fitness)\n",
    "    # return population[current_best_fitness_index]\n",
    "    max_val = sum(fitness)\n",
    "    pick = random.uniform(0, max_val)\n",
    "    current = 0\n",
    " \n",
    "\n",
    "    fitness_roulette = np.array(fitness)\n",
    "    fitness_roulette= np.squeeze(fitness_roulette)\n",
    "    for i, f in enumerate(fitness_roulette):\n",
    "        current += f\n",
    "        \n",
    "        if current > pick:\n",
    "            return population[i]\n",
    "    return population[-1]\n",
    "\n",
    "# UNDX交叉操作\n",
    "def undx_crossover(parent1, parent2, parent3, dim):\n",
    "    alpha = 0.5 #親の情報をどれだけ持ってくるか\n",
    "    beta = 0.35 #乱数をどれだけ受け入れるか\n",
    "    g = 0.5 * (parent1 + parent2)\n",
    "    d = parent2 - parent1\n",
    "    norm_d = np.linalg.norm(d)\n",
    "    if norm_d == 0:#parent2とparent1が等しいとき\n",
    "        return parent1, parent2\n",
    "    d = d / norm_d#どれだけ解に近いか。\n",
    "    \n",
    "    rand = np.random.normal(0, 1, dim)\n",
    "    \n",
    "\n",
    "    child1 = g + alpha * (parent3 - g) + beta * np.dot(rand, d) * d #乱数\n",
    "    child2 = g + alpha * (g - parent3) + beta * np.dot(rand, d) * d\n",
    "\n",
    "\n",
    "    \n",
    "    return child1, child2\n",
    "\n",
    "# 変異操作\n",
    "def mutate(individual, bound, mutation_rate=0.01):\n",
    "    for i in range(len(individual)):\n",
    "        if random.random() < mutation_rate:\n",
    "            individual[i] = random.uniform(-bound, bound)\n",
    "    return individual\n",
    "\n",
    "# メインの遺伝的アルゴリズム\n",
    "def genetic_algorithm(dim, max_gen, pop_size, offspring_size, bound):\n",
    "    population = init_population(pop_size, dim, bound)\n",
    "\n",
    "    #population=population[0]\n",
    "    best_individual = None\n",
    "    best_fitness = float('inf')\n",
    "    fitness_history = []\n",
    "    best_fitness_history = []\n",
    "    avg_fitness_history = []    \n",
    "\n",
    "            \n",
    "    for generation in range(max_gen):\n",
    "        population = np.array(population)\n",
    "\n",
    "        fitness = evaluate_population(population)\n",
    "\n",
    "        current_best_fitness = min(fitness)\n",
    "        avg_fitness = np.mean(fitness)\n",
    "        best_fitness_history.append(current_best_fitness)\n",
    "        avg_fitness_history.append(avg_fitness)\n",
    "        if generation % 10 == 0:\n",
    "            avg_fitness = np.mean(fitness)\n",
    "            print(f\"Generation {generation}: Best Fitness = {best_fitness}, Average Fitness = {avg_fitness}\")\n",
    "\n",
    "        fitness_history.append(np.mean(fitness))\n",
    "\n",
    "        new_population = []\n",
    "        while len(new_population) < offspring_size:\n",
    "            parent1 = roulette_wheel_selection(population, fitness)\n",
    "            parent2 = roulette_wheel_selection(population, fitness)\n",
    "            parent3 = roulette_wheel_selection(population, fitness)\n",
    "            child1, child2 = undx_crossover(parent1, parent2, parent3, dim)\n",
    "            new_population.append(mutate(child1, bound))\n",
    "            if len(new_population) < offspring_size:\n",
    "                new_population.append(mutate(child2, bound))\n",
    "\n",
    "        population = population + new_population\n",
    "        # population = sorted(population, key=lambda x: predict_surrogate(population))[:pop_size]\n",
    "        fitness = np.squeeze(fitness)\n",
    "        current_best_fitness = min(fitness)\n",
    "\n",
    "        if current_best_fitness < best_fitness:\n",
    "            best_fitness = current_best_fitness\n",
    "            index = np.argmin(fitness)\n",
    "            best_individual = population[index]\n",
    "\n",
    "            # pop_surrogate = np.zeros((100,6))\n",
    "            # pop_surrogate[0] = best_individual\n",
    "            # tmp_fitness = predict_surrogate(pop_surrogate)\n",
    "\n",
    "\n",
    "        # if abs(np.mean(fitness) - best_fitness) < 1e-6 and generation > 1000:\n",
    "        #     break\n",
    "\n",
    "    return best_individual, best_fitness, best_fitness_history, avg_fitness_history\n",
    "\n",
    "# 実行\n",
    "best_individual, best_fitness, best_fitness_history, avg_fitness_history = genetic_algorithm(dim, max_gen, pop_size, offspring_size, bound)\n",
    "print(f\"最良個体の適合度：{best_fitness}\")\n",
    "print(f\"最良個体のパラメータ：{best_individual}\")"
   ]
  },
  {
   "cell_type": "code",
   "execution_count": 1,
   "metadata": {},
   "outputs": [],
   "source": [
    "x =([[-0.14286062, -0.05531162,  1.67451386,  0.26902896, -0.58145533,\n",
    "                              1.95933943]])"
   ]
  },
  {
   "cell_type": "code",
   "execution_count": 5,
   "metadata": {},
   "outputs": [
    {
     "ename": "IndexError",
     "evalue": "list index out of range",
     "output_type": "error",
     "traceback": [
      "\u001b[0;31m---------------------------------------------------------------------------\u001b[0m",
      "\u001b[0;31mIndexError\u001b[0m                                Traceback (most recent call last)",
      "Cell \u001b[0;32mIn[5], line 2\u001b[0m\n\u001b[1;32m      1\u001b[0m x[\u001b[38;5;241m0\u001b[39m]\n\u001b[0;32m----> 2\u001b[0m \u001b[43mRosenbrock\u001b[49m\u001b[43m(\u001b[49m\u001b[43mx\u001b[49m\u001b[43m,\u001b[49m\u001b[43mn\u001b[49m\u001b[38;5;241;43m=\u001b[39;49m\u001b[38;5;241;43m6\u001b[39;49m\u001b[43m)\u001b[49m\n",
      "Cell \u001b[0;32mIn[3], line 4\u001b[0m, in \u001b[0;36mRosenbrock\u001b[0;34m(x, n)\u001b[0m\n\u001b[1;32m      2\u001b[0m value \u001b[38;5;241m=\u001b[39m \u001b[38;5;241m0\u001b[39m\n\u001b[1;32m      3\u001b[0m \u001b[38;5;28;01mfor\u001b[39;00m i \u001b[38;5;129;01min\u001b[39;00m \u001b[38;5;28mrange\u001b[39m(n\u001b[38;5;241m-\u001b[39m\u001b[38;5;241m1\u001b[39m):\n\u001b[0;32m----> 4\u001b[0m     value \u001b[38;5;241m+\u001b[39m\u001b[38;5;241m=\u001b[39m \u001b[38;5;241m100\u001b[39m \u001b[38;5;241m*\u001b[39m (\u001b[43mx\u001b[49m\u001b[43m[\u001b[49m\u001b[43mi\u001b[49m\u001b[38;5;241;43m+\u001b[39;49m\u001b[38;5;241;43m1\u001b[39;49m\u001b[43m]\u001b[49m \u001b[38;5;241m-\u001b[39m x[i]\u001b[38;5;241m*\u001b[39m\u001b[38;5;241m*\u001b[39m\u001b[38;5;241m2\u001b[39m)\u001b[38;5;241m*\u001b[39m\u001b[38;5;241m*\u001b[39m\u001b[38;5;241m2\u001b[39m \u001b[38;5;241m+\u001b[39m (\u001b[38;5;241m1\u001b[39m \u001b[38;5;241m-\u001b[39m x[i])\u001b[38;5;241m*\u001b[39m\u001b[38;5;241m*\u001b[39m\u001b[38;5;241m2\u001b[39m\n\u001b[1;32m      5\u001b[0m \u001b[38;5;28;01mreturn\u001b[39;00m value\n",
      "\u001b[0;31mIndexError\u001b[0m: list index out of range"
     ]
    }
   ],
   "source": [
    "x[0]\n",
    "Rosenbrock(x,n=6)"
   ]
  },
  {
   "cell_type": "code",
   "execution_count": 6,
   "metadata": {},
   "outputs": [
    {
     "data": {
      "text/plain": [
       "[-0.14286062, -0.05531162, 1.67451386, 0.26902896, -0.58145533, 1.95933943]"
      ]
     },
     "execution_count": 6,
     "metadata": {},
     "output_type": "execute_result"
    }
   ],
   "source": [
    "x[0]"
   ]
  },
  {
   "cell_type": "code",
   "execution_count": 18,
   "metadata": {},
   "outputs": [],
   "source": [
    "labels_ga = [[0,1,2,3],[4],[5],[6]]"
   ]
  },
  {
   "cell_type": "code",
   "execution_count": 14,
   "metadata": {},
   "outputs": [
    {
     "data": {
      "text/plain": [
       "4"
      ]
     },
     "execution_count": 14,
     "metadata": {},
     "output_type": "execute_result"
    }
   ],
   "source": [
    "import numpy as np\n",
    "len(labels_ga[0])"
   ]
  },
  {
   "cell_type": "code",
   "execution_count": 15,
   "metadata": {},
   "outputs": [
    {
     "data": {
      "text/plain": [
       "1"
      ]
     },
     "execution_count": 15,
     "metadata": {},
     "output_type": "execute_result"
    }
   ],
   "source": [
    "len(labels_ga[1])"
   ]
  },
  {
   "cell_type": "code",
   "execution_count": 19,
   "metadata": {},
   "outputs": [
    {
     "data": {
      "text/plain": [
       "4"
      ]
     },
     "execution_count": 19,
     "metadata": {},
     "output_type": "execute_result"
    }
   ],
   "source": [
    "len(labels_ga[:][0])"
   ]
  },
  {
   "cell_type": "code",
   "execution_count": 23,
   "metadata": {},
   "outputs": [
    {
     "name": "stdout",
     "output_type": "stream",
     "text": [
      "2次元目の要素数: 4\n"
     ]
    }
   ],
   "source": [
    "# 2次元目の要素数をカウント\n",
    "count = 0\n",
    "for i in  labels_ga:\n",
    "    count += 1\n",
    "element_count = sum(len(inner_list) for inner_list in labels_ga)\n",
    "\n",
    "print(f\"2次元目の要素数: {count}\")"
   ]
  },
  {
   "cell_type": "code",
   "execution_count": null,
   "metadata": {},
   "outputs": [],
   "source": []
  }
 ],
 "metadata": {
  "kernelspec": {
   "display_name": "2121057",
   "language": "python",
   "name": "python3"
  },
  "language_info": {
   "codemirror_mode": {
    "name": "ipython",
    "version": 3
   },
   "file_extension": ".py",
   "mimetype": "text/x-python",
   "name": "python",
   "nbconvert_exporter": "python",
   "pygments_lexer": "ipython3",
   "version": "3.12.2"
  }
 },
 "nbformat": 4,
 "nbformat_minor": 2
}
