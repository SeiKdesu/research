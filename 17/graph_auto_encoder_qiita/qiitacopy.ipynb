{
 "cells": [
  {
   "cell_type": "code",
   "execution_count": 1,
   "metadata": {},
   "outputs": [
    {
     "name": "stdout",
     "output_type": "stream",
     "text": [
      "\u001b[33mDEPRECATION: Loading egg at /home/csl-stu/.pyenv/versions/3.12.2/envs/2121057/lib/python3.12/site-packages/h5py-3.12.1-py3.12-linux-x86_64.egg is deprecated. pip 25.1 will enforce this behaviour change. A possible replacement is to use pip for package installation. Discussion can be found at https://github.com/pypa/pip/issues/12330\u001b[0m\u001b[33m\n",
      "\u001b[0m  \u001b[1;31merror\u001b[0m: \u001b[1msubprocess-exited-with-error\u001b[0m\n",
      "  \n",
      "  \u001b[31m×\u001b[0m \u001b[32mgit clone --\u001b[0m\u001b[32mfilter\u001b[0m\u001b[32m=\u001b[0m\u001b[32mblob\u001b[0m\u001b[32m:none --quiet \u001b[0m\u001b[4;32mhttps://github.com/pyg-team/pytorch_geometric.git\u001b[0m\u001b[32m \u001b[0m\u001b[32m/tmp/\u001b[0m\u001b[32mpip-req-build-rxbu3pvm\u001b[0m did not run successfully.\n",
      "  \u001b[31m│\u001b[0m exit code: \u001b[1;36m128\u001b[0m\n",
      "  \u001b[31m╰─>\u001b[0m \u001b[31m[1 lines of output]\u001b[0m\n",
      "  \u001b[31m   \u001b[0m fatal: unable to access 'https://github.com/pyg-team/pytorch_geometric.git/': Failed to connect to 133.78.130.254 port 8081 after 0 ms: 接続を拒否されました\n",
      "  \u001b[31m   \u001b[0m \u001b[31m[end of output]\u001b[0m\n",
      "  \n",
      "  \u001b[1;35mnote\u001b[0m: This error originates from a subprocess, and is likely not a problem with pip.\n",
      "\u001b[1;31merror\u001b[0m: \u001b[1msubprocess-exited-with-error\u001b[0m\n",
      "\n",
      "\u001b[31m×\u001b[0m \u001b[32mgit clone --\u001b[0m\u001b[32mfilter\u001b[0m\u001b[32m=\u001b[0m\u001b[32mblob\u001b[0m\u001b[32m:none --quiet \u001b[0m\u001b[4;32mhttps://github.com/pyg-team/pytorch_geometric.git\u001b[0m\u001b[32m \u001b[0m\u001b[32m/tmp/\u001b[0m\u001b[32mpip-req-build-rxbu3pvm\u001b[0m did not run successfully.\n",
      "\u001b[31m│\u001b[0m exit code: \u001b[1;36m128\u001b[0m\n",
      "\u001b[31m╰─>\u001b[0m See above for output.\n",
      "\n",
      "\u001b[1;35mnote\u001b[0m: This error originates from a subprocess, and is likely not a problem with pip.\n"
     ]
    }
   ],
   "source": [
    "import os\n",
    "import torch\n",
    "\n",
    "torch.manual_seed(53)\n",
    "os.environ['TORCH'] = torch.__version__\n",
    "print(torch.__version__)\n",
    "\n",
    "!pip install -q torch-scatter -f https://data.pyg.org/whl/torch-${TORCH}.html\n",
    "!pip install -q torch-sparse -f https://data.pyg.org/whl/torch-${TORCH}.html\n",
    "!pip install -q git+https://github.com/pyg-team/pytorch_geometric.git\n",
    "\n",
    "import torch_geometric\n"
   ]
  },
  {
   "cell_type": "code",
   "execution_count": 2,
   "metadata": {},
   "outputs": [],
   "source": [
    "device = torch.device('cuda' if torch.cuda.is_available() else 'cpu')\n",
    "device = \"cpu\"\n"
   ]
  },
  {
   "cell_type": "code",
   "execution_count": 7,
   "metadata": {},
   "outputs": [],
   "source": [
    "import numpy as np\n",
    "import torch\n",
    "from torch_geometric.data import Data, InMemoryDataset\n",
    "from rosenbrock_nn_similarity import dim_num_dataset\n",
    "\n",
    "class GridDataset(InMemoryDataset):\n",
    "    def __init__(self, transform=None):\n",
    "        super().__init__('.', transform)  # 親クラスの初期化を明示的に呼び出し\n",
    "\n",
    "        # データを取得\n",
    "        embeddings, edges, edge_attr, ys = dim_num_dataset(dim_valuem=1)\n",
    "\n",
    "        # torch.Tensor に変換\n",
    "        embeddings = torch.tensor(embeddings, dtype=torch.float)\n",
    "        edges = torch.tensor(edges, dtype=torch.long).T  # 転置して [2, num_edges] の形状に\n",
    "        edge_attr = torch.tensor(edge_attr, dtype=torch.float)\n",
    "        ys = torch.tensor(ys, dtype=torch.float)\n",
    "\n",
    "        # Dataオブジェクトを生成\n",
    "        data = Data(x=embeddings, edge_index=edges, y=ys, edge_attr=edge_attr)\n",
    "        self.edge_attr = edge_attr\n",
    "        # self.collate を使ってデータセット形式に変換\n",
    "        self.data, self.slices = self.collate([data])\n",
    "        self.data.num_nodes = len(embeddings)\n",
    "\n",
    "    def layout(self):\n",
    "        return {i: x.detach().numpy() for i, x in enumerate(self.data.x)}\n",
    "\n",
    "    def node_color(self):\n",
    "        c = {0: \"red\", 1: \"blue\"}\n",
    "        return [c[int(x.detach().numpy())] for (i, x) in enumerate(self.data.y)]\n"
   ]
  },
  {
   "cell_type": "code",
   "execution_count": 8,
   "metadata": {},
   "outputs": [
    {
     "name": "stderr",
     "output_type": "stream",
     "text": [
      "/tmp/ipykernel_984643/1514163239.py:14: UserWarning: To copy construct from a tensor, it is recommended to use sourceTensor.clone().detach() or sourceTensor.clone().detach().requires_grad_(True), rather than torch.tensor(sourceTensor).\n",
      "  embeddings = torch.tensor(embeddings, dtype=torch.float)\n",
      "/tmp/ipykernel_984643/1514163239.py:15: UserWarning: To copy construct from a tensor, it is recommended to use sourceTensor.clone().detach() or sourceTensor.clone().detach().requires_grad_(True), rather than torch.tensor(sourceTensor).\n",
      "  edges = torch.tensor(edges, dtype=torch.long).T  # 転置して [2, num_edges] の形状に\n",
      "/tmp/ipykernel_984643/1514163239.py:17: UserWarning: To copy construct from a tensor, it is recommended to use sourceTensor.clone().detach() or sourceTensor.clone().detach().requires_grad_(True), rather than torch.tensor(sourceTensor).\n",
      "  ys = torch.tensor(ys, dtype=torch.float)\n",
      "/home/csl-stu/.pyenv/versions/2121057/lib/python3.12/site-packages/torch_geometric/data/in_memory_dataset.py:300: UserWarning: It is not recommended to directly access the internal storage format `data` of an 'InMemoryDataset'. If you are absolutely certain what you are doing, access the internal storage via `InMemoryDataset._data` instead to suppress this warning. Alternatively, you can access stacked individual attributes of every graph via `dataset.{attr_name}`.\n",
      "  warnings.warn(msg)\n"
     ]
    }
   ],
   "source": [
    "use_dataset = GridDataset()\n",
    "# use_dataset = ColonyDataset\n"
   ]
  },
  {
   "cell_type": "code",
   "execution_count": 9,
   "metadata": {},
   "outputs": [
    {
     "name": "stdout",
     "output_type": "stream",
     "text": [
      "edge_index shape: torch.Size([30])\n"
     ]
    },
    {
     "name": "stderr",
     "output_type": "stream",
     "text": [
      "/home/csl-stu/.pyenv/versions/2121057/lib/python3.12/site-packages/torch_geometric/deprecation.py:26: UserWarning: 'train_test_split_edges' is deprecated, use 'transforms.RandomLinkSplit' instead\n",
      "  warnings.warn(out)\n"
     ]
    }
   ],
   "source": [
    "dataset = use_dataset\n",
    "data = dataset\n",
    "print(f\"edge_index shape: {data.edge_attr.shape}\")\n",
    "data.edge_index = data.edge_index.T\n",
    "\n",
    "data = torch_geometric.utils.train_test_split_edges(data)\n"
   ]
  },
  {
   "cell_type": "code",
   "execution_count": 10,
   "metadata": {},
   "outputs": [],
   "source": [
    "class GCNEncoder(torch.nn.Module):\n",
    "    def __init__(self, in_channels, out_channels):\n",
    "        super(GCNEncoder, self).__init__()\n",
    "        self.conv1 = torch_geometric.nn.GCNConv(\n",
    "            in_channels, 4 * out_channels, cached=True\n",
    "            ) \n",
    "        self.conv1b = torch_geometric.nn.GCNConv(\n",
    "            4 * out_channels, 16 * out_channels, cached=True\n",
    "            ) \n",
    "        self.conv1c = torch_geometric.nn.GCNConv(\n",
    "            16 * out_channels, 32 * out_channels, cached=True\n",
    "            ) \n",
    "        self.conv1d = torch_geometric.nn.GCNConv(\n",
    "            32 * out_channels, 16 * out_channels, cached=True\n",
    "            ) \n",
    "        self.conv1e = torch_geometric.nn.GCNConv(\n",
    "            16 * out_channels, 4 * out_channels, cached=True\n",
    "            ) \n",
    "        self.conv2 = torch_geometric.nn.GCNConv(\n",
    "            4 * out_channels, out_channels, cached=True\n",
    "            ) \n",
    "\n",
    "    def forward(self, x, edge_index):\n",
    "        x = self.conv1(x, edge_index).relu()\n",
    "        x = self.conv1b(x, edge_index).relu()\n",
    "        x = self.conv1c(x, edge_index).relu()\n",
    "        x = self.conv1d(x, edge_index).relu()\n",
    "        x = self.conv1e(x, edge_index).relu()\n",
    "        return self.conv2(x, edge_index)\n"
   ]
  },
  {
   "cell_type": "code",
   "execution_count": 11,
   "metadata": {},
   "outputs": [],
   "source": [
    "def train():\n",
    "    model.train()\n",
    "    optimizer.zero_grad()\n",
    "    z = model.encode(x, train_pos_edge_index)\n",
    "    loss = model.recon_loss(z, train_pos_edge_index)\n",
    "    loss.backward()\n",
    "    optimizer.step()\n",
    "    return float(loss)\n",
    "\n",
    "def test(pos_edge_index, neg_edge_index):\n",
    "    model.eval()\n",
    "    with torch.no_grad():\n",
    "        z = model.encode(x, train_pos_edge_index)\n",
    "    return model.test(z, pos_edge_index, neg_edge_index)\n"
   ]
  },
  {
   "cell_type": "code",
   "execution_count": 12,
   "metadata": {},
   "outputs": [],
   "source": [
    "epochs = 500\n",
    "out_channels = 16\n",
    "\n",
    "num_features = 35\n",
    "model = torch_geometric.nn.GAE(GCNEncoder(num_features, out_channels))\n",
    "model = model.to(device)\n",
    "\n",
    "x = data.x.to(device)\n",
    "train_pos_edge_index = data.train_pos_edge_index.to(device)\n",
    "\n",
    "optimizer = torch.optim.Adam(model.parameters(), lr=0.01)\n"
   ]
  },
  {
   "cell_type": "code",
   "execution_count": 13,
   "metadata": {},
   "outputs": [
    {
     "name": "stdout",
     "output_type": "stream",
     "text": [
      "Epoch: 001, AUC: 0.0000, AP: 0.3833, Loss: 1.3871502876281738\n",
      "Epoch: 003, AUC: 0.8889, AP: 0.9167, Loss: 1.3879698514938354\n",
      "Epoch: 004, AUC: 1.0000, AP: 1.0000, Loss: 1.384006142616272\n"
     ]
    }
   ],
   "source": [
    "import copy\n",
    "\n",
    "loss_hist = []\n",
    "auc_hist = []\n",
    "ap_hist = []\n",
    "best_score = None\n",
    "for epoch in range(1, epochs + 1):\n",
    "    loss = train()\n",
    "    auc, ap = test(data.test_pos_edge_index, data.test_neg_edge_index)\n",
    "    loss_hist.append(loss)\n",
    "    auc_hist.append(auc)\n",
    "    ap_hist.append(ap)\n",
    "    if best_score is None or best_score < ap:\n",
    "        best_score = ap\n",
    "        best_model = copy.deepcopy(model)\n",
    "        print('Epoch: {:03d}, AUC: {:.4f}, AP: {:.4f}, Loss: {}'.format(epoch, auc, ap, loss))\n"
   ]
  },
  {
   "cell_type": "code",
   "execution_count": 14,
   "metadata": {},
   "outputs": [
    {
     "data": {
      "image/png": "[encoded data removed]",
      "text/plain": [
       "<Figure size 640x480 with 1 Axes>"
      ]
     },
     "metadata": {},
     "output_type": "display_data"
    },
    {
     "data": {
      "image/png": "[encoded data removed]",
      "text/plain": [
       "<Figure size 640x480 with 1 Axes>"
      ]
     },
     "metadata": {},
     "output_type": "display_data"
    }
   ],
   "source": [
    "import matplotlib.pyplot as plt\n",
    "\n",
    "plt.title(\"GAE\")\n",
    "plt.plot(loss_hist, label=\"Loss\")\n",
    "plt.grid()\n",
    "plt.legend()\n",
    "plt.yscale('log')\n",
    "plt.show()\n",
    "plt.title(\"GAE\")\n",
    "plt.plot(auc_hist, label=\"AUC\")\n",
    "plt.plot(ap_hist, label=\"AP\")\n",
    "plt.grid()\n",
    "plt.legend()\n",
    "plt.show()\n"
   ]
  },
  {
   "cell_type": "code",
   "execution_count": 15,
   "metadata": {},
   "outputs": [
    {
     "data": {
      "text/plain": [
       "tensor([[ 0.0000e+00, -2.3721e-03, -7.7663e-05,  ..., -8.8491e-03,\n",
       "         -2.1370e-02, -1.3417e-02],\n",
       "        [ 1.8300e-03,  0.0000e+00,  1.8485e-03,  ..., -5.8878e-03,\n",
       "         -1.7628e-02, -1.0140e-02],\n",
       "        [-9.8534e-06, -2.2858e-03,  0.0000e+00,  ..., -8.7581e-03,\n",
       "         -2.1269e-02, -1.3325e-02],\n",
       "        ...,\n",
       "        [ 6.0676e-03,  4.8268e-03,  6.0908e-03,  ...,  0.0000e+00,\n",
       "         -1.0276e-02, -3.6584e-03],\n",
       "        [ 1.2047e-02,  1.1588e-02,  1.2081e-02,  ...,  8.2252e-03,\n",
       "          0.0000e+00,  5.3975e-03],\n",
       "        [ 8.4795e-03,  7.5547e-03,  8.5038e-03,  ...,  3.3213e-03,\n",
       "         -6.1239e-03,  0.0000e+00]], grad_fn=<SubBackward0>)"
      ]
     },
     "execution_count": 15,
     "metadata": {},
     "output_type": "execute_result"
    }
   ],
   "source": [
    "z = best_model.encode(x, train_pos_edge_index)\n",
    "prob_adj = z @ z.T\n",
    "prob_adj = prob_adj - torch.diagonal(prob_adj)\n",
    "prob_adj\n"
   ]
  },
  {
   "cell_type": "code",
   "execution_count": 16,
   "metadata": {},
   "outputs": [
    {
     "ename": "TypeError",
     "evalue": "'GridDataset' object is not callable",
     "output_type": "error",
     "traceback": [
      "\u001b[0;31m---------------------------------------------------------------------------\u001b[0m",
      "\u001b[0;31mTypeError\u001b[0m                                 Traceback (most recent call last)",
      "Cell \u001b[0;32mIn[16], line 3\u001b[0m\n\u001b[1;32m      1\u001b[0m prob_adj_values \u001b[38;5;241m=\u001b[39m prob_adj\u001b[38;5;241m.\u001b[39mdetach()\u001b[38;5;241m.\u001b[39mcpu()\u001b[38;5;241m.\u001b[39mnumpy()\u001b[38;5;241m.\u001b[39mflatten()\n\u001b[1;32m      2\u001b[0m prob_adj_values\u001b[38;5;241m.\u001b[39msort()\n\u001b[0;32m----> 3\u001b[0m dataset \u001b[38;5;241m=\u001b[39m \u001b[43muse_dataset\u001b[49m\u001b[43m(\u001b[49m\u001b[43m)\u001b[49m\n\u001b[1;32m      4\u001b[0m threshold \u001b[38;5;241m=\u001b[39m prob_adj_values[\u001b[38;5;241m-\u001b[39m\u001b[38;5;28mlen\u001b[39m(dataset\u001b[38;5;241m.\u001b[39mdata\u001b[38;5;241m.\u001b[39medge_attr)]\n\u001b[1;32m      5\u001b[0m dataset\u001b[38;5;241m.\u001b[39mdata\u001b[38;5;241m.\u001b[39medge_index \u001b[38;5;241m=\u001b[39m (prob_adj \u001b[38;5;241m>\u001b[39m\u001b[38;5;241m=\u001b[39m threshold)\u001b[38;5;241m.\u001b[39mnonzero(as_tuple\u001b[38;5;241m=\u001b[39m\u001b[38;5;28;01mFalse\u001b[39;00m)\u001b[38;5;241m.\u001b[39mt()\n",
      "\u001b[0;31mTypeError\u001b[0m: 'GridDataset' object is not callable"
     ]
    }
   ],
   "source": [
    "prob_adj_values = prob_adj.detach().cpu().numpy().flatten()\n",
    "prob_adj_values.sort()\n",
    "dataset = use_dataset()\n",
    "threshold = prob_adj_values[-len(dataset.data.edge_attr)]\n",
    "dataset.data.edge_index = (prob_adj >= threshold).nonzero(as_tuple=False).t()\n"
   ]
  },
  {
   "cell_type": "code",
   "execution_count": null,
   "metadata": {},
   "outputs": [],
   "source": [
    "import networkx as nx\n",
    "import matplotlib.pyplot as plt\n",
    "\n",
    "G = torch_geometric.utils.convert.to_networkx(dataset.data)\n",
    "plt.figure(figsize=(12,12))\n",
    "nx.draw_networkx(G, pos=dataset.layout(), with_labels=False, alpha=0.5, node_color=dataset.node_color())\n"
   ]
  },
  {
   "cell_type": "code",
   "execution_count": null,
   "metadata": {},
   "outputs": [],
   "source": []
  },
  {
   "cell_type": "markdown",
   "metadata": {},
   "source": [
    "# Variable Auto Encoder"
   ]
  },
  {
   "cell_type": "markdown",
   "metadata": {},
   "source": []
  },
  {
   "cell_type": "code",
   "execution_count": null,
   "metadata": {},
   "outputs": [],
   "source": [
    "class VariationalGCNEncoder(torch.nn.Module):\n",
    "    def __init__(self, in_channels, out_channels):\n",
    "        super(VariationalGCNEncoder, self).__init__()\n",
    "        self.conv1 = torch_geometric.nn.GCNConv(\n",
    "            in_channels, 4 * out_channels, cached=True\n",
    "            ) \n",
    "        self.conv1b = torch_geometric.nn.GCNConv(\n",
    "            4 * out_channels, 16 * out_channels, cached=True\n",
    "            ) \n",
    "        self.conv1c = torch_geometric.nn.GCNConv(\n",
    "            16 * out_channels, 32 * out_channels, cached=True\n",
    "            ) \n",
    "        self.conv1d = torch_geometric.nn.GCNConv(\n",
    "            32 * out_channels, 16 * out_channels, cached=True\n",
    "            ) \n",
    "        self.conv1e = torch_geometric.nn.GCNConv(\n",
    "            16 * out_channels, 4 * out_channels, cached=True\n",
    "            ) \n",
    "        self.conv_mu = torch_geometric.nn.GCNConv(\n",
    "            4 * out_channels, out_channels, cached=True\n",
    "            )\n",
    "        self.conv_logstd = torch_geometric.nn.GCNConv(\n",
    "            4 * out_channels, out_channels, cached=True\n",
    "            )\n",
    "\n",
    "    def forward(self, x, edge_index):\n",
    "        x = self.conv1(x, edge_index).relu()\n",
    "        x = self.conv1b(x, edge_index).relu()\n",
    "        x = self.conv1c(x, edge_index).relu()\n",
    "        x = self.conv1d(x, edge_index).relu()\n",
    "        x = self.conv1e(x, edge_index).relu()\n",
    "        return self.conv_mu(x, edge_index), self.conv_logstd(x, edge_index)\n"
   ]
  },
  {
   "cell_type": "code",
   "execution_count": null,
   "metadata": {},
   "outputs": [],
   "source": [
    "def train():\n",
    "    model.train()\n",
    "    optimizer.zero_grad()\n",
    "    z = model.encode(x, train_pos_edge_index)\n",
    "    loss = model.recon_loss(z, train_pos_edge_index)\n",
    "    loss = loss + (1 / data.num_nodes) * model.kl_loss()\n",
    "    loss.backward()\n",
    "    optimizer.step()\n",
    "    return float(loss)\n",
    "\n",
    "def test(pos_edge_index, neg_edge_index):\n",
    "    model.eval()\n",
    "    with torch.no_grad():\n",
    "        z = model.encode(x, train_pos_edge_index)\n",
    "    return model.test(z, pos_edge_index, neg_edge_index)\n"
   ]
  },
  {
   "cell_type": "code",
   "execution_count": null,
   "metadata": {},
   "outputs": [],
   "source": [
    "epochs = 500\n",
    "out_channels = 16\n",
    "\n",
    "num_features = dataset.num_features\n",
    "model = torch_geometric.nn.VGAE(\n",
    "    VariationalGCNEncoder(num_features, out_channels)\n",
    "    )\n",
    "model = model.to(device)\n",
    "\n",
    "x = data.x.to(device)\n",
    "train_pos_edge_index = data.train_pos_edge_index.to(device)\n",
    "\n",
    "optimizer = torch.optim.Adam(model.parameters(), lr=0.01)\n"
   ]
  },
  {
   "cell_type": "code",
   "execution_count": null,
   "metadata": {},
   "outputs": [],
   "source": [
    "import copy\n",
    "\n",
    "loss_hist = []\n",
    "auc_hist = []\n",
    "ap_hist = []\n",
    "best_score = None\n",
    "for epoch in range(1, epochs + 1):\n",
    "    loss = train()\n",
    "    auc, ap = test(data.test_pos_edge_index, data.test_neg_edge_index)\n",
    "    loss_hist.append(loss)\n",
    "    auc_hist.append(auc)\n",
    "    ap_hist.append(ap)\n",
    "    if best_score is None or best_score < ap:\n",
    "        best_score = ap\n",
    "        best_model = copy.deepcopy(model)\n",
    "        print('Epoch: {:03d}, AUC: {:.4f}, AP: {:.4f}, Loss: {}'.format(epoch, auc, ap, loss))\n"
   ]
  },
  {
   "cell_type": "code",
   "execution_count": null,
   "metadata": {},
   "outputs": [],
   "source": [
    "import matplotlib.pyplot as plt\n",
    "\n",
    "plt.title(\"VGAE\")\n",
    "plt.plot(loss_hist, label=\"Loss\")\n",
    "plt.grid()\n",
    "plt.legend()\n",
    "plt.yscale('log')\n",
    "plt.show()\n",
    "plt.title(\"VGAE\")\n",
    "plt.plot(auc_hist, label=\"AUC\")\n",
    "plt.plot(ap_hist, label=\"AP\")\n",
    "plt.grid()\n",
    "plt.legend()\n",
    "plt.show()\n"
   ]
  },
  {
   "cell_type": "code",
   "execution_count": null,
   "metadata": {},
   "outputs": [],
   "source": [
    "z = best_model.encode(x, train_pos_edge_index)\n",
    "prob_adj = z @ z.T\n",
    "prob_adj = prob_adj - torch.diagonal(prob_adj)\n",
    "prob_adj\n"
   ]
  },
  {
   "cell_type": "code",
   "execution_count": null,
   "metadata": {},
   "outputs": [],
   "source": [
    "prob_adj_values = prob_adj.detach().cpu().numpy().flatten()\n",
    "prob_adj_values.sort()\n",
    "dataset = use_dataset()\n",
    "threshold = prob_adj_values[-len(dataset.data.edge_attr)]\n",
    "dataset.data.edge_index = (prob_adj >= threshold).nonzero(as_tuple=False).t()\n"
   ]
  },
  {
   "cell_type": "code",
   "execution_count": null,
   "metadata": {},
   "outputs": [],
   "source": [
    "import networkx as nx\n",
    "import matplotlib.pyplot as plt\n",
    "\n",
    "G = torch_geometric.utils.convert.to_networkx(dataset.data)\n",
    "plt.figure(figsize=(12,12))\n",
    "nx.draw_networkx(G, pos=dataset.layout(), with_labels=False, alpha=0.5, node_color=dataset.node_color())\n"
   ]
  },
  {
   "cell_type": "code",
   "execution_count": null,
   "metadata": {},
   "outputs": [],
   "source": []
  }
 ],
 "metadata": {
  "kernelspec": {
   "display_name": "2121057",
   "language": "python",
   "name": "python3"
  },
  "language_info": {
   "codemirror_mode": {
    "name": "ipython",
    "version": 3
   },
   "file_extension": ".py",
   "mimetype": "text/x-python",
   "name": "python",
   "nbconvert_exporter": "python",
   "pygments_lexer": "ipython3",
   "version": "3.12.2"
  }
 },
 "nbformat": 4,
 "nbformat_minor": 2
}
