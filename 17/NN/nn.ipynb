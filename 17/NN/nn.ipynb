{
 "cells": [
  {
   "cell_type": "code",
   "execution_count": 1,
   "metadata": {},
   "outputs": [
    {
     "name": "stdout",
     "output_type": "stream",
     "text": [
      "隣接行列:\n",
      "[[0 0 0 0 0 0 0 0 1 1 0 0]\n",
      " [0 0 0 0 0 0 0 1 1 0 0 0]\n",
      " [0 0 0 0 0 0 1 0 0 0 1 0]\n",
      " [0 0 0 0 0 0 1 0 0 0 1 0]\n",
      " [0 0 0 0 0 0 1 0 0 0 1 0]\n",
      " [0 0 0 0 0 0 1 0 0 0 1 0]\n",
      " [0 0 0 0 0 0 0 0 0 0 0 0]\n",
      " [0 0 0 0 0 0 0 0 0 0 0 0]\n",
      " [0 0 0 0 0 0 0 0 0 0 0 0]\n",
      " [0 0 0 0 0 0 0 0 0 0 0 0]\n",
      " [0 0 0 0 0 0 0 0 0 0 0 0]\n",
      " [0 0 0 0 0 0 0 0 0 0 0 0]]\n"
     ]
    }
   ],
   "source": [
    "import numpy as np\n",
    "\n",
    "# 各列で最大値と2番目に大きい値のインデックス（例）\n",
    "largest_indices = [2, 2, 4, 0, 0, 0]\n",
    "second_largest_indices = [3, 1, 0, 4, 4, 4]\n",
    "\n",
    "# ノード数（例では6入力ノード + 6出力ノード = 12）\n",
    "num_nodes = 6 + 6  # 入力ノード6個、出力ノード6個\n",
    "adjacency_matrix = np.zeros((num_nodes, num_nodes), dtype=int)\n",
    "\n",
    "# 隣接行列を作成\n",
    "for input_node in range(6):  # 入力ノードは0〜5\n",
    "    output_node_1 = largest_indices[input_node] + 6  # 最大値のノード（+6で出力ノードに対応）\n",
    "    output_node_2 = second_largest_indices[input_node] + 6  # 2番目のノード\n",
    "\n",
    "    # 隣接行列にエッジを設定\n",
    "    adjacency_matrix[input_node, output_node_1] = 1\n",
    "    adjacency_matrix[input_node, output_node_2] = 1\n",
    "\n",
    "# 隣接行列を表示\n",
    "print(\"隣接行列:\")\n",
    "print(adjacency_matrix)\n"
   ]
  },
  {
   "cell_type": "code",
   "execution_count": 2,
   "metadata": {},
   "outputs": [
    {
     "name": "stdout",
     "output_type": "stream",
     "text": [
      "src: [0, 0, 1, 1, 2, 2, 3, 3, 4, 4, 5, 5]\n",
      "dst: [8, 9, 8, 7, 10, 6, 6, 10, 6, 10, 6, 10]\n"
     ]
    }
   ],
   "source": [
    "import numpy as np\n",
    "\n",
    "# 出力のインデックス\n",
    "largest_indices = [2, 2, 4, 0, 0, 0]\n",
    "second_largest_indices = [3, 1, 0, 4, 4, 4]\n",
    "\n",
    "# ノード数 (ここでは6つのノード)\n",
    "num_nodes = len(largest_indices)\n",
    "\n",
    "# srcとdstを格納するリスト\n",
    "src = []\n",
    "dst = []\n",
    "\n",
    "# 各ノードに対して接続先を追加\n",
    "for node in range(num_nodes):\n",
    "    # 最大値のインデックスと2番目に大きい値のインデックスを使って接続を作成\n",
    "    src.append(node)\n",
    "    dst.append(largest_indices[node] + num_nodes)  # ノード番号を6足して接続\n",
    "    \n",
    "    src.append(node)\n",
    "    dst.append(second_largest_indices[node] + num_nodes)  # 同様に接続\n",
    "    \n",
    "# 結果を表示\n",
    "print(\"src:\", src)\n",
    "print(\"dst:\", dst)\n"
   ]
  },
  {
   "cell_type": "code",
   "execution_count": null,
   "metadata": {},
   "outputs": [],
   "source": []
  },
  {
   "cell_type": "code",
   "execution_count": 19,
   "metadata": {},
   "outputs": [
    {
     "name": "stdout",
     "output_type": "stream",
     "text": [
      "src: [0, 0]\n",
      "dst: [np.int64(6), np.int64(5)]\n"
     ]
    }
   ],
   "source": [
    "import numpy as np\n",
    "\n",
    "# 出力のインデックス（np.int64型も問題なく処理可能）\n",
    "largest_indices = [np.int64(1), np.int64(1), np.int64(1), np.int64(0), np.int64(0)]\n",
    "second_largest_indices = [np.int64(0), np.int64(0), np.int64(0), np.int64(1), np.int64(1)]\n",
    "\n",
    "# ノード数 (ここでは5つのノード)\n",
    "num_nodes = len(largest_indices)\n",
    "\n",
    "# srcとdstを格納するリスト\n",
    "src = []\n",
    "dst = []\n",
    "\n",
    "# 各ノードに対して接続先を追加\n",
    "node = 0\n",
    "# 最大値のインデックスと2番目に大きい値のインデックスを使って接続を作成\n",
    "src.append(node)\n",
    "dst.append(largest_indices[node] + num_nodes)  # ノード番号を5足して接続\n",
    "\n",
    "src.append(node)\n",
    "dst.append(second_largest_indices[node] + num_nodes)  # 同様に接続\n",
    "    \n",
    "# 結果を表示\n",
    "print(\"src:\", src)\n",
    "print(\"dst:\", dst)\n"
   ]
  },
  {
   "cell_type": "code",
   "execution_count": null,
   "metadata": {},
   "outputs": [],
   "source": []
  },
  {
   "cell_type": "code",
   "execution_count": 4,
   "metadata": {},
   "outputs": [],
   "source": [
    "import numpy as np\n",
    "\n",
    "# 出力のインデックス（np.int64型が含まれている）\n",
    "largest_indices = [np.int64(1), np.int64(1), np.int64(1), np.int64(0), np.int64(0)]\n",
    "second_largest_indices = [np.int64(0), np.int64(0), np.int64(0), np.int64(1), np.int64(1)]\n",
    "\n",
    "# np.int64型をint型に変換\n",
    "largest_indices = [int(i) for i in largest_indices]\n",
    "second_largest_indices = [int(i) for i in second_largest_indices]\n",
    "\n",
    "# ノード数 (ここでは5つのノード)\n",
    "num_nodes = len(largest_indices)\n",
    "\n",
    "# srcとdstを格納するリスト\n",
    "src = []\n",
    "dst = []\n",
    "\n",
    "# 各ノードに対して接続先を追加\n",
    "for node in range(num_nodes):\n",
    "    # 最大値のインデックスと2番目に大きい値のインデックスを使って接続を作成\n",
    "    src.append(node)\n",
    "    dst.append(largest_indices[node] + num_nodes)  # ノード番号を5足して接続\n",
    "    \n",
    "    src.append(node)\n",
    "    dst.append(second_largest_indices[node] + num_nodes)  # 同様に接続\n",
    "    \n",
    "#\n"
   ]
  },
  {
   "cell_type": "code",
   "execution_count": 6,
   "metadata": {},
   "outputs": [
    {
     "name": "stdout",
     "output_type": "stream",
     "text": [
      "src: [0, 0, 1, 1, 2, 2, 3, 3, 4, 4]\n",
      "dst: [7, 6, 7, 6, 7, 6, 6, 7, 6, 7]\n"
     ]
    }
   ],
   "source": [
    "import numpy as np\n",
    "\n",
    "# 出力のインデックス（np.int64型が含まれている）\n",
    "largest_indices = [np.int64(1), np.int64(1), np.int64(1), np.int64(0), np.int64(0)]\n",
    "second_largest_indices = [np.int64(0), np.int64(0), np.int64(0), np.int64(1), np.int64(1)]\n",
    "\n",
    "# np.int64型をint型に変換\n",
    "largest_indices = [int(i) for i in largest_indices]\n",
    "second_largest_indices = [int(i) for i in second_largest_indices]\n",
    "\n",
    "# ノード数 (ここでは5つのノード)\n",
    "num_nodes = len(largest_indices)\n",
    "\n",
    "# srcとdstを格納するリスト\n",
    "src = []\n",
    "dst = []\n",
    "\n",
    "# 各ノードに対して接続先を追加\n",
    "for node in range(num_nodes):\n",
    "    # 最大値のインデックスと2番目に大きい値のインデックスを使って接続を作成\n",
    "    src.append(node)\n",
    "    dst.append(largest_indices[node] + num_nodes+1)  # ノード番号を5足して接続\n",
    "    \n",
    "    src.append(node)\n",
    "    dst.append(second_largest_indices[node] + num_nodes+1)  # 同様に接続\n",
    "    \n",
    "# 結果を表示\n",
    "print(\"src:\", src)\n",
    "print(\"dst:\", dst)\n"
   ]
  },
  {
   "cell_type": "code",
   "execution_count": 9,
   "metadata": {},
   "outputs": [
    {
     "name": "stdout",
     "output_type": "stream",
     "text": [
      "src: [0, 0, 1, 1, 2, 2, 3, 3, 4, 4, 5, 5, 6, 6, 7, 7, 8, 8, 9, 9, 10, 10, 11, 11, 12, 12, 13, 13, 14, 14]\n",
      "dst: [7, 6, 7, 6, 7, 6, 6, 7, 6, 7, np.int64(13), np.int64(9), np.int64(9), np.int64(13), np.int64(12), np.int64(10), np.int64(13), np.int64(9), np.int64(9), np.int64(13), np.int64(10), np.int64(11), np.int64(9), np.int64(13), np.int64(12), np.int64(10), np.int64(9), np.int64(13), np.int64(11), np.int64(12)]\n"
     ]
    }
   ],
   "source": [
    "import numpy as np\n",
    "\n",
    "# 既存のsrcとdst\n",
    "src = [0, 0, 1, 1, 2, 2, 3, 3, 4, 4]\n",
    "dst = [7, 6, 7, 6, 7, 6, 6, 7, 6, 7]\n",
    "\n",
    "# 新しいlargest_indicesとsecond_largest_indices\n",
    "largest_indices = [np.int64(4), np.int64(0), np.int64(3), np.int64(4), np.int64(0),\n",
    "                   np.int64(1), np.int64(0), np.int64(3), np.int64(0), np.int64(2)]\n",
    "second_largest_indices = [np.int64(0), np.int64(4), np.int64(1), np.int64(0), np.int64(4),\n",
    "                          np.int64(2), np.int64(4), np.int64(1), np.int64(4), np.int64(3)]\n",
    "\n",
    "# ノード数\n",
    "num_nodes = len(largest_indices)\n",
    "\n",
    "# 新しいsrcとdstを追加する\n",
    "for node in range(num_nodes):\n",
    "    # 最初の接続: 最大値のインデックス\n",
    "    src.append(node + 5)  # ノード番号を5足して接続\n",
    "    dst.append(largest_indices[node] + 9)  # 最大値に5を足して接続\n",
    "    \n",
    "    # 2番目の接続: 2番目に大きい値のインデックス\n",
    "    src.append(node + 5)  # ノード番号を5足して接続\n",
    "    dst.append(second_largest_indices[node] + 9)  # 2番目に大きい値に5を足して接続\n",
    "\n",
    "# 結果の表示\n",
    "print(\"src:\", src)\n",
    "print(\"dst:\", dst)\n"
   ]
  },
  {
   "cell_type": "code",
   "execution_count": 23,
   "metadata": {},
   "outputs": [
    {
     "name": "stdout",
     "output_type": "stream",
     "text": [
      "7\n",
      "6\n",
      "7\n",
      "6\n",
      "7\n",
      "6\n",
      "6\n",
      "7\n",
      "6\n",
      "7\n",
      "extended_src: [0, 0, 0, 0, 0, 0, 0, 0, 0, 0, 0, 0, 0, 0, 0, 0, 0, 0, 0, 0]\n",
      "extended_dst: [np.int64(12), np.int64(10), np.int64(9), np.int64(13), np.int64(12), np.int64(10), np.int64(9), np.int64(13), np.int64(12), np.int64(10), np.int64(9), np.int64(13), np.int64(9), np.int64(13), np.int64(12), np.int64(10), np.int64(9), np.int64(13), np.int64(12), np.int64(10)]\n",
      "[0, 0, 1, 1, 2, 2, 3, 3, 4, 4, 7, 7, 6, 6, 7, 7, 6, 6, 7, 7, 6, 6, 6, 6, 7, 7, 6, 6, 7, 7]\n",
      "[7, 6, 7, 6, 7, 6, 6, 7, 6, 7, np.int64(12), np.int64(6), np.int64(9), np.int64(9), np.int64(12), np.int64(6), np.int64(9), np.int64(9), np.int64(12), np.int64(6), np.int64(9), np.int64(9), np.int64(9), np.int64(9), np.int64(12), np.int64(6), np.int64(9), np.int64(9), np.int64(12), np.int64(6)]\n"
     ]
    }
   ],
   "source": [
    "import numpy as np\n",
    "\n",
    "# 既存のsrcとdst\n",
    "src = [0, 0, 1, 1, 2, 2, 3, 3, 4, 4]\n",
    "dst = [7, 6, 7, 6, 7, 6, 6, 7, 6, 7]\n",
    "ex_dst = [7, 6, 7, 6, 7, 6, 6, 7, 6, 7]\n",
    "\n",
    "# 新しいlargest_indicesとsecond_largest_indices\n",
    "largest_indices = [np.int64(4), np.int64(0), np.int64(3), np.int64(4), np.int64(0),\n",
    "                   np.int64(1), np.int64(0), np.int64(3), np.int64(0), np.int64(2)]\n",
    "second_largest_indices = [np.int64(0), np.int64(4), np.int64(1), np.int64(0), np.int64(4),\n",
    "                          np.int64(2), np.int64(4), np.int64(1), np.int64(4), np.int64(3)]\n",
    "# ここから src を変更: dstの各要素に対応するsrcを2回ずつ追加する\n",
    "extended_src = []\n",
    "extended_dst = []\n",
    "\n",
    "for d in ex_dst:\n",
    "    extended_src.append(src[dst.index(d)])\n",
    "    extended_src.append(src[dst.index(d)])  # 同じsrcを2回追加\n",
    "    src.append(d)\n",
    "    src.append(d)  # 同じdstを2回追加\n",
    "        # 最初の接続: 最大値のインデックス\n",
    "    # src.append(node + 5)  # ノード番号を5足して接続\n",
    "\n",
    "    print(d)\n",
    "    dst.append(largest_indices[d] + 9)  # 最大値に5を足して接続\n",
    "    \n",
    "    # 2番目の接続: 2番目に大きい値のインデックス\n",
    "    # src.append(node + 5)  # ノード番号を5足して接続\n",
    "    dst.append(second_largest_indices[d] + 5)  # 2番目に大きい値に5を足して接続\n",
    "    extended_dst.append(largest_indices[d] + 9)\n",
    "    extended_dst.append(second_largest_indices[d] + 9)\n",
    "# 結果の表示\n",
    "print(\"extended_src:\", extended_src)\n",
    "print(\"extended_dst:\", extended_dst)\n",
    "# ノード数\n",
    "num_nodes = len(largest_indices)\n",
    "\n",
    "\n",
    "\n",
    "print(src)\n",
    "print(dst)\n",
    "edge_index=torch.tensor([src,dst],dtype=torch.long)\n"
   ]
  },
  {
   "cell_type": "code",
   "execution_count": 21,
   "metadata": {},
   "outputs": [
    {
     "name": "stderr",
     "output_type": "stream",
     "text": [
      "ic| vector: [1, 0, 0, 0, 0, 0]\n",
      "ic| vector: [0, 1, 0, 0, 0, 0]\n",
      "ic| vector: [0, 0, 1, 0, 0, 0]\n",
      "ic| vector: [0, 0, 0, 1, 0, 0]\n",
      "ic| vector: [0, 0, 0, 0, 1, 0]\n",
      "ic| vector: [0, 0, 0, 0, 0, 1]\n",
      "ic| unit_vectors: [[1, 0, 0, 0, 0, 0],\n",
      "                   [0, 1, 0, 0, 0, 0],\n",
      "                   [0, 0, 1, 0, 0, 0],\n",
      "                   [0, 0, 0, 1, 0, 0],\n",
      "                   [0, 0, 0, 0, 1, 0],\n",
      "                   [0, 0, 0, 0, 0, 1]]\n"
     ]
    }
   ],
   "source": [
    "import torch\n",
    "from icecream import ic\n",
    "dim =6\n",
    "unit_vectors = [[1 if i == j else 0 for i in range(dim)] for j in range(dim)]\n",
    "for vector in unit_vectors:\n",
    "    ic(vector)\n",
    "ic(unit_vectors)\n",
    "x = torch.tensor(unit_vectors,dtype=torch.float)"
   ]
  },
  {
   "cell_type": "code",
   "execution_count": null,
   "metadata": {},
   "outputs": [
    {
     "data": {
      "image/png": "[encoded data removed]",
      "text/plain": [
       "<Figure size 800x600 with 1 Axes>"
      ]
     },
     "metadata": {},
     "output_type": "display_data"
    }
   ],
   "source": [
    "import networkx as nx\n",
    "import matplotlib.pyplot as plt\n",
    "\n",
    "# ノードとエッジの情報（例）\n",
    "nodes = list(range(31))  # 例：ノード番号\n",
    "edges = edge_index  # エッジ情報（ノード間の接続）\n",
    "\n",
    "# NetworkXグラフの作成\n",
    "G = nx.Graph()\n",
    "\n",
    "# エッジ情報があるノードのみを追加\n",
    "G.add_edges_from(edges)  # エッジを追加することで、エッジがあるノードが自動的に追加される\n",
    "\n",
    "# ノードが少なくとも1つのエッジを持つ場合のみ描画\n",
    "if len(G.nodes) > 1:\n",
    "    plt.figure(figsize=(8, 6))  # 描画サイズ\n",
    "    pos = nx.spring_layout(G)  # ノードの配置（レイアウト）\n",
    "    nx.draw(G, pos, with_labels=True, node_size=700, node_color='skyblue', font_size=12, font_weight='bold', edge_color='gray')\n",
    "    \n",
    "    # 描画\n",
    "    plt.title(\"Graph Visualization (Only Nodes with Edges)\")\n",
    "    plt.show()\n",
    "else:\n",
    "    print(\"エッジがないか、接続が不足しています。グラフを描画できません。\")\n"
   ]
  },
  {
   "cell_type": "code",
   "execution_count": null,
   "metadata": {},
   "outputs": [],
   "source": []
  }
 ],
 "metadata": {
  "kernelspec": {
   "display_name": "2121057",
   "language": "python",
   "name": "python3"
  },
  "language_info": {
   "codemirror_mode": {
    "name": "ipython",
    "version": 3
   },
   "file_extension": ".py",
   "mimetype": "text/x-python",
   "name": "python",
   "nbconvert_exporter": "python",
   "pygments_lexer": "ipython3",
   "version": "3.12.2"
  }
 },
 "nbformat": 4,
 "nbformat_minor": 2
}
