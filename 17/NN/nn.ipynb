{
 "cells": [
  {
   "cell_type": "code",
   "execution_count": 1,
   "metadata": {},
   "outputs": [
    {
     "name": "stdout",
     "output_type": "stream",
     "text": [
      "隣接行列:\n",
      "[[0 0 0 0 0 0 0 0 1 1 0 0]\n",
      " [0 0 0 0 0 0 0 1 1 0 0 0]\n",
      " [0 0 0 0 0 0 1 0 0 0 1 0]\n",
      " [0 0 0 0 0 0 1 0 0 0 1 0]\n",
      " [0 0 0 0 0 0 1 0 0 0 1 0]\n",
      " [0 0 0 0 0 0 1 0 0 0 1 0]\n",
      " [0 0 0 0 0 0 0 0 0 0 0 0]\n",
      " [0 0 0 0 0 0 0 0 0 0 0 0]\n",
      " [0 0 0 0 0 0 0 0 0 0 0 0]\n",
      " [0 0 0 0 0 0 0 0 0 0 0 0]\n",
      " [0 0 0 0 0 0 0 0 0 0 0 0]\n",
      " [0 0 0 0 0 0 0 0 0 0 0 0]]\n"
     ]
    }
   ],
   "source": [
    "import numpy as np\n",
    "\n",
    "# 各列で最大値と2番目に大きい値のインデックス（例）\n",
    "largest_indices = [2, 2, 4, 0, 0, 0]\n",
    "second_largest_indices = [3, 1, 0, 4, 4, 4]\n",
    "\n",
    "# ノード数（例では6入力ノード + 6出力ノード = 12）\n",
    "num_nodes = 6 + 6  # 入力ノード6個、出力ノード6個\n",
    "adjacency_matrix = np.zeros((num_nodes, num_nodes), dtype=int)\n",
    "\n",
    "# 隣接行列を作成\n",
    "for input_node in range(6):  # 入力ノードは0〜5\n",
    "    output_node_1 = largest_indices[input_node] + 6  # 最大値のノード（+6で出力ノードに対応）\n",
    "    output_node_2 = second_largest_indices[input_node] + 6  # 2番目のノード\n",
    "\n",
    "    # 隣接行列にエッジを設定\n",
    "    adjacency_matrix[input_node, output_node_1] = 1\n",
    "    adjacency_matrix[input_node, output_node_2] = 1\n",
    "\n",
    "# 隣接行列を表示\n",
    "print(\"隣接行列:\")\n",
    "print(adjacency_matrix)\n"
   ]
  },
  {
   "cell_type": "code",
   "execution_count": 2,
   "metadata": {},
   "outputs": [
    {
     "name": "stdout",
     "output_type": "stream",
     "text": [
      "src: [0, 0, 1, 1, 2, 2, 3, 3, 4, 4, 5, 5]\n",
      "dst: [8, 9, 8, 7, 10, 6, 6, 10, 6, 10, 6, 10]\n"
     ]
    }
   ],
   "source": [
    "import numpy as np\n",
    "\n",
    "# 出力のインデックス\n",
    "largest_indices = [2, 2, 4, 0, 0, 0]\n",
    "second_largest_indices = [3, 1, 0, 4, 4, 4]\n",
    "\n",
    "# ノード数 (ここでは6つのノード)\n",
    "num_nodes = len(largest_indices)\n",
    "\n",
    "# srcとdstを格納するリスト\n",
    "src = []\n",
    "dst = []\n",
    "\n",
    "# 各ノードに対して接続先を追加\n",
    "for node in range(num_nodes):\n",
    "    # 最大値のインデックスと2番目に大きい値のインデックスを使って接続を作成\n",
    "    src.append(node)\n",
    "    dst.append(largest_indices[node] + num_nodes)  # ノード番号を6足して接続\n",
    "    \n",
    "    src.append(node)\n",
    "    dst.append(second_largest_indices[node] + num_nodes)  # 同様に接続\n",
    "    \n",
    "# 結果を表示\n",
    "print(\"src:\", src)\n",
    "print(\"dst:\", dst)\n"
   ]
  },
  {
   "cell_type": "code",
   "execution_count": null,
   "metadata": {},
   "outputs": [],
   "source": []
  },
  {
   "cell_type": "code",
   "execution_count": 3,
   "metadata": {},
   "outputs": [
    {
     "name": "stdout",
     "output_type": "stream",
     "text": [
      "src: [0, 0, 1, 1, 2, 2, 3, 3, 4, 4]\n",
      "dst: [np.int64(6), np.int64(5), np.int64(6), np.int64(5), np.int64(6), np.int64(5), np.int64(5), np.int64(6), np.int64(5), np.int64(6)]\n"
     ]
    }
   ],
   "source": [
    "import numpy as np\n",
    "\n",
    "# 出力のインデックス（np.int64型も問題なく処理可能）\n",
    "largest_indices = [np.int64(1), np.int64(1), np.int64(1), np.int64(0), np.int64(0)]\n",
    "second_largest_indices = [np.int64(0), np.int64(0), np.int64(0), np.int64(1), np.int64(1)]\n",
    "\n",
    "# ノード数 (ここでは5つのノード)\n",
    "num_nodes = len(largest_indices)\n",
    "\n",
    "# srcとdstを格納するリスト\n",
    "src = []\n",
    "dst = []\n",
    "\n",
    "# 各ノードに対して接続先を追加\n",
    "for node in range(num_nodes):\n",
    "    # 最大値のインデックスと2番目に大きい値のインデックスを使って接続を作成\n",
    "    src.append(node)\n",
    "    dst.append(largest_indices[node] + num_nodes)  # ノード番号を5足して接続\n",
    "    \n",
    "    src.append(node)\n",
    "    dst.append(second_largest_indices[node] + num_nodes)  # 同様に接続\n",
    "    \n",
    "# 結果を表示\n",
    "print(\"src:\", src)\n",
    "print(\"dst:\", dst)\n"
   ]
  },
  {
   "cell_type": "code",
   "execution_count": null,
   "metadata": {},
   "outputs": [],
   "source": []
  },
  {
   "cell_type": "code",
   "execution_count": 4,
   "metadata": {},
   "outputs": [],
   "source": [
    "import numpy as np\n",
    "\n",
    "# 出力のインデックス（np.int64型が含まれている）\n",
    "largest_indices = [np.int64(1), np.int64(1), np.int64(1), np.int64(0), np.int64(0)]\n",
    "second_largest_indices = [np.int64(0), np.int64(0), np.int64(0), np.int64(1), np.int64(1)]\n",
    "\n",
    "# np.int64型をint型に変換\n",
    "largest_indices = [int(i) for i in largest_indices]\n",
    "second_largest_indices = [int(i) for i in second_largest_indices]\n",
    "\n",
    "# ノード数 (ここでは5つのノード)\n",
    "num_nodes = len(largest_indices)\n",
    "\n",
    "# srcとdstを格納するリスト\n",
    "src = []\n",
    "dst = []\n",
    "\n",
    "# 各ノードに対して接続先を追加\n",
    "for node in range(num_nodes):\n",
    "    # 最大値のインデックスと2番目に大きい値のインデックスを使って接続を作成\n",
    "    src.append(node)\n",
    "    dst.append(largest_indices[node] + num_nodes)  # ノード番号を5足して接続\n",
    "    \n",
    "    src.append(node)\n",
    "    dst.append(second_largest_indices[node] + num_nodes)  # 同様に接続\n",
    "    \n",
    "#\n"
   ]
  },
  {
   "cell_type": "code",
   "execution_count": 6,
   "metadata": {},
   "outputs": [
    {
     "name": "stdout",
     "output_type": "stream",
     "text": [
      "src: [0, 0, 1, 1, 2, 2, 3, 3, 4, 4]\n",
      "dst: [7, 6, 7, 6, 7, 6, 6, 7, 6, 7]\n"
     ]
    }
   ],
   "source": [
    "import numpy as np\n",
    "\n",
    "# 出力のインデックス（np.int64型が含まれている）\n",
    "largest_indices = [np.int64(1), np.int64(1), np.int64(1), np.int64(0), np.int64(0)]\n",
    "second_largest_indices = [np.int64(0), np.int64(0), np.int64(0), np.int64(1), np.int64(1)]\n",
    "\n",
    "# np.int64型をint型に変換\n",
    "largest_indices = [int(i) for i in largest_indices]\n",
    "second_largest_indices = [int(i) for i in second_largest_indices]\n",
    "\n",
    "# ノード数 (ここでは5つのノード)\n",
    "num_nodes = len(largest_indices)\n",
    "\n",
    "# srcとdstを格納するリスト\n",
    "src = []\n",
    "dst = []\n",
    "\n",
    "# 各ノードに対して接続先を追加\n",
    "for node in range(num_nodes):\n",
    "    # 最大値のインデックスと2番目に大きい値のインデックスを使って接続を作成\n",
    "    src.append(node)\n",
    "    dst.append(largest_indices[node] + num_nodes+1)  # ノード番号を5足して接続\n",
    "    \n",
    "    src.append(node)\n",
    "    dst.append(second_largest_indices[node] + num_nodes+1)  # 同様に接続\n",
    "    \n",
    "# 結果を表示\n",
    "print(\"src:\", src)\n",
    "print(\"dst:\", dst)\n"
   ]
  },
  {
   "cell_type": "code",
   "execution_count": 9,
   "metadata": {},
   "outputs": [
    {
     "name": "stdout",
     "output_type": "stream",
     "text": [
      "src: [0, 0, 1, 1, 2, 2, 3, 3, 4, 4, 5, 5, 6, 6, 7, 7, 8, 8, 9, 9, 10, 10, 11, 11, 12, 12, 13, 13, 14, 14]\n",
      "dst: [7, 6, 7, 6, 7, 6, 6, 7, 6, 7, np.int64(13), np.int64(9), np.int64(9), np.int64(13), np.int64(12), np.int64(10), np.int64(13), np.int64(9), np.int64(9), np.int64(13), np.int64(10), np.int64(11), np.int64(9), np.int64(13), np.int64(12), np.int64(10), np.int64(9), np.int64(13), np.int64(11), np.int64(12)]\n"
     ]
    }
   ],
   "source": [
    "import numpy as np\n",
    "\n",
    "# 既存のsrcとdst\n",
    "src = [0, 0, 1, 1, 2, 2, 3, 3, 4, 4]\n",
    "dst = [7, 6, 7, 6, 7, 6, 6, 7, 6, 7]\n",
    "\n",
    "# 新しいlargest_indicesとsecond_largest_indices\n",
    "largest_indices = [np.int64(4), np.int64(0), np.int64(3), np.int64(4), np.int64(0),\n",
    "                   np.int64(1), np.int64(0), np.int64(3), np.int64(0), np.int64(2)]\n",
    "second_largest_indices = [np.int64(0), np.int64(4), np.int64(1), np.int64(0), np.int64(4),\n",
    "                          np.int64(2), np.int64(4), np.int64(1), np.int64(4), np.int64(3)]\n",
    "\n",
    "# ノード数\n",
    "num_nodes = len(largest_indices)\n",
    "\n",
    "# 新しいsrcとdstを追加する\n",
    "for node in range(num_nodes):\n",
    "    # 最初の接続: 最大値のインデックス\n",
    "    src.append(node + 5)  # ノード番号を5足して接続\n",
    "    dst.append(largest_indices[node] + 9)  # 最大値に5を足して接続\n",
    "    \n",
    "    # 2番目の接続: 2番目に大きい値のインデックス\n",
    "    src.append(node + 5)  # ノード番号を5足して接続\n",
    "    dst.append(second_largest_indices[node] + 9)  # 2番目に大きい値に5を足して接続\n",
    "\n",
    "# 結果の表示\n",
    "print(\"src:\", src)\n",
    "print(\"dst:\", dst)\n"
   ]
  },
  {
   "cell_type": "code",
   "execution_count": null,
   "metadata": {},
   "outputs": [
    {
     "name": "stdout",
     "output_type": "stream",
     "text": [
      "extended_src: [0, 0, 0, 0, 0, 0, 0, 0, 0, 0, 0, 0, 0, 0, 0, 0, 0, 0, 0, 0]\n",
      "extended_dst: []\n",
      "[0, 0, 1, 1, 2, 2, 3, 3, 4, 4, 7, 7, 6, 6, 7, 7, 6, 6, 7, 7, 6, 6, 6, 6, 7, 7, 6, 6, 7, 7]\n",
      "[7, 6, 7, 6, 7, 6, 6, 7, 6, 7, np.int64(9), np.int64(5), np.int64(5), np.int64(9), np.int64(8), np.int64(6), np.int64(9), np.int64(5), np.int64(5), np.int64(9), np.int64(6), np.int64(7), np.int64(5), np.int64(9), np.int64(8), np.int64(6), np.int64(5), np.int64(9), np.int64(7), np.int64(8)]\n"
     ]
    }
   ],
   "source": [
    "import numpy as np\n",
    "\n",
    "# 既存のsrcとdst\n",
    "src = [0, 0, 1, 1, 2, 2, 3, 3, 4, 4]\n",
    "dst = [7, 6, 7, 6, 7, 6, 6, 7, 6, 7]\n",
    "\n",
    "# 新しいlargest_indicesとsecond_largest_indices\n",
    "largest_indices = [np.int64(4), np.int64(0), np.int64(3), np.int64(4), np.int64(0),\n",
    "                   np.int64(1), np.int64(0), np.int64(3), np.int64(0), np.int64(2)]\n",
    "second_largest_indices = [np.int64(0), np.int64(4), np.int64(1), np.int64(0), np.int64(4),\n",
    "                          np.int64(2), np.int64(4), np.int64(1), np.int64(4), np.int64(3)]\n",
    "# ここから src を変更: dstの各要素に対応するsrcを2回ずつ追加する\n",
    "extended_src = []\n",
    "extended_dst = []\n",
    "\n",
    "for d in dst:\n",
    "    extended_src.append(src[dst.index(d)])\n",
    "    extended_src.append(src[dst.index(d)])  # 同じsrcを2回追加\n",
    "    src.append(d)\n",
    "    src.append(d)  # 同じdstを2回追加\n",
    "        # 最初の接続: 最大値のインデックス\n",
    "    # src.append(node + 5)  # ノード番号を5足して接続\n",
    "    dst.append(largest_indices[d] + 9)  # 最大値に5を足して接続\n",
    "    \n",
    "    # 2番目の接続: 2番目に大きい値のインデックス\n",
    "    # src.append(node + 5)  # ノード番号を5足して接続\n",
    "    dst.append(second_largest_indices[d] + 5)  # 2番目に大きい値に5を足して接続\n",
    "    extended_dst.append(largest_indices[d] + 9)\n",
    "    extended_dst.append(second_largest_indices[d] + 9)\n",
    "# 結果の表示\n",
    "print(\"extended_src:\", extended_src)\n",
    "print(\"extended_dst:\", extended_dst)\n",
    "# ノード数\n",
    "num_nodes = len(largest_indices)\n",
    "\n",
    "\n",
    "\n",
    "print(src)\n",
    "print(dst)\n",
    "\n"
   ]
  },
  {
   "cell_type": "code",
   "execution_count": null,
   "metadata": {},
   "outputs": [],
   "source": []
  }
 ],
 "metadata": {
  "kernelspec": {
   "display_name": "2121057",
   "language": "python",
   "name": "python3"
  },
  "language_info": {
   "codemirror_mode": {
    "name": "ipython",
    "version": 3
   },
   "file_extension": ".py",
   "mimetype": "text/x-python",
   "name": "python",
   "nbconvert_exporter": "python",
   "pygments_lexer": "ipython3",
   "version": "3.12.2"
  }
 },
 "nbformat": 4,
 "nbformat_minor": 2
}
