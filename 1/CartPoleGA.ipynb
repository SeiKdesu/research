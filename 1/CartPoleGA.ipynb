{
  "cells": [
    {
      "cell_type": "code",
      "execution_count": null,
      "metadata": {
        "colab": {
          "base_uri": "https://localhost:8080/"
        },
        "id": "NAhaIldxYSCC",
        "outputId": "c6dd1667-1a2a-4047-c132-3328b020e5c8"
      },
      "outputs": [
        {
          "name": "stdout",
          "output_type": "stream",
          "text": [
            "Pytorch will use device cpu\n",
            "4 2\n"
          ]
        },
        {
          "name": "stderr",
          "output_type": "stream",
          "text": [
            "/usr/local/lib/python3.10/dist-packages/gym/envs/registration.py:593: UserWarning: \u001b[33mWARN: The environment CartPole-v0 is out of date. You should consider upgrading to version `v1`.\u001b[0m\n",
            "  logger.warn(\n",
            "/usr/local/lib/python3.10/dist-packages/gym/core.py:317: DeprecationWarning: \u001b[33mWARN: Initializing wrapper in old step API which returns one bool instead of two. It is recommended to set `new_step_api=True` to use new step API. This will be the default behaviour in future.\u001b[0m\n",
            "  deprecation(\n",
            "/usr/local/lib/python3.10/dist-packages/gym/wrappers/step_api_compatibility.py:39: DeprecationWarning: \u001b[33mWARN: Initializing environment in old step API which returns one bool instead of two. It is recommended to set `new_step_api=True` to use new step API. This will be the default behaviour in future.\u001b[0m\n",
            "  deprecation(\n"
          ]
        }
      ],
      "source": [
        "import gym\n",
        "\n",
        "import numpy as np\n",
        "\n",
        "import random\n",
        "\n",
        "import torch #pytrochのimport\n",
        "import torch.nn as nn #pytrochのライブラリの基本的なニューラルネットワーク\n",
        "\n",
        "from tqdm import tqdm #進捗状況や処理状況を可視化するもの。\n",
        "\n",
        "import typing\n",
        "from typing import List\n",
        "\n",
        "Parameters = List[torch.nn.parameter.Parameter] #neural networkのパラメータを格納しておく\n",
        "\n",
        "if torch.cuda.is_available():#gpuが使えるかどうかを確認する\n",
        "    device = \"cuda:0\"\n",
        "else:\n",
        "    device = \"cpu\"\n",
        "\n",
        "print(f\"Pytorch will use device {device}\")#デバイス名を出力\n",
        "\n",
        "# turn off gradients as we will not be needing them\n",
        "torch.set_grad_enabled(False) #自動微分を無効にする。推論のコードは自分で記述する。\n",
        "\n",
        "env = gym.make('CartPole-v0') #opengymの中でも今回使うゲームはカートポールで行う。\n",
        "obs = env.reset() #環境をすべてリセットする。\n",
        "\n",
        "in_dim = len(obs) #入力の次元数をin_dimに格納する。\n",
        "out_dim = env.action_space.n #環境からうける可能な行動数。（出力は右と左の2つになる）\n",
        "\n",
        "print(in_dim, out_dim) #入力と出力の値を計算する"
      ]
    },
    {
      "cell_type": "code",
      "execution_count": null,
      "metadata": {
        "colab": {
          "base_uri": "https://localhost:8080/"
        },
        "id": "Cmct5JEoYSCF",
        "outputId": "f2f0323c-2b53-4cc9-9aaf-1c4f4db1f6d5"
      },
      "outputs": [
        {
          "name": "stderr",
          "output_type": "stream",
          "text": [
            "/usr/local/lib/python3.10/dist-packages/ipykernel/ipkernel.py:283: DeprecationWarning: `should_run_async` will not call `transform_cell` automatically in the future. Please pass the result to `transformed_cell` argument and any exception that happen during thetransform in `preprocessing_exc_tuple` in IPython 7.17 and above.\n",
            "  and should_run_async(code)\n"
          ]
        }
      ],
      "source": [
        "def get_params(net: torch.nn.Sequential) -> Parameters: #変数netがpytrochのsequetial型であることを示している。\n",
        "    '''\n",
        "    Gets the parameters from a PyTorch model stored as an nn.Sequential #Sequentialに格納されているパラメータをℓ・\n",
        "\n",
        "    @params\n",
        "        network (nn.Sequential): A pytorch model #引数はpytrochのモデルであり、\n",
        "    @returns\n",
        "        Parameters: the parameters of the model #戻り値はモデルのパラメータ\n",
        "    '''\n",
        "    params = [] #パラメータを格納する配列を用意する。\n",
        "    for layer in net: #net(Sequential分だけ繰り返す)\n",
        "        if hasattr(layer, 'weight') and layer.weight != None: #hasattr関数は指定されたオブジェクトが属性を持っているか調べることで、layerというオブジェクトにweightというメソッドがあるかを調べる\n",
        "            params.append(layer.weight)#layerの重みをparamsにappendする\n",
        "        if hasattr(layer, 'bias') and layer.bias != None:#hasattr関数でバイアスがあるか調べ、バイアスをparamsにappendする\n",
        "            params.append(layer.bias)\n",
        "    return params  #pytroch.nnの重みとバイアスが含まれた配列paramsが戻り値\n",
        "\n",
        "\n",
        "def set_params(net: torch.nn.Sequential, params: Parameters) -> torch.nn.Sequential:\n",
        "    '''\n",
        "    Sets the parameters for an nn.Sequential　パラメータをモデルにセットする\n",
        "\n",
        "    @params\n",
        "        network (torch.nn.Sequential): A network to change the parameters of #パラメータが変わったpytrochのネットワーク\n",
        "        params (Parameters): Parameters to place into the model   モデルに埋め込むパラメータの配列\n",
        "    @returns\n",
        "        torch.nn.Sequential: A model the the provided parameters パラメータを埋め込んでネットワークを返す\n",
        "    '''\n",
        "    i = 0 #iを0から始める\n",
        "    for layerid, layer in enumerate(net): #layeridにはインデックスが付与され、layerにはnetのリストが代入され、ループされる\n",
        "        if hasattr(layer, 'weight') and layer.weight != None: #layerに重みがあれば、paramsのi番目とnetのlayerid番目に代入\n",
        "            net[layerid].weight = params[i]\n",
        "            i += 1 #代入したら、インデックスを上げる。\n",
        "        if hasattr(layer, 'bias') and layer.bias != None:\n",
        "            net[layerid].bias = params[i] #baisも同じように行う。\n",
        "            i += 1\n",
        "    return net #パラメータを埋め込んだネットワークを返す\n",
        "\n",
        "def fitness(solution: Parameters, net: torch.nn.Sequential, render=False) -> float:\n",
        "    '''\n",
        "    Evaluate a solution, a set of weights and biases for the network　改善した（solution)の評価するネットワークの重みとバイアスを\n",
        "\n",
        "    @params\n",
        "        solution (Parameters): parameters to test the fitness of　テストデータによる適応度を算出したもの。\n",
        "        net (torch.nn.Sequential): A network for testing the parameters with\n",
        "        render (bool): whether or not to draw the agent interacting with the environment as it trains\n",
        "    @returns\n",
        "        float: The fitness of the solution　適応度が戻り値\n",
        "    '''\n",
        "    net = set_params(net, solution) #ネットワークと改善したparamesが引数になり、新たなnetworkを設定する。\n",
        "\n",
        "    ob = env.reset() #環境をすべてリセットする\n",
        "\n",
        "    done = False\n",
        "    sum_reward = 0 #報酬の合計を格納する変数\n",
        "    while not done: #while Trueのようなもの。\n",
        "        ob = torch.tensor(ob).float().unsqueeze(0).to(device)#pytrochの用意している型のことであり、イメージnumpyぽもの？obの観測データをpytrochの配列として、float型で行う。データはunsqueezeでtensorの次元を1次元増やす\n",
        "        q_vals = net(ob) #tensorで配列の形状を整えた入力をnetに入れ、pytrochのnnのSequentialの結果が戻り値となる\n",
        "\n",
        "        act = torch.argmax(q_vals.cpu()).item() #netに入れたもののうちq_valueが最も高い部分を行動として選択。\n",
        "\n",
        "        ob_next, reward, done, info = env.step(act) #選択された行動から次の観測値を割り出す。\n",
        "        ob = ob_next #得られた観測値を今の状態とする。\n",
        "\n",
        "        sum_reward += reward #報酬を加算する。\n",
        "        if render: #もし動きを描画するようだったらここで描画する\n",
        "            env.render()\n",
        "    return sum_reward #合計の報酬が戻り値となる。\n",
        "\n",
        "def select(pop: List[Parameters], fitnesses: np.ndarray) -> List[Parameters]:  #新たな個体を選択する関数\n",
        "    '''\n",
        "    Select a new population\n",
        "\n",
        "    @params\n",
        "        pop (List[Parameters]): The entire population of parameters　固体全体のパラメータ\n",
        "        fitnesses (np.ndarray): the fitnesses for each entity in the population #全体の適応度を算出\n",
        "    @returns\n",
        "        List[Parameters]: A new population made of fitter individuals 新たな適切な個体を作る。\n",
        "    '''\n",
        "    idx = np.random.choice(np.arange(POP_SIZE), size=POP_SIZE, replace=True, p=fitnesses/fitnesses.sum()) #np.random.chice(配列から乱数を生成,出力の配列を指定,値の重複を許すかどうか,引数0番目のPOP_SIZEの確率分布)戻り値は乱数の配列のインデックス\n",
        "    return [pop[i] for i in idx] #\n",
        "\n",
        "def crossover(parent1: Parameters, pop: List[Parameters]) -> Parameters:\n",
        "    '''\n",
        "    Crossover two individuals and produce a child.交叉をさせ新たな子を生成する\n",
        "\n",
        "    This is done by randomly splitting the weights and biases at each layer for the parents and then\n",
        "    combining them to produce a child　ランダムに重みとバイアスをそれぞれのレイヤーで分け、子を生成するときに合わせる\n",
        "\n",
        "    @params\n",
        "        parent1 (Parameters): A parent that may potentially be crossed over　交叉を行う親の個体\n",
        "        pop (List[Parameters]): The population of solutions　　　　　　　　　解候補のポピュレーション（親個体を含む）\n",
        "    @returns\n",
        "        Parameters: A child with attributes of both parents or the original parent1　交叉された子個体。\n",
        "    '''\n",
        "    if np.random.rand() < CROSS_RATE:  #ランダムな確率に基づいて交叉を行う。\n",
        "        i = np.random.randint(0, POP_SIZE, size=1)[0] #np.random.randint(最小値,最大値,出力される配列のshape)のうち０番目を見付ける\n",
        "        parent2 = pop[i]                              #ランダムに選択されたインデックスを第二のおやとする。\n",
        "        child = [] #子を格納する場所を用意しておき\n",
        "        split = np.random.rand()  #0から1までの一様分布を１つ生成する。\n",
        "\n",
        "        for p1l, p2l in zip(parent1, parent2):  #複数のリストの要素を同時に取得する。親１と親２のリストを同時に取得する。\n",
        "            splitpoint = int(len(p1l)*split)    #親１の数×splitをする戻り値をintで表す。\n",
        "            new_param = nn.parameter.Parameter(torch.cat([p1l[:splitpoint], p2l[splitpoint:]])) #splitointのインデックスまでを親１とし、splitpoint以降を親2とする。torchcatは配列を結合しnnの新たなパラメータする\n",
        "            child.append(new_param) #新たなパラメータとして子どもに結合すｒ\n",
        "\n",
        "        return child #子どもを戻り値とする。\n",
        "    else:\n",
        "        return parent1 #ランダムな確率に入らなければそのまま親を戻り値とする\n",
        "\n",
        "\n",
        "def gen_mutate(shape: torch.Size) -> torch.tensor:\n",
        "    '''\n",
        "    Generate a tensor to use for random mutation of a parameter　ランダムな確率に基づいて突然変異させる\n",
        "\n",
        "    @params\n",
        "        shape (torch.Size): The shape of the tensor to be created　入力はtensorのshapeのサイズ\n",
        "    @returns\n",
        "        torch.tensor: a random tensor　ランダムなtensorを戻り値とする\n",
        "    '''\n",
        "    return nn.Dropout(MUTATION_RATE)(torch.ones(shape)-0.5) * torch.randn(shape).to(device)*MUTATION_FACTOR #torch.randnは平均0分散1の正規分布から乱数が生成される。そこにグローバル変数MUTATION_FACTORを掛ける。\n",
        "    #確率MUTATION_RATEの確率でtensorの一部分が0になる。\n",
        "def mutate(child: Parameters) -> Parameters:\n",
        "    '''\n",
        "    Mutate a child　子の突然変異させる\n",
        "\n",
        "    @params\n",
        "        child (Parameters): The original parameters　子のパラメータ\n",
        "    @returns\n",
        "        Parameters: The mutated child　突然変異させた子\n",
        "    '''\n",
        "    for i in range(len(child)):\n",
        "        for j in range(len(child[i])):\n",
        "            child[i][j] += gen_mutate(child[i][j].shape)\n",
        "\n",
        "    return child #突然変異させた子を返す"
      ]
    },
    {
      "cell_type": "code",
      "execution_count": null,
      "metadata": {
        "colab": {
          "base_uri": "https://localhost:8080/"
        },
        "id": "zhYI3GLZYSCG",
        "outputId": "a5b1c251-4d9f-446f-bca7-d4250fcbc929"
      },
      "outputs": [
        {
          "name": "stderr",
          "output_type": "stream",
          "text": [
            "/usr/local/lib/python3.10/dist-packages/gym/utils/passive_env_checker.py:241: DeprecationWarning: `np.bool8` is a deprecated alias for `np.bool_`.  (Deprecated NumPy 1.24)\n",
            "  if not isinstance(terminated, (bool, np.bool8)):\n"
          ]
        },
        {
          "name": "stdout",
          "output_type": "stream",
          "text": [
            "Generation 0: Average Fitness is 20.9 | Max Fitness is 117.0\n",
            "Generation 1: Average Fitness is 26.86 | Max Fitness is 145.0\n",
            "Generation 2: Average Fitness is 42.15 | Max Fitness is 200.0\n",
            "Generation 3: Average Fitness is 49.46 | Max Fitness is 200.0\n",
            "Generation 4: Average Fitness is 59.18 | Max Fitness is 200.0\n",
            "Generation 5: Average Fitness is 77.33 | Max Fitness is 200.0\n",
            "Generation 6: Average Fitness is 67.27 | Max Fitness is 200.0\n",
            "Generation 7: Average Fitness is 79.13 | Max Fitness is 200.0\n",
            "Generation 8: Average Fitness is 80.65 | Max Fitness is 200.0\n",
            "Generation 9: Average Fitness is 90.98 | Max Fitness is 200.0\n",
            "Generation 10: Average Fitness is 102.16 | Max Fitness is 200.0\n",
            "Generation 11: Average Fitness is 100.74 | Max Fitness is 200.0\n",
            "Generation 12: Average Fitness is 116.11 | Max Fitness is 200.0\n",
            "Generation 13: Average Fitness is 122.88 | Max Fitness is 200.0\n",
            "Generation 14: Average Fitness is 117.98 | Max Fitness is 200.0\n",
            "Generation 15: Average Fitness is 138.58 | Max Fitness is 200.0\n",
            "Generation 16: Average Fitness is 137.96 | Max Fitness is 200.0\n",
            "Generation 17: Average Fitness is 139.06 | Max Fitness is 200.0\n",
            "Generation 18: Average Fitness is 139.99 | Max Fitness is 200.0\n",
            "Generation 19: Average Fitness is 144.17 | Max Fitness is 200.0\n",
            "Generation 20: Average Fitness is 151.47 | Max Fitness is 200.0\n",
            "Generation 21: Average Fitness is 155.51 | Max Fitness is 200.0\n",
            "Generation 22: Average Fitness is 166.35 | Max Fitness is 200.0\n",
            "Generation 23: Average Fitness is 168.77 | Max Fitness is 200.0\n",
            "Generation 24: Average Fitness is 166.1 | Max Fitness is 200.0\n",
            "Generation 25: Average Fitness is 157.92 | Max Fitness is 200.0\n",
            "Generation 26: Average Fitness is 162.8 | Max Fitness is 200.0\n",
            "Generation 27: Average Fitness is 157.07 | Max Fitness is 200.0\n",
            "Generation 28: Average Fitness is 173.93 | Max Fitness is 200.0\n",
            "Generation 29: Average Fitness is 168.44 | Max Fitness is 200.0\n",
            "CPU times: user 1min 16s, sys: 329 ms, total: 1min 17s\n",
            "Wall time: 1min 19s\n"
          ]
        }
      ],
      "source": [
        "%%time\n",
        "\n",
        "# hyperparameters for genetic algorithm\n",
        "POP_SIZE = 100  #個体の要素数\n",
        "CROSS_RATE = 0.75 #交叉する割合\n",
        "MUTATION_RATE = 0.25 #突然変異する割合\n",
        "MUTATION_FACTOR = 0.003  #突然変異するときに関係するハイパパラメータ\n",
        "N_GENERATIONS = 30 #世代数\n",
        "FITNESS_EARLY_STOP_THRESH = 196  #適応度のストップこの値を超えるとループ文をbreakする\n",
        "\n",
        "# the pytorch neural network to train\n",
        "net = nn.Sequential(nn.Linear(in_dim, 32, bias=True),  #全結合層（入力の次元数、出力の次元数、バイアスがtrueかflaseか）\n",
        "                    nn.ReLU(),                         #活性化関数ReLuを使う\n",
        "                    nn.Linear(32, 16, bias=True),      #全結合層32,中間層16,バイアスがtrueのもの\n",
        "                    nn.ReLU(),                         #活性化関数にReLU\n",
        "                    nn.Linear(16, out_dim, bias=True)).to(device)  #全結合層で入力16出力はoutputの次元数でバイアスをtrueに\n",
        "\n",
        "# get the required parameter shapes\n",
        "base = get_params(net)  #定義したネットワークのパラメータを取得。重みやバイアスがパラメータとなりbaseに格納される。\n",
        "shapes = [param.shape for param in base]    #baseから各sequentialごとのパラメータのshapeをshapesに格納する。\n",
        "\n",
        "# build a population\n",
        "pop = []           #個体を格納すpopを用意する。\n",
        "for i in range(POP_SIZE):     #popsize今回は100まで繰り返す。\n",
        "    entity = []     #全体を格納するentityを用意する\n",
        "    for shape in shapes:    #paramsのshapeが格納されている配列から１つずつ配列を取り出す。\n",
        "        # if fan in and fan out can be calculated (tensor is 2d) then using kaiming uniform initialisation\n",
        "        # as per nn.Linear\n",
        "        # otherwise use uniform initialisation between -0.5 and 0.5\n",
        "        #networkのパラメータの初期値について２つの手法で行っている。\n",
        "        try:\n",
        "            rand_tensor = nn.init.kaiming_uniform_(torch.empty(shape)).to(device)\n",
        "        except ValueError:\n",
        "            rand_tensor = nn.init.uniform_(torch.empty(shape), -0.2, 0.2).to(device)\n",
        "        entity.append((torch.nn.parameter.Parameter(rand_tensor)))  #networkのパラメータの初期値を格納する。\n",
        "    pop.append(entity)#初期値を格納したentityをpopに格納する。\n",
        "\n",
        "# whether or not to render while training (false runs code a lot faster)#コードを早く動かすためにrenderはFalseにする。\n",
        "render = False\n",
        "\n",
        "# the max episodes (200 is the environment default)\n",
        "env._max_episode_steps = 200 #最大のエピソード数は200にする。\n",
        "\n",
        "\n",
        "# train\n",
        "for i in range(N_GENERATIONS):  #世代数だけ繰り返す\n",
        "    # get fitnesses適応度を算出\n",
        "    fitnesses = np.array([fitness(entity, net, render) for entity in pop])  #fitness関数があり戻り値が報酬の合計・entityをそれぞれループ文で格納する。それをnumpyの配列の形にしてfitnessとして算出\n",
        "    # calculate average fitness of population\n",
        "    avg_fitness = fitnesses.sum()/len(fitnesses)  #平均の適応度を計算\n",
        "\n",
        "    # print info of generation\n",
        "    print(f\"Generation {i}: Average Fitness is {avg_fitness} | Max Fitness is {fitnesses.max()}\")  #世代ごとに平均の適応度、最大の適応度をprintする。\n",
        "\n",
        "    if avg_fitness > FITNESS_EARLY_STOP_THRESH:  #もしEARYstopよりも平均適応度が大きくなっていれば、すべての世代数をみずにbreakする\n",
        "        break\n",
        "    # select a new population新たな個体を選択。\n",
        "\n",
        "    fittest = pop[fitnesses.argmax()] #適応度が一番よいpopulationを選択。\n",
        "    pop = select(pop, fitnesses)      #そのpopと適応度のインデックスから新たな個体を選択するselect関数へ飛ぶ。戻り値はランダムに生成されたインデクスのpopが戻り値となる。（ランダムにpopが選択)\n",
        "    random.shuffle(pop)               #popをランダムにシャッフルする。\n",
        "    pop = pop[:-1]                    #シャッフルしたすべてのpopを取得する。\n",
        "    pop.append(fittest)               #一番適応度がよかったものをpopに結合する。\n",
        "    pop2 = list(pop)                  #配列をlistの形に変換してpop2とする。\n",
        "    # go through the population and crossover and mutate交叉と突然変異を行う。\n",
        "    for i in range(len(pop)):#popの個数分だけ繰り返す。\n",
        "        child = crossover(pop[i], pop2)#select関数の中からランダムに選択されたものを使って、新たな個体を生成するアルゴリズム\n",
        "        child = mutate(child)          #生成した子を突然変異させる。\n",
        "        pop[i] = child                 #交叉や生成、突然変異などをさせたはずの（一定の確率ではしないため）子をpopに格納する。"
      ]
    },
    {
      "cell_type": "code",
      "execution_count": null,
      "metadata": {
        "colab": {
          "background_save": true,
          "base_uri": "https://localhost:8080/"
        },
        "id": "0fp2xs7aYSCG",
        "outputId": "1a1a84c2-c126-4095-8111-2567fa528284"
      },
      "outputs": [
        {
          "name": "stderr",
          "output_type": "stream",
          "text": [
            "/usr/local/lib/python3.10/dist-packages/gym/core.py:49: DeprecationWarning: \u001b[33mWARN: You are calling render method, but you didn't specified the argument render_mode at environment initialization. To maintain backward compatibility, the environment will render in human mode.\n",
            "If you want to render in human mode, initialize the environment in this way: gym.make('EnvName', render_mode='human') and don't call the render method.\n",
            "See here for more information: https://www.gymlibrary.ml/content/api/\u001b[0m\n",
            "  deprecation(\n"
          ]
        },
        {
          "name": "stdout",
          "output_type": "stream",
          "text": [
            "Average fitness of selected entity is 224.2\n",
            "Best performance of selected entity is 456.0\n"
          ]
        }
      ],
      "source": [
        "env._max_episode_steps = 300\n",
        "\n",
        "fitnesses = np.array([fitness(entity, net, render) for entity in pop])\n",
        "fittest = np.argmax(fitnesses)\n",
        "\n",
        "env._max_episode_steps = 1000\n",
        "\n",
        "test_fitnesses = []\n",
        "for _ in range(10):\n",
        "    test_fitnesses.append(fitness(pop[fittest], net, True))\n",
        "\n",
        "print(f\"Average fitness of selected entity is {sum(test_fitnesses)/len(test_fitnesses)}\")\n",
        "print(f\"Best performance of selected entity is {max(test_fitnesses)}\")"
      ]
    },
    {
      "cell_type": "code",
      "execution_count": null,
      "metadata": {
        "colab": {
          "base_uri": "https://localhost:8080/"
        },
        "id": "bnZ07vgF10JA",
        "outputId": "2d774a0d-958e-4355-feaa-ddcd392a8ab7"
      },
      "outputs": [
        {
          "name": "stderr",
          "output_type": "stream",
          "text": [
            "/usr/local/lib/python3.10/dist-packages/ipykernel/ipkernel.py:283: DeprecationWarning: `should_run_async` will not call `transform_cell` automatically in the future. Please pass the result to `transformed_cell` argument and any exception that happen during thetransform in `preprocessing_exc_tuple` in IPython 7.17 and above.\n",
            "  and should_run_async(code)\n"
          ]
        },
        {
          "name": "stdout",
          "output_type": "stream",
          "text": [
            "Requirement already satisfied: gym in /usr/local/lib/python3.10/dist-packages (0.25.2)\n",
            "Requirement already satisfied: numpy>=1.18.0 in /usr/local/lib/python3.10/dist-packages (from gym) (1.25.2)\n",
            "Requirement already satisfied: cloudpickle>=1.2.0 in /usr/local/lib/python3.10/dist-packages (from gym) (2.2.1)\n",
            "Requirement already satisfied: gym-notices>=0.0.4 in /usr/local/lib/python3.10/dist-packages (from gym) (0.0.8)\n"
          ]
        }
      ],
      "source": [
        "!pip install gym"
      ]
    },
    {
      "cell_type": "code",
      "execution_count": null,
      "metadata": {
        "id": "818YXLwr2Bn3"
      },
      "outputs": [],
      "source": []
    }
  ],
  "metadata": {
    "colab": {
      "provenance": []
    },
    "kernelspec": {
      "display_name": "Python 3",
      "language": "python",
      "name": "python3"
    },
    "language_info": {
      "codemirror_mode": {
        "name": "ipython",
        "version": 3
      },
      "file_extension": ".py",
      "mimetype": "text/x-python",
      "name": "python",
      "nbconvert_exporter": "python",
      "pygments_lexer": "ipython3",
      "version": "3.7.10"
    }
  },
  "nbformat": 4,
  "nbformat_minor": 0
}